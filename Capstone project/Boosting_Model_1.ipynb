{
 "cells": [
  {
   "cell_type": "markdown",
   "id": "41d9c7cf",
   "metadata": {},
   "source": [
    "<table align=\"left\" width=100%>\n",
    "    <tr>\n",
    "        <td width=\"20%\">\n",
    "            <img src=\"GL-2.png\">\n",
    "        </td>\n",
    "        <td>\n",
    "            <div align=\"center\">\n",
    "                <font color=\"#21618C\" size=8px>\n",
    "                  <b> Capstone Project <br> Notebook_5  </b>\n",
    "                </font>\n",
    "            </div>\n",
    "        </td>\n",
    "    </tr>\n",
    "</table>"
   ]
  },
  {
   "cell_type": "code",
   "execution_count": 1,
   "id": "9bd14c81",
   "metadata": {},
   "outputs": [],
   "source": [
    "# import 'Pandas' \n",
    "import pandas as pd \n",
    "\n",
    "# import 'Numpy' \n",
    "import numpy as np\n",
    "\n",
    "# import subpackage of Matplotlib\n",
    "import matplotlib.pyplot as plt\n",
    "from matplotlib.colors import ListedColormap\n",
    "\n",
    "# import 'Seaborn' \n",
    "import seaborn as sns\n",
    "\n",
    "# to suppress warnings \n",
    "from warnings import filterwarnings\n",
    "filterwarnings('ignore')\n",
    "\n",
    "# display all columns of the dataframe\n",
    "pd.options.display.max_columns = None\n",
    "\n",
    "# display all rows of the dataframe\n",
    "pd.options.display.max_rows = None\n",
    " \n",
    "# to display the float values upto 6 decimal places     \n",
    "pd.options.display.float_format = '{:.6f}'.format\n",
    "\n",
    "import statsmodels\n",
    "import statsmodels.api as sm\n",
    "\n",
    "# import train-test split \n",
    "from sklearn.model_selection import train_test_split\n",
    "\n",
    "# import StandardScaler to perform scaling\n",
    "from sklearn.preprocessing import StandardScaler \n",
    "\n",
    "# import various functions from sklearn\n",
    "from sklearn.metrics import classification_report\n",
    "from sklearn.metrics import confusion_matrix\n",
    "from sklearn.metrics import roc_curve\n",
    "from sklearn.metrics import roc_auc_score\n",
    "from sklearn.ensemble import AdaBoostClassifier\n",
    "from sklearn.ensemble import GradientBoostingClassifier\n",
    "from sklearn.model_selection import GridSearchCV\n",
    "from sklearn.ensemble import StackingClassifier\n",
    "from sklearn.ensemble import RandomForestClassifier\n",
    "from sklearn.neighbors import KNeighborsClassifier\n",
    "from sklearn.naive_bayes import GaussianNB\n",
    "\n",
    "# import the XGBoost function for classification\n",
    "from xgboost import XGBClassifier\n",
    "\n",
    "from sklearn.discriminant_analysis import LinearDiscriminantAnalysis as LDA\n"
   ]
  },
  {
   "cell_type": "code",
   "execution_count": 2,
   "id": "e23eedc9",
   "metadata": {},
   "outputs": [
    {
     "data": {
      "text/html": [
       "<div>\n",
       "<style scoped>\n",
       "    .dataframe tbody tr th:only-of-type {\n",
       "        vertical-align: middle;\n",
       "    }\n",
       "\n",
       "    .dataframe tbody tr th {\n",
       "        vertical-align: top;\n",
       "    }\n",
       "\n",
       "    .dataframe thead th {\n",
       "        text-align: right;\n",
       "    }\n",
       "</style>\n",
       "<table border=\"1\" class=\"dataframe\">\n",
       "  <thead>\n",
       "    <tr style=\"text-align: right;\">\n",
       "      <th></th>\n",
       "      <th>Churn</th>\n",
       "      <th>MonthlyRevenue</th>\n",
       "      <th>MonthlyMinutes</th>\n",
       "      <th>TotalRecurringCharge</th>\n",
       "      <th>DirectorAssistedCalls</th>\n",
       "      <th>OverageMinutes</th>\n",
       "      <th>RoamingCalls</th>\n",
       "      <th>PercChangeMinutes</th>\n",
       "      <th>PercChangeRevenues</th>\n",
       "      <th>DroppedCalls</th>\n",
       "      <th>BlockedCalls</th>\n",
       "      <th>UnansweredCalls</th>\n",
       "      <th>CustomerCareCalls</th>\n",
       "      <th>ThreewayCalls</th>\n",
       "      <th>ReceivedCalls</th>\n",
       "      <th>OutboundCalls</th>\n",
       "      <th>InboundCalls</th>\n",
       "      <th>PeakCallsInOut</th>\n",
       "      <th>OffPeakCallsInOut</th>\n",
       "      <th>DroppedBlockedCalls</th>\n",
       "      <th>CallForwardingCalls</th>\n",
       "      <th>CallWaitingCalls</th>\n",
       "      <th>MonthsInService</th>\n",
       "      <th>UniqueSubs</th>\n",
       "      <th>ActiveSubs</th>\n",
       "      <th>Handsets</th>\n",
       "      <th>HandsetModels</th>\n",
       "      <th>CurrentEquipmentDays</th>\n",
       "      <th>AgeHH1</th>\n",
       "      <th>AgeHH2</th>\n",
       "      <th>RetentionCalls</th>\n",
       "      <th>RetentionOffersAccepted</th>\n",
       "      <th>ReferralsMadeBySubscriber</th>\n",
       "      <th>AdjustmentsToCreditRating</th>\n",
       "      <th>ChildrenInHH_Yes</th>\n",
       "      <th>HandsetRefurbished_Yes</th>\n",
       "      <th>HandsetWebCapable_Yes</th>\n",
       "      <th>TruckOwner_Yes</th>\n",
       "      <th>RVOwner_Yes</th>\n",
       "      <th>Homeownership_Unknown</th>\n",
       "      <th>BuysViaMailOrder_Yes</th>\n",
       "      <th>RespondsToMailOffers_Yes</th>\n",
       "      <th>OptOutMailings_Yes</th>\n",
       "      <th>NonUSTravel_Yes</th>\n",
       "      <th>OwnsComputer_Yes</th>\n",
       "      <th>HasCreditCard_Yes</th>\n",
       "      <th>NewCellphoneUser_Yes</th>\n",
       "      <th>IncomeGroup_Low income</th>\n",
       "      <th>IncomeGroup_Medium income</th>\n",
       "      <th>OwnsMotorcycle_Yes</th>\n",
       "      <th>MadeCallToRetentionTeam_Yes</th>\n",
       "      <th>CreditRating_Low</th>\n",
       "      <th>CreditRating_Medium</th>\n",
       "      <th>PrizmCode_Rural</th>\n",
       "      <th>PrizmCode_Suburban</th>\n",
       "      <th>PrizmCode_Town</th>\n",
       "      <th>Occupation_Professional</th>\n",
       "      <th>New_maritalstatus_Yes</th>\n",
       "    </tr>\n",
       "  </thead>\n",
       "  <tbody>\n",
       "    <tr>\n",
       "      <th>0</th>\n",
       "      <td>1</td>\n",
       "      <td>-1.089034</td>\n",
       "      <td>-0.422798</td>\n",
       "      <td>-1.125036</td>\n",
       "      <td>-0.044197</td>\n",
       "      <td>-0.995504</td>\n",
       "      <td>-0.621914</td>\n",
       "      <td>-0.566549</td>\n",
       "      <td>-0.450622</td>\n",
       "      <td>-0.889336</td>\n",
       "      <td>-0.306586</td>\n",
       "      <td>-0.568253</td>\n",
       "      <td>-0.824996</td>\n",
       "      <td>-0.604886</td>\n",
       "      <td>0.460593</td>\n",
       "      <td>-1.610162</td>\n",
       "      <td>-1.182049</td>\n",
       "      <td>0.012439</td>\n",
       "      <td>-0.218215</td>\n",
       "      <td>-0.899446</td>\n",
       "      <td>-0.068108</td>\n",
       "      <td>-0.150674</td>\n",
       "      <td>2.477643</td>\n",
       "      <td>1.165226</td>\n",
       "      <td>-0.581885</td>\n",
       "      <td>0.807270</td>\n",
       "      <td>1.119678</td>\n",
       "      <td>0.107745</td>\n",
       "      <td>1.172978</td>\n",
       "      <td>-0.940475</td>\n",
       "      <td>5.452813</td>\n",
       "      <td>-0.132239</td>\n",
       "      <td>-0.221591</td>\n",
       "      <td>-0.192672</td>\n",
       "      <td>0</td>\n",
       "      <td>0</td>\n",
       "      <td>1</td>\n",
       "      <td>0</td>\n",
       "      <td>0</td>\n",
       "      <td>0</td>\n",
       "      <td>1</td>\n",
       "      <td>1</td>\n",
       "      <td>0</td>\n",
       "      <td>0</td>\n",
       "      <td>1</td>\n",
       "      <td>1</td>\n",
       "      <td>0</td>\n",
       "      <td>0</td>\n",
       "      <td>1</td>\n",
       "      <td>0</td>\n",
       "      <td>1</td>\n",
       "      <td>0</td>\n",
       "      <td>0</td>\n",
       "      <td>0</td>\n",
       "      <td>1</td>\n",
       "      <td>0</td>\n",
       "      <td>1</td>\n",
       "      <td>0</td>\n",
       "    </tr>\n",
       "    <tr>\n",
       "      <th>1</th>\n",
       "      <td>1</td>\n",
       "      <td>-1.556158</td>\n",
       "      <td>-1.937776</td>\n",
       "      <td>-1.450779</td>\n",
       "      <td>-0.912074</td>\n",
       "      <td>-0.995504</td>\n",
       "      <td>-0.621914</td>\n",
       "      <td>0.018886</td>\n",
       "      <td>0.088432</td>\n",
       "      <td>-1.200278</td>\n",
       "      <td>-1.216280</td>\n",
       "      <td>-1.013639</td>\n",
       "      <td>-0.824996</td>\n",
       "      <td>-0.604886</td>\n",
       "      <td>-1.600850</td>\n",
       "      <td>-1.610162</td>\n",
       "      <td>-1.182049</td>\n",
       "      <td>-1.319026</td>\n",
       "      <td>-1.537118</td>\n",
       "      <td>-1.429573</td>\n",
       "      <td>-0.068108</td>\n",
       "      <td>-0.897074</td>\n",
       "      <td>2.388088</td>\n",
       "      <td>-0.760155</td>\n",
       "      <td>-0.581885</td>\n",
       "      <td>0.807270</td>\n",
       "      <td>-0.767089</td>\n",
       "      <td>3.053676</td>\n",
       "      <td>0.489551</td>\n",
       "      <td>1.056411</td>\n",
       "      <td>-0.183392</td>\n",
       "      <td>-0.132239</td>\n",
       "      <td>-0.221591</td>\n",
       "      <td>-0.192672</td>\n",
       "      <td>1</td>\n",
       "      <td>0</td>\n",
       "      <td>0</td>\n",
       "      <td>0</td>\n",
       "      <td>0</td>\n",
       "      <td>0</td>\n",
       "      <td>1</td>\n",
       "      <td>1</td>\n",
       "      <td>0</td>\n",
       "      <td>0</td>\n",
       "      <td>1</td>\n",
       "      <td>1</td>\n",
       "      <td>1</td>\n",
       "      <td>0</td>\n",
       "      <td>1</td>\n",
       "      <td>0</td>\n",
       "      <td>0</td>\n",
       "      <td>0</td>\n",
       "      <td>1</td>\n",
       "      <td>0</td>\n",
       "      <td>1</td>\n",
       "      <td>0</td>\n",
       "      <td>1</td>\n",
       "      <td>1</td>\n",
       "    </tr>\n",
       "    <tr>\n",
       "      <th>2</th>\n",
       "      <td>0</td>\n",
       "      <td>-0.420564</td>\n",
       "      <td>-1.998448</td>\n",
       "      <td>-0.272519</td>\n",
       "      <td>-0.912074</td>\n",
       "      <td>-0.995504</td>\n",
       "      <td>-0.621914</td>\n",
       "      <td>0.026624</td>\n",
       "      <td>0.088432</td>\n",
       "      <td>-1.515686</td>\n",
       "      <td>-1.216280</td>\n",
       "      <td>-1.760480</td>\n",
       "      <td>-0.824996</td>\n",
       "      <td>-0.604886</td>\n",
       "      <td>-1.495143</td>\n",
       "      <td>-1.466096</td>\n",
       "      <td>-1.182049</td>\n",
       "      <td>-1.665568</td>\n",
       "      <td>-1.154741</td>\n",
       "      <td>-1.675080</td>\n",
       "      <td>-0.068108</td>\n",
       "      <td>-0.897074</td>\n",
       "      <td>2.448340</td>\n",
       "      <td>-0.760155</td>\n",
       "      <td>-0.581885</td>\n",
       "      <td>-0.850485</td>\n",
       "      <td>-0.767089</td>\n",
       "      <td>3.614747</td>\n",
       "      <td>-0.022125</td>\n",
       "      <td>0.852418</td>\n",
       "      <td>-0.183392</td>\n",
       "      <td>-0.132239</td>\n",
       "      <td>-0.221591</td>\n",
       "      <td>-0.192672</td>\n",
       "      <td>1</td>\n",
       "      <td>0</td>\n",
       "      <td>0</td>\n",
       "      <td>0</td>\n",
       "      <td>0</td>\n",
       "      <td>1</td>\n",
       "      <td>0</td>\n",
       "      <td>0</td>\n",
       "      <td>0</td>\n",
       "      <td>0</td>\n",
       "      <td>0</td>\n",
       "      <td>1</td>\n",
       "      <td>1</td>\n",
       "      <td>0</td>\n",
       "      <td>1</td>\n",
       "      <td>0</td>\n",
       "      <td>0</td>\n",
       "      <td>0</td>\n",
       "      <td>1</td>\n",
       "      <td>0</td>\n",
       "      <td>0</td>\n",
       "      <td>1</td>\n",
       "      <td>1</td>\n",
       "      <td>1</td>\n",
       "    </tr>\n",
       "    <tr>\n",
       "      <th>3</th>\n",
       "      <td>0</td>\n",
       "      <td>0.826362</td>\n",
       "      <td>1.392611</td>\n",
       "      <td>1.180063</td>\n",
       "      <td>1.170112</td>\n",
       "      <td>-0.995504</td>\n",
       "      <td>-0.621914</td>\n",
       "      <td>0.655061</td>\n",
       "      <td>0.284291</td>\n",
       "      <td>2.228625</td>\n",
       "      <td>1.290204</td>\n",
       "      <td>1.349529</td>\n",
       "      <td>1.501970</td>\n",
       "      <td>1.946418</td>\n",
       "      <td>0.941048</td>\n",
       "      <td>2.908416</td>\n",
       "      <td>2.064116</td>\n",
       "      <td>2.505608</td>\n",
       "      <td>1.813093</td>\n",
       "      <td>2.044460</td>\n",
       "      <td>-0.068108</td>\n",
       "      <td>1.849625</td>\n",
       "      <td>2.418494</td>\n",
       "      <td>1.165226</td>\n",
       "      <td>1.348420</td>\n",
       "      <td>1.895246</td>\n",
       "      <td>1.700472</td>\n",
       "      <td>0.466880</td>\n",
       "      <td>0.132730</td>\n",
       "      <td>-0.940475</td>\n",
       "      <td>-0.183392</td>\n",
       "      <td>-0.132239</td>\n",
       "      <td>-0.221591</td>\n",
       "      <td>-0.192672</td>\n",
       "      <td>0</td>\n",
       "      <td>0</td>\n",
       "      <td>1</td>\n",
       "      <td>0</td>\n",
       "      <td>0</td>\n",
       "      <td>0</td>\n",
       "      <td>1</td>\n",
       "      <td>1</td>\n",
       "      <td>0</td>\n",
       "      <td>0</td>\n",
       "      <td>0</td>\n",
       "      <td>1</td>\n",
       "      <td>1</td>\n",
       "      <td>0</td>\n",
       "      <td>1</td>\n",
       "      <td>0</td>\n",
       "      <td>0</td>\n",
       "      <td>0</td>\n",
       "      <td>1</td>\n",
       "      <td>0</td>\n",
       "      <td>0</td>\n",
       "      <td>0</td>\n",
       "      <td>0</td>\n",
       "      <td>0</td>\n",
       "    </tr>\n",
       "    <tr>\n",
       "      <th>4</th>\n",
       "      <td>1</td>\n",
       "      <td>-1.544648</td>\n",
       "      <td>-2.469987</td>\n",
       "      <td>-1.450779</td>\n",
       "      <td>-0.912074</td>\n",
       "      <td>-0.995504</td>\n",
       "      <td>-0.621914</td>\n",
       "      <td>0.034384</td>\n",
       "      <td>0.083251</td>\n",
       "      <td>-1.515686</td>\n",
       "      <td>-1.216280</td>\n",
       "      <td>-1.760480</td>\n",
       "      <td>-0.824996</td>\n",
       "      <td>-0.604886</td>\n",
       "      <td>-1.600850</td>\n",
       "      <td>-1.610162</td>\n",
       "      <td>-1.182049</td>\n",
       "      <td>-1.898531</td>\n",
       "      <td>-1.807759</td>\n",
       "      <td>-1.675080</td>\n",
       "      <td>-0.068108</td>\n",
       "      <td>-0.897074</td>\n",
       "      <td>2.226882</td>\n",
       "      <td>1.165226</td>\n",
       "      <td>1.348420</td>\n",
       "      <td>1.594044</td>\n",
       "      <td>1.552675</td>\n",
       "      <td>1.628558</td>\n",
       "      <td>0.687544</td>\n",
       "      <td>1.160087</td>\n",
       "      <td>-0.183392</td>\n",
       "      <td>-0.132239</td>\n",
       "      <td>-0.221591</td>\n",
       "      <td>5.190155</td>\n",
       "      <td>0</td>\n",
       "      <td>0</td>\n",
       "      <td>0</td>\n",
       "      <td>0</td>\n",
       "      <td>0</td>\n",
       "      <td>0</td>\n",
       "      <td>1</td>\n",
       "      <td>1</td>\n",
       "      <td>0</td>\n",
       "      <td>0</td>\n",
       "      <td>1</td>\n",
       "      <td>1</td>\n",
       "      <td>0</td>\n",
       "      <td>1</td>\n",
       "      <td>0</td>\n",
       "      <td>0</td>\n",
       "      <td>0</td>\n",
       "      <td>0</td>\n",
       "      <td>0</td>\n",
       "      <td>0</td>\n",
       "      <td>0</td>\n",
       "      <td>0</td>\n",
       "      <td>1</td>\n",
       "      <td>1</td>\n",
       "    </tr>\n",
       "  </tbody>\n",
       "</table>\n",
       "</div>"
      ],
      "text/plain": [
       "   Churn  MonthlyRevenue  MonthlyMinutes  TotalRecurringCharge  \\\n",
       "0      1       -1.089034       -0.422798             -1.125036   \n",
       "1      1       -1.556158       -1.937776             -1.450779   \n",
       "2      0       -0.420564       -1.998448             -0.272519   \n",
       "3      0        0.826362        1.392611              1.180063   \n",
       "4      1       -1.544648       -2.469987             -1.450779   \n",
       "\n",
       "   DirectorAssistedCalls  OverageMinutes  RoamingCalls  PercChangeMinutes  \\\n",
       "0              -0.044197       -0.995504     -0.621914          -0.566549   \n",
       "1              -0.912074       -0.995504     -0.621914           0.018886   \n",
       "2              -0.912074       -0.995504     -0.621914           0.026624   \n",
       "3               1.170112       -0.995504     -0.621914           0.655061   \n",
       "4              -0.912074       -0.995504     -0.621914           0.034384   \n",
       "\n",
       "   PercChangeRevenues  DroppedCalls  BlockedCalls  UnansweredCalls  \\\n",
       "0           -0.450622     -0.889336     -0.306586        -0.568253   \n",
       "1            0.088432     -1.200278     -1.216280        -1.013639   \n",
       "2            0.088432     -1.515686     -1.216280        -1.760480   \n",
       "3            0.284291      2.228625      1.290204         1.349529   \n",
       "4            0.083251     -1.515686     -1.216280        -1.760480   \n",
       "\n",
       "   CustomerCareCalls  ThreewayCalls  ReceivedCalls  OutboundCalls  \\\n",
       "0          -0.824996      -0.604886       0.460593      -1.610162   \n",
       "1          -0.824996      -0.604886      -1.600850      -1.610162   \n",
       "2          -0.824996      -0.604886      -1.495143      -1.466096   \n",
       "3           1.501970       1.946418       0.941048       2.908416   \n",
       "4          -0.824996      -0.604886      -1.600850      -1.610162   \n",
       "\n",
       "   InboundCalls  PeakCallsInOut  OffPeakCallsInOut  DroppedBlockedCalls  \\\n",
       "0     -1.182049        0.012439          -0.218215            -0.899446   \n",
       "1     -1.182049       -1.319026          -1.537118            -1.429573   \n",
       "2     -1.182049       -1.665568          -1.154741            -1.675080   \n",
       "3      2.064116        2.505608           1.813093             2.044460   \n",
       "4     -1.182049       -1.898531          -1.807759            -1.675080   \n",
       "\n",
       "   CallForwardingCalls  CallWaitingCalls  MonthsInService  UniqueSubs  \\\n",
       "0            -0.068108         -0.150674         2.477643    1.165226   \n",
       "1            -0.068108         -0.897074         2.388088   -0.760155   \n",
       "2            -0.068108         -0.897074         2.448340   -0.760155   \n",
       "3            -0.068108          1.849625         2.418494    1.165226   \n",
       "4            -0.068108         -0.897074         2.226882    1.165226   \n",
       "\n",
       "   ActiveSubs  Handsets  HandsetModels  CurrentEquipmentDays    AgeHH1  \\\n",
       "0   -0.581885  0.807270       1.119678              0.107745  1.172978   \n",
       "1   -0.581885  0.807270      -0.767089              3.053676  0.489551   \n",
       "2   -0.581885 -0.850485      -0.767089              3.614747 -0.022125   \n",
       "3    1.348420  1.895246       1.700472              0.466880  0.132730   \n",
       "4    1.348420  1.594044       1.552675              1.628558  0.687544   \n",
       "\n",
       "     AgeHH2  RetentionCalls  RetentionOffersAccepted  \\\n",
       "0 -0.940475        5.452813                -0.132239   \n",
       "1  1.056411       -0.183392                -0.132239   \n",
       "2  0.852418       -0.183392                -0.132239   \n",
       "3 -0.940475       -0.183392                -0.132239   \n",
       "4  1.160087       -0.183392                -0.132239   \n",
       "\n",
       "   ReferralsMadeBySubscriber  AdjustmentsToCreditRating  ChildrenInHH_Yes  \\\n",
       "0                  -0.221591                  -0.192672                 0   \n",
       "1                  -0.221591                  -0.192672                 1   \n",
       "2                  -0.221591                  -0.192672                 1   \n",
       "3                  -0.221591                  -0.192672                 0   \n",
       "4                  -0.221591                   5.190155                 0   \n",
       "\n",
       "   HandsetRefurbished_Yes  HandsetWebCapable_Yes  TruckOwner_Yes  RVOwner_Yes  \\\n",
       "0                       0                      1               0            0   \n",
       "1                       0                      0               0            0   \n",
       "2                       0                      0               0            0   \n",
       "3                       0                      1               0            0   \n",
       "4                       0                      0               0            0   \n",
       "\n",
       "   Homeownership_Unknown  BuysViaMailOrder_Yes  RespondsToMailOffers_Yes  \\\n",
       "0                      0                     1                         1   \n",
       "1                      0                     1                         1   \n",
       "2                      1                     0                         0   \n",
       "3                      0                     1                         1   \n",
       "4                      0                     1                         1   \n",
       "\n",
       "   OptOutMailings_Yes  NonUSTravel_Yes  OwnsComputer_Yes  HasCreditCard_Yes  \\\n",
       "0                   0                0                 1                  1   \n",
       "1                   0                0                 1                  1   \n",
       "2                   0                0                 0                  1   \n",
       "3                   0                0                 0                  1   \n",
       "4                   0                0                 1                  1   \n",
       "\n",
       "   NewCellphoneUser_Yes  IncomeGroup_Low income  IncomeGroup_Medium income  \\\n",
       "0                     0                       0                          1   \n",
       "1                     1                       0                          1   \n",
       "2                     1                       0                          1   \n",
       "3                     1                       0                          1   \n",
       "4                     0                       1                          0   \n",
       "\n",
       "   OwnsMotorcycle_Yes  MadeCallToRetentionTeam_Yes  CreditRating_Low  \\\n",
       "0                   0                            1                 0   \n",
       "1                   0                            0                 0   \n",
       "2                   0                            0                 0   \n",
       "3                   0                            0                 0   \n",
       "4                   0                            0                 0   \n",
       "\n",
       "   CreditRating_Medium  PrizmCode_Rural  PrizmCode_Suburban  PrizmCode_Town  \\\n",
       "0                    0                0                   1               0   \n",
       "1                    1                0                   1               0   \n",
       "2                    1                0                   0               1   \n",
       "3                    1                0                   0               0   \n",
       "4                    0                0                   0               0   \n",
       "\n",
       "   Occupation_Professional  New_maritalstatus_Yes  \n",
       "0                        1                      0  \n",
       "1                        1                      1  \n",
       "2                        1                      1  \n",
       "3                        0                      0  \n",
       "4                        1                      1  "
      ]
     },
     "execution_count": 2,
     "metadata": {},
     "output_type": "execute_result"
    }
   ],
   "source": [
    "df = pd.read_csv('data_eda_1.csv',index_col=0)\n",
    "df.head()"
   ]
  },
  {
   "cell_type": "code",
   "execution_count": 3,
   "id": "a86d6210",
   "metadata": {},
   "outputs": [],
   "source": [
    "df.reset_index(inplace=True, drop=True)"
   ]
  },
  {
   "cell_type": "markdown",
   "id": "4af9b29c",
   "metadata": {},
   "source": [
    "### Split the dependent and independent variables"
   ]
  },
  {
   "cell_type": "code",
   "execution_count": 4,
   "id": "e22d9e16",
   "metadata": {},
   "outputs": [],
   "source": [
    "# store the target variable 'Loan Status' in a dataframe 'df_target'\n",
    "df_target = df['Churn']\n",
    "\n",
    "# store all the independent variables in a dataframe 'df_feature' \n",
    "# drop the column 'Loan Status' using drop()\n",
    "# 'axis = 1' drops the specified column\n",
    "df_features = df.drop('Churn', axis = 1)"
   ]
  },
  {
   "cell_type": "markdown",
   "id": "b5f81822",
   "metadata": {},
   "source": [
    "## Train-Test Split"
   ]
  },
  {
   "cell_type": "markdown",
   "id": "b24dc3c1",
   "metadata": {},
   "source": [
    "Before applying various classification techniques to predict the Churn, let us split the dataset in train and test set."
   ]
  },
  {
   "cell_type": "code",
   "execution_count": 5,
   "id": "25194a07",
   "metadata": {},
   "outputs": [
    {
     "name": "stdout",
     "output_type": "stream",
     "text": [
      "x_train:  (35475, 57)\n",
      "y_train:  (35475,)\n",
      "x_test:  (15204, 57)\n",
      "y_test:  (15204,)\n"
     ]
    }
   ],
   "source": [
    "# split data into train subset and test subset\n",
    "# set 'random_state' to generate the same dataset each time you run the code \n",
    "# 'test_size' returns the proportion of data to be included in the testing set\n",
    "X_train, X_test ,y_train ,y_test = train_test_split(df_features,df_target, random_state=10, test_size=0.3)\n",
    "\n",
    "# check the dimensions of the train & test subset using 'shape'\n",
    "# print dimension of train set\n",
    "print('x_train: ',X_train.shape)\n",
    "print('y_train: ',y_train.shape)\n",
    "\n",
    "# print dimension of test set\n",
    "print('x_test: ',X_test.shape)\n",
    "print('y_test: ',y_test.shape)"
   ]
  },
  {
   "cell_type": "code",
   "execution_count": null,
   "id": "edba02ef",
   "metadata": {},
   "outputs": [],
   "source": []
  },
  {
   "cell_type": "markdown",
   "id": "743c663e",
   "metadata": {
    "id": "uWi1LS05EjXq"
   },
   "source": [
    "#### Create a generalized function to calculate the metrics for the test set."
   ]
  },
  {
   "cell_type": "code",
   "execution_count": 6,
   "id": "56b13aaa",
   "metadata": {},
   "outputs": [],
   "source": [
    "# create a generalized function to calculate the metrics values for train set\n",
    "def get_train_report(model):\n",
    "    \n",
    "    # for training set:\n",
    "    # train_pred: prediction made by the model on the train dataset 'X_train'\n",
    "    # y_train: actual values of the target variable for the train dataset\n",
    "\n",
    "    # predict the output of the target variable from the train data \n",
    "    train_pred = model.predict(X_train)\n",
    "\n",
    "    # return the performace measures on train set\n",
    "    return(classification_report(y_train, train_pred))"
   ]
  },
  {
   "cell_type": "code",
   "execution_count": 7,
   "id": "1eba79b7",
   "metadata": {
    "id": "M_zT733VEjXq"
   },
   "outputs": [],
   "source": [
    "# create a generalized function to calculate the metrics values for test set\n",
    "def get_test_report(model):\n",
    "    \n",
    "    # for train set:\n",
    "    # test_pred: prediction made by the model on the test dataset 'X_test'\n",
    "    # y_test: actual values of the target variable for the test dataset\n",
    "\n",
    "    # predict the output of the target variable from the test data \n",
    "    test_pred = model.predict(X_test)\n",
    "\n",
    "    # return the classification report for test data\n",
    "    return(classification_report(y_test, test_pred))"
   ]
  },
  {
   "cell_type": "markdown",
   "id": "e81a1ec2",
   "metadata": {
    "id": "yGt9cC2lEjXr"
   },
   "source": [
    "#### Plot the confusion matrix."
   ]
  },
  {
   "cell_type": "code",
   "execution_count": 8,
   "id": "789a8d72",
   "metadata": {
    "id": "Av39nL7SebpS"
   },
   "outputs": [],
   "source": [
    "def plot_confusion_matrix(model):\n",
    "    y_pred = model.predict(X_test)\n",
    "    \n",
    "    # create a confusion matrix\n",
    "    # pass the actual and predicted target values to the confusion_matrix()\n",
    "    cm = confusion_matrix(y_test, y_pred)\n",
    "\n",
    "    # label the confusion matrix  \n",
    "    # pass the matrix as 'data'\n",
    "    # pass the required column names to the parameter, 'columns'\n",
    "    # pass the required row names to the parameter, 'index'\n",
    "    conf_matrix = pd.DataFrame(data = cm,columns = ['Predicted:0','Predicted:1'], index = ['Actual:0','Actual:1'])\n",
    "\n",
    "    # plot a heatmap to visualize the confusion matrix\n",
    "    # 'annot' prints the value of each grid \n",
    "    # 'fmt = d' returns the integer value in each grid\n",
    "    # 'cmap' assigns color to each grid\n",
    "    # as we do not require different colors for each grid in the heatmap,\n",
    "    # use 'ListedColormap' to assign the specified color to the grid\n",
    "    # 'cbar = False' will not return the color bar to the right side of the heatmap\n",
    "    # 'linewidths' assigns the width to the line that divides each grid\n",
    "    # 'annot_kws = {'size':25})' assigns the font size of the annotated text \n",
    "    sns.heatmap(conf_matrix, annot = True, fmt = 'd', cmap = ListedColormap(['lightskyblue']), cbar = False, \n",
    "                linewidths = 0.1, annot_kws = {'size':25})\n",
    "\n",
    "    # set the font size of x-axis ticks using 'fontsize'\n",
    "    plt.xticks(fontsize = 20)\n",
    "\n",
    "    # set the font size of y-axis ticks using 'fontsize'\n",
    "    plt.yticks(fontsize = 20)\n",
    "\n",
    "    # display the plot\n",
    "    plt.show()"
   ]
  },
  {
   "cell_type": "markdown",
   "id": "fe18f73d",
   "metadata": {
    "id": "mFjaeCsREjXs"
   },
   "source": [
    "#### Plot the ROC curve.\n",
    "\n",
    "ROC curve is plotted with the true positive rate (tpr) on the y-axis and false positive rate (fpr) on the x-axis. The area under this curve is used as a measure of the separability of the model."
   ]
  },
  {
   "cell_type": "code",
   "execution_count": 9,
   "id": "5959cd9e",
   "metadata": {
    "id": "SmUS6hEaEjXt"
   },
   "outputs": [],
   "source": [
    "def plot_roc(model):\n",
    "    y_pred_prob = model.predict_proba(X_test)[:,1]\n",
    "    \n",
    "    # the roc_curve() returns the values for false positive rate, true positive rate and threshold\n",
    "    # pass the actual target values and predicted probabilities to the function\n",
    "    fpr, tpr, thresholds = roc_curve(y_test, y_pred_prob)\n",
    "\n",
    "    # plot the ROC curve\n",
    "    plt.plot(fpr, tpr)\n",
    "\n",
    "    # set limits for x and y axes\n",
    "    plt.xlim([0.0, 1.0])\n",
    "    plt.ylim([0.0, 1.0])\n",
    "\n",
    "    # plot the straight line showing worst prediction for the model\n",
    "    plt.plot([0, 1], [0, 1],'r--')\n",
    "\n",
    "    # add plot and axes labels\n",
    "    # set text size using 'fontsize'\n",
    "    plt.title('ROC curve  Classifier', fontsize = 15)\n",
    "    plt.xlabel('False positive rate (1-Specificity)', fontsize = 15)\n",
    "    plt.ylabel('True positive rate (Sensitivity)', fontsize = 15)\n",
    "\n",
    "    # add the AUC score to the plot\n",
    "    # 'x' and 'y' gives position of the text\n",
    "    # 's' is the text \n",
    "    # use round() to round-off the AUC score upto 4 digits\n",
    "    plt.text(x = 0.82, y = 0.3, s = ('AUC Score:',round(roc_auc_score(y_test, y_pred_prob),4)))\n",
    "\n",
    "    # plot the grid\n",
    "    plt.grid(True)"
   ]
  },
  {
   "cell_type": "markdown",
   "id": "47a7df9b",
   "metadata": {
    "id": "ps8-S3nHEjXu"
   },
   "source": [
    "<a id=\"boosting\"></a>\n",
    "# 3. Boosting Methods"
   ]
  },
  {
   "cell_type": "markdown",
   "id": "8e4ee9eb",
   "metadata": {
    "id": "0w5GvDshEjXv"
   },
   "source": [
    "The Ensemble technique considers multiple models for predicting the results. `Bagging` and `Boosting` are two of the types of ensembles. The bagging methods construct the multiple models in parallel; whereas, the boosting methods construct the models sequentially.\n",
    "\n",
    "Earlier, we have studied one of the bagging (bootstrap aggregating) technique i.e. `Random Forest`."
   ]
  },
  {
   "cell_type": "markdown",
   "id": "43340afe",
   "metadata": {
    "id": "TQ7xVPG3EjXv"
   },
   "source": [
    "The boosting method fits multiple weak classifiers to create a strong classifier. In this method, the model tries to correct the errors in the previous model. In this section, we learn some of the boosting methods such as `AdaBoost`, `Gradient Boosting` and `XGBoost`."
   ]
  },
  {
   "cell_type": "markdown",
   "id": "d72462ea",
   "metadata": {
    "id": "bCrnp_FsEjXw"
   },
   "source": [
    "<a id=\"ada\"></a>\n",
    "## 3.1 AdaBoost"
   ]
  },
  {
   "cell_type": "markdown",
   "id": "8745f5ec",
   "metadata": {
    "id": "fYpiA9nrEjXx"
   },
   "source": [
    "Let us build the AdaBoost classifier with decision trees. The model creates several stumps (decision tree with only a single decision node and two leaf nodes) on the train set and predicts the class based on these weak learners (stumps). For the first model, it assigns equal weights to each sample. It assigns the higher weight for the wrongly predicted samples and lower weight for the correctly predicted samples. This method continues till all the observations are correctly classified or the predefined number of stumps is created."
   ]
  },
  {
   "cell_type": "markdown",
   "id": "bfa48a03",
   "metadata": {
    "id": "SPUfsoiMEjXx"
   },
   "source": [
    "#### Build an Adaboost model on a training dataset."
   ]
  },
  {
   "cell_type": "code",
   "execution_count": 10,
   "id": "0dfdfdb6",
   "metadata": {
    "id": "HaXmrEolEjXy",
    "outputId": "0b3306cc-5294-4208-d2ba-a9202ceb3673",
    "scrolled": false
   },
   "outputs": [
    {
     "data": {
      "text/plain": [
       "AdaBoostClassifier(n_estimators=40, random_state=10)"
      ]
     },
     "execution_count": 10,
     "metadata": {},
     "output_type": "execute_result"
    }
   ],
   "source": [
    "# instantiate the 'AdaBoostClassifier'\n",
    "# n_estimators: number of estimators at which boosting is terminated\n",
    "# pass the 'random_state' to obtain the same results for each code implementation\n",
    "ada_model = AdaBoostClassifier(n_estimators = 40, random_state = 10)\n",
    "\n",
    "# fit the model using fit() on train data\n",
    "ada_model.fit(X_train, y_train)"
   ]
  },
  {
   "cell_type": "markdown",
   "id": "0b26dd33",
   "metadata": {
    "id": "CxDANG1aEjXy"
   },
   "source": [
    "Let us understand the parameters in the `AdaBoostClassifier()`:\n",
    "\n",
    "`algorithm=SAMME.R`: It is the default boosting algorithm. This algorithm uses predicted class probabilities to build the stumps.\n",
    "\n",
    "`base_estimator=None`: By default, the estimator is a decision tree with a maximum depth equal to 1 (stump).\n",
    "\n",
    "`learning_rate=1.0`: It considers the contribution of each estimator in the classifier.\n",
    "\n",
    "`n_estimators=40`: It is the number of estimators at which boosting is terminated.\n",
    "\n",
    "`random_state=10`: It returns the same set of samples for each code implementation."
   ]
  },
  {
   "cell_type": "markdown",
   "id": "6d5f110e",
   "metadata": {
    "id": "ogxfyW8oEjXz"
   },
   "source": [
    "#### Plot the confusion matrix."
   ]
  },
  {
   "cell_type": "code",
   "execution_count": 11,
   "id": "769814d2",
   "metadata": {
    "id": "K3lFBP7NEjX0",
    "outputId": "69768bb1-c985-498d-d24e-d4ae3bebae3b"
   },
   "outputs": [
    {
     "data": {
      "image/png": "[encoded data removed]",
      "text/plain": [
       "<Figure size 432x288 with 1 Axes>"
      ]
     },
     "metadata": {
      "needs_background": "light"
     },
     "output_type": "display_data"
    }
   ],
   "source": [
    "# call the function to plot the confusion matrix\n",
    "# pass the AdaBoost model to the function\n",
    "plot_confusion_matrix(ada_model)"
   ]
  },
  {
   "cell_type": "markdown",
   "id": "d5441e61",
   "metadata": {
    "id": "vKBzcRScEjX1"
   },
   "source": [
    "**Calculate performance measures on the test set.**"
   ]
  },
  {
   "cell_type": "code",
   "execution_count": 12,
   "id": "8084e8d2",
   "metadata": {},
   "outputs": [
    {
     "name": "stdout",
     "output_type": "stream",
     "text": [
      "              precision    recall  f1-score   support\n",
      "\n",
      "           0       0.73      0.97      0.83     25362\n",
      "           1       0.57      0.09      0.15     10113\n",
      "\n",
      "    accuracy                           0.72     35475\n",
      "   macro avg       0.65      0.53      0.49     35475\n",
      "weighted avg       0.68      0.72      0.64     35475\n",
      "\n"
     ]
    }
   ],
   "source": [
    "# compute the performance measures on test data\n",
    "# call the function 'get_test_report'\n",
    "# pass the AdaBoost model to the function\n",
    "train_report = get_train_report(ada_model)\n",
    "\n",
    "# print the performance measures\n",
    "print(train_report)"
   ]
  },
  {
   "cell_type": "code",
   "execution_count": 13,
   "id": "af48b88d",
   "metadata": {
    "id": "UP5DA9_qebpC",
    "outputId": "077a50b5-4232-4989-ebb8-b10e8fdf3793",
    "scrolled": false
   },
   "outputs": [
    {
     "name": "stdout",
     "output_type": "stream",
     "text": [
      "              precision    recall  f1-score   support\n",
      "\n",
      "           0       0.72      0.97      0.83     10814\n",
      "           1       0.56      0.08      0.15      4390\n",
      "\n",
      "    accuracy                           0.72     15204\n",
      "   macro avg       0.64      0.53      0.49     15204\n",
      "weighted avg       0.68      0.72      0.63     15204\n",
      "\n"
     ]
    }
   ],
   "source": [
    "# compute the performance measures on test data\n",
    "# call the function 'get_test_report'\n",
    "# pass the AdaBoost model to the function\n",
    "test_report = get_test_report(ada_model)\n",
    "\n",
    "# print the performance measures\n",
    "print(test_report)"
   ]
  },
  {
   "cell_type": "markdown",
   "id": "97e98d35",
   "metadata": {
    "id": "PvkyqsSOEjX2"
   },
   "source": [
    "**Interpretation:** The output shows that the model is 71% accurate."
   ]
  },
  {
   "cell_type": "markdown",
   "id": "a1d75abf",
   "metadata": {
    "id": "ihPy_8TiEjX3"
   },
   "source": [
    "#### Plot the ROC curve."
   ]
  },
  {
   "cell_type": "code",
   "execution_count": 14,
   "id": "5ef02c37",
   "metadata": {
    "id": "RwhuEMIgEjX3",
    "outputId": "1666e3d4-dd9a-40f7-d987-5363468ec481"
   },
   "outputs": [
    {
     "data": {
      "image/png": "[encoded data removed]",
      "text/plain": [
       "<Figure size 432x288 with 1 Axes>"
      ]
     },
     "metadata": {
      "needs_background": "light"
     },
     "output_type": "display_data"
    }
   ],
   "source": [
    "# call the function to plot the ROC curve\n",
    "# pass the AdaBoost model to the function\n",
    "plot_roc(ada_model)"
   ]
  },
  {
   "cell_type": "markdown",
   "id": "4b43cf48",
   "metadata": {
    "id": "1866lj_kEjX4"
   },
   "source": [
    "**Interpretation:** The red dotted line represents the ROC curve of a purely random classifier; a good classifier stays as far away from that line as possible (toward the top-left corner).<br>\n",
    "From the above plot, we can see that the AdaBoost model is away from the dotted line; with the AUC score 0.6532."
   ]
  },
  {
   "cell_type": "markdown",
   "id": "d519ed9f",
   "metadata": {
    "id": "3TmNGHTuEjX4"
   },
   "source": [
    "<a id=\"gradient\"></a>\n",
    "## 3.2 Gradient Boosting"
   ]
  },
  {
   "cell_type": "markdown",
   "id": "87c3701a",
   "metadata": {
    "id": "LoEdcoNEEjX5"
   },
   "source": [
    "This method optimizes the differentiable loss function by building the number of weak learners (decision trees) sequentially. It considers the residuals from the previous model and fits the next model to the residuals. The algorithm uses a gradient descent method to minimize the error."
   ]
  },
  {
   "cell_type": "markdown",
   "id": "4b257864",
   "metadata": {
    "id": "21Eyf6qMEjX5"
   },
   "source": [
    "#### Build a gradient boosting model on a training dataset."
   ]
  },
  {
   "cell_type": "code",
   "execution_count": 15,
   "id": "173e9a20",
   "metadata": {
    "id": "u12S8QvFEjX6",
    "outputId": "12f0fdec-a3e6-4f21-83f6-0316b6bdf7aa",
    "scrolled": true
   },
   "outputs": [
    {
     "data": {
      "text/plain": [
       "GradientBoostingClassifier(max_depth=10, n_estimators=150, random_state=10)"
      ]
     },
     "execution_count": 15,
     "metadata": {},
     "output_type": "execute_result"
    }
   ],
   "source": [
    "# instantiate the 'GradientBoostingClassifier' \n",
    "# n_estimators: number of estimators to consider\n",
    "# 'max_depth': assigns maximum depth of the tree\n",
    "# pass the 'random_state' to obtain the same results for each code implementation\n",
    "gboost_model = GradientBoostingClassifier(n_estimators = 150, max_depth = 10, random_state = 10)\n",
    "\n",
    "# fit the model using fit() on train data\n",
    "gboost_model.fit(X_train, y_train)"
   ]
  },
  {
   "cell_type": "markdown",
   "id": "3bddbc8e",
   "metadata": {
    "id": "IZ5AeoQeEjX6"
   },
   "source": [
    "Let us understand the parameters in the `GradientBoostingClassifier()`:\n",
    "\n",
    "`ccp_alpha=0.0`: The complexity parameter used for pruning. By default, there is no pruning.\n",
    "\n",
    "`criterion=friedman_mse`: The criteria to measure the quality of a split.\n",
    "\n",
    "`init=None`: The estimator for initial predictions.\n",
    "\n",
    "`learning_rate=0.1`: It considers the contribution of each estimator in the classifier.\n",
    "\n",
    "`loss=deviance`: The loss function to be optimized.\n",
    "\n",
    "`max_depth=10`: Assigns the maximum depth of the tree.\n",
    "\n",
    "`max_features=None`: Maximum features to consider for the split.\n",
    "\n",
    "`max_leaf_nodes=None`: Maximum number of leaf/terminal nodes in the tree.\n",
    "\n",
    "`min_impurity_decrease=0.0`: A node splits if it decreases the impurity by the value given by this parameter. \n",
    "\n",
    "`min_impurity_split=None`: Minimum value of impurity for a node to split.\n",
    "\n",
    "`min_samples_leaf=1`: Minimum number of samples needed at the leaf/terminal node.\n",
    "\n",
    "`min_samples_split=2`: Minimum number of samples needed at the internal node to split. \n",
    "\n",
    "`min_weight_fraction_leaf=0.0`: Minimum weighted fraction needed at a leaf node.\n",
    "\n",
    "`n_estimators=150`: The number of estimators to consider.\n",
    "\n",
    "`n_iter_no_change=None`: Number of iterations after which the training should terminate if the score is not improving.\n",
    "\n",
    "`presort='deprecated'`: It considers whether to presort the data. (This parameter may not be available in the latest versions). \n",
    "\n",
    "`random_state=10`: It returns the same set of samples for each code implementation.\n",
    "\n",
    "`subsample=1.0`: Fraction of samples to use for fitting each estimator.\n",
    "\n",
    "`tol=0.0001`: Value of tolerance to terminate the training.\n",
    "\n",
    "`validation_fraction=0.1`: Fraction of training dataset used for validation.\n",
    "\n",
    "`verbose=0`: Enables verbose output (by default, no progress will be printed).\n",
    "\n",
    "`warm_start=False`: Whether to reuse the solution of previous code implementation (by default, it does not consider the previous solution)."
   ]
  },
  {
   "cell_type": "markdown",
   "id": "ec496ea3",
   "metadata": {
    "id": "5eqSH-LbEjX9"
   },
   "source": [
    "#### Plot the confusion matrix."
   ]
  },
  {
   "cell_type": "code",
   "execution_count": 16,
   "id": "4eb79fcf",
   "metadata": {
    "id": "BG3WHov9EjX9",
    "outputId": "de79eee8-4377-4b9b-88b0-2355e8c5be77",
    "scrolled": false
   },
   "outputs": [
    {
     "data": {
      "image/png": "[encoded data removed]",
      "text/plain": [
       "<Figure size 432x288 with 1 Axes>"
      ]
     },
     "metadata": {
      "needs_background": "light"
     },
     "output_type": "display_data"
    }
   ],
   "source": [
    "# call the function to plot the confusion matrix\n",
    "# pass the gradient boosting model to the function\n",
    "plot_confusion_matrix(gboost_model)"
   ]
  },
  {
   "cell_type": "markdown",
   "id": "dd84f48b",
   "metadata": {
    "id": "GGe93oJsEjX_"
   },
   "source": [
    "**Calculate performance measures on the test set.**"
   ]
  },
  {
   "cell_type": "code",
   "execution_count": 17,
   "id": "46cb1d9b",
   "metadata": {},
   "outputs": [
    {
     "name": "stdout",
     "output_type": "stream",
     "text": [
      "              precision    recall  f1-score   support\n",
      "\n",
      "           0       0.97      1.00      0.99     25362\n",
      "           1       1.00      0.93      0.96     10113\n",
      "\n",
      "    accuracy                           0.98     35475\n",
      "   macro avg       0.99      0.97      0.98     35475\n",
      "weighted avg       0.98      0.98      0.98     35475\n",
      "\n"
     ]
    }
   ],
   "source": [
    "# compute the performance measures on test data\n",
    "# call the function 'get_test_report'\n",
    "# pass the gradient boosting model to the function\n",
    "train_report = get_train_report(gboost_model)\n",
    "\n",
    "# print the performance measures\n",
    "print(train_report)"
   ]
  },
  {
   "cell_type": "code",
   "execution_count": 18,
   "id": "c3c2a3f0",
   "metadata": {
    "id": "m8bj1jjGEjYA",
    "outputId": "5f6322ca-856b-490c-f1f7-e9e5658959fe",
    "scrolled": true
   },
   "outputs": [
    {
     "name": "stdout",
     "output_type": "stream",
     "text": [
      "              precision    recall  f1-score   support\n",
      "\n",
      "           0       0.74      0.93      0.82     10814\n",
      "           1       0.52      0.19      0.27      4390\n",
      "\n",
      "    accuracy                           0.71     15204\n",
      "   macro avg       0.63      0.56      0.55     15204\n",
      "weighted avg       0.67      0.71      0.66     15204\n",
      "\n"
     ]
    }
   ],
   "source": [
    "# compute the performance measures on test data\n",
    "# call the function 'get_test_report'\n",
    "# pass the gradient boosting model to the function\n",
    "test_report = get_test_report(gboost_model)\n",
    "\n",
    "# print the performance measures\n",
    "print(test_report)"
   ]
  },
  {
   "cell_type": "markdown",
   "id": "6013bd4f",
   "metadata": {
    "id": "jeaRKWK6EjYB"
   },
   "source": [
    "**Interpretation:** The classification report shows that the model is 71% accurate. Also, the sensitivity and specificity are equal."
   ]
  },
  {
   "cell_type": "markdown",
   "id": "831afe77",
   "metadata": {
    "id": "0oIJtLSTEjYB"
   },
   "source": [
    "#### Plot the ROC curve."
   ]
  },
  {
   "cell_type": "code",
   "execution_count": 19,
   "id": "07cb7caf",
   "metadata": {
    "id": "1mdDzyxiEjYS",
    "outputId": "52d8e48e-4ce5-432a-a5b6-4886aece8ca1"
   },
   "outputs": [
    {
     "data": {
      "image/png": "[encoded data removed]",
      "text/plain": [
       "<Figure size 432x288 with 1 Axes>"
      ]
     },
     "metadata": {
      "needs_background": "light"
     },
     "output_type": "display_data"
    }
   ],
   "source": [
    "# call the function to plot the ROC curve\n",
    "# pass the gradient boosting model to the function\n",
    "plot_roc(gboost_model)"
   ]
  },
  {
   "cell_type": "markdown",
   "id": "6d006e8b",
   "metadata": {
    "id": "D-1oiMxTEjYT"
   },
   "source": [
    "**Interpretation:** The red dotted line represents the ROC curve of a purely random classifier; a good classifier stays as far away from that line as possible (toward the top-left corner).<br>\n",
    "From the above plot, we can see that the gradient boosting model is away from the dotted line; with the AUC score 0.6554."
   ]
  },
  {
   "cell_type": "markdown",
   "id": "e548307c",
   "metadata": {
    "id": "giHp6AqqEjYT"
   },
   "source": [
    "<a id=\"xgboost\"></a>\n",
    "## 3.3 XGBoost "
   ]
  },
  {
   "cell_type": "markdown",
   "id": "f701e5fe",
   "metadata": {
    "id": "eDfp2m8ZEjYU"
   },
   "source": [
    "XGBoost (extreme gradient boost) is an alternative form of gradient boosting method. This method generally considers the initial prediction as 0.5 and build the decision tree to predict the residuals. It considers the regularization parameter to avoid overfitting."
   ]
  },
  {
   "cell_type": "markdown",
   "id": "0c39a7e6",
   "metadata": {
    "id": "poALKGW-EjYV"
   },
   "source": [
    "#### Build an XGBoost model on a training dataset."
   ]
  },
  {
   "cell_type": "code",
   "execution_count": 20,
   "id": "34b2243a",
   "metadata": {
    "id": "L5X2IiSREjYV",
    "outputId": "eb553f44-7c23-4bee-b377-e4ed45d0277c"
   },
   "outputs": [
    {
     "data": {
      "text/plain": [
       "XGBClassifier(base_score=None, booster=None, callbacks=None,\n",
       "              colsample_bylevel=None, colsample_bynode=None,\n",
       "              colsample_bytree=None, early_stopping_rounds=None,\n",
       "              enable_categorical=False, eval_metric=None, feature_types=None,\n",
       "              gamma=1, gpu_id=None, grow_policy=None, importance_type=None,\n",
       "              interaction_constraints=None, learning_rate=None, max_bin=None,\n",
       "              max_cat_threshold=None, max_cat_to_onehot=None,\n",
       "              max_delta_step=None, max_depth=10, max_leaves=None,\n",
       "              min_child_weight=None, missing=nan, monotone_constraints=None,\n",
       "              n_estimators=100, n_jobs=None, num_parallel_tree=None,\n",
       "              predictor=None, random_state=None, ...)"
      ]
     },
     "execution_count": 20,
     "metadata": {},
     "output_type": "execute_result"
    }
   ],
   "source": [
    "# instantiate the 'XGBClassifier'\n",
    "# set the maximum depth of the tree using the parameter, 'max_depth'\n",
    "# pass the value of minimum loss reduction required for partition of the leaf node to the parameter, 'gamma'\n",
    "xgb_model = XGBClassifier(max_depth = 10, gamma = 1)\n",
    "\n",
    "# fit the model using fit() on train data\n",
    "xgb_model.fit(X_train, y_train)"
   ]
  },
  {
   "cell_type": "markdown",
   "id": "bf3d5995",
   "metadata": {
    "id": "9lasb87QEjYW"
   },
   "source": [
    "Let us understand the parameters in the `XGBClassifier()`:\n",
    "\n",
    "`base_score=0.5`: Initial prediction for base learners.\n",
    "\n",
    "`booster=gbtree`: Considers the regression tree as the base learners.\n",
    "\n",
    "`colsample_bylevel=1`: Fraction of variables to consider for each level.\n",
    "\n",
    "`colsample_bynode=1`: Fraction of variables to consider for each split.\n",
    "\n",
    "`colsample_bytree=1`: Fraction of variables to consider for each tree.\n",
    "\n",
    "`gamma=1`: Value of minimum loss reduction required for the partition of the leaf node.\n",
    "\n",
    "`gpu_id=-1`: It considers all the GPU's. \n",
    "\n",
    "`importance_type=gain`: Importance type for calculating feature importance.\n",
    "\n",
    "`interaction_constraints=''`: By default, no interaction between the features is allowed.\n",
    "\n",
    "`learning_rate=0.300000012`: It considers the contribution of each estimator in the classifier.\n",
    "\n",
    "`max_delta_step=0`: Maximum delta step allowed for each tree's weight estimation to be.\n",
    "\n",
    "`max_depth=10`: Maximum depth of each tree.\n",
    "\n",
    "`min_child_weight=1`: Minimum sum of hessian (p*(1-p)) required in a leaf node.\n",
    "\n",
    "`missing=nan`: Value to consider as a missing value.\n",
    "\n",
    "`monotone_constraints='()'`:  Constraint of variable monotonicity. (adding increasing/decreasing constraint on the variables )\n",
    "\n",
    "`n_estimators=100`: The number of estimators to consider.\n",
    "\n",
    "`n_jobs=0`: Number of parallel threads to run the classifier.\n",
    "\n",
    "`num_parallel_tree=1`: It is used for boosting random forest.\n",
    "\n",
    "`objective='binary:logistic'`: Considers the binary logistic regression as a learning objective.\n",
    "\n",
    "`random_state=0`: It returns the same set of samples for each code implementation.\n",
    "\n",
    "`reg_alpha=0`: Lasso regularization term for weights.\n",
    "\n",
    "`reg_lambda=1`: Ridge regularization term for weights.\n",
    "\n",
    "`scale_pos_weight=1`:  Ratio of the number of negative class to the positive class.\n",
    "\n",
    "`subsample=1`: Fraction of total training data points.\n",
    "\n",
    "`tree_method='exact'`: Considers the exact greedy algorithm.\n",
    "\n",
    "`validate_parameters=1`: Performs validation on input paramerters.\n",
    "\n",
    "`verbosity=None`: Enables verbose output (by default, no progress will be printed)."
   ]
  },
  {
   "cell_type": "markdown",
   "id": "1838d74a",
   "metadata": {
    "id": "2TJ9dAWAEjYX"
   },
   "source": [
    "#### Plot the confusion matrix."
   ]
  },
  {
   "cell_type": "code",
   "execution_count": 21,
   "id": "7ff735eb",
   "metadata": {
    "id": "euxOd3ZBEjYY",
    "outputId": "79385066-c94f-4ac2-9aae-e960bdf7ac5a"
   },
   "outputs": [
    {
     "data": {
      "image/png": "[encoded data removed]",
      "text/plain": [
       "<Figure size 432x288 with 1 Axes>"
      ]
     },
     "metadata": {
      "needs_background": "light"
     },
     "output_type": "display_data"
    }
   ],
   "source": [
    "# call the function to plot the confusion matrix\n",
    "# pass the XGBoost model to the function\n",
    "plot_confusion_matrix(xgb_model)"
   ]
  },
  {
   "cell_type": "markdown",
   "id": "9a5a8fe0",
   "metadata": {
    "id": "dROop0wZEjYZ"
   },
   "source": [
    "**Calculate performance measures on the test set.**"
   ]
  },
  {
   "cell_type": "code",
   "execution_count": 22,
   "id": "27c6c476",
   "metadata": {},
   "outputs": [
    {
     "name": "stdout",
     "output_type": "stream",
     "text": [
      "              precision    recall  f1-score   support\n",
      "\n",
      "           0       0.98      1.00      0.99     25362\n",
      "           1       1.00      0.96      0.98     10113\n",
      "\n",
      "    accuracy                           0.99     35475\n",
      "   macro avg       0.99      0.98      0.98     35475\n",
      "weighted avg       0.99      0.99      0.99     35475\n",
      "\n"
     ]
    }
   ],
   "source": [
    "# compute the performance measures on test data\n",
    "# call the function 'get_test_report'\n",
    "# pass the gradient boosting model to the function\n",
    "train_report = get_train_report(xgb_model)\n",
    "\n",
    "# print the performance measures\n",
    "print(train_report)"
   ]
  },
  {
   "cell_type": "code",
   "execution_count": 23,
   "id": "10d19f71",
   "metadata": {
    "id": "nBTHEQFvEjYZ",
    "outputId": "ba6456c5-64a8-4a83-c792-da579d499793",
    "scrolled": false
   },
   "outputs": [
    {
     "name": "stdout",
     "output_type": "stream",
     "text": [
      "              precision    recall  f1-score   support\n",
      "\n",
      "           0       0.74      0.90      0.81     10814\n",
      "           1       0.49      0.23      0.31      4390\n",
      "\n",
      "    accuracy                           0.71     15204\n",
      "   macro avg       0.61      0.56      0.56     15204\n",
      "weighted avg       0.67      0.71      0.67     15204\n",
      "\n"
     ]
    }
   ],
   "source": [
    "# compute the performance measures on test data\n",
    "# call the function 'get_test_report'\n",
    "# pass the XGBoost model to the function\n",
    "test_report = get_test_report(xgb_model)\n",
    "\n",
    "# print the performance measures\n",
    "print(test_report)"
   ]
  },
  {
   "cell_type": "code",
   "execution_count": 24,
   "id": "30f45fdb",
   "metadata": {},
   "outputs": [
    {
     "data": {
      "text/plain": [
       "0.9869485553206483"
      ]
     },
     "execution_count": 24,
     "metadata": {},
     "output_type": "execute_result"
    }
   ],
   "source": [
    "xgb_model.score(X_train,y_train)"
   ]
  },
  {
   "cell_type": "markdown",
   "id": "5091b4d7",
   "metadata": {
    "id": "OzEBM612EjYa"
   },
   "source": [
    "#### Plot the ROC curve."
   ]
  },
  {
   "cell_type": "code",
   "execution_count": 25,
   "id": "f61617db",
   "metadata": {
    "id": "IpYc7RjQEjYb",
    "outputId": "1d5667a6-4a1f-41a1-8437-a879e66d0e63",
    "scrolled": false
   },
   "outputs": [
    {
     "data": {
      "image/png": "[encoded data removed]",
      "text/plain": [
       "<Figure size 432x288 with 1 Axes>"
      ]
     },
     "metadata": {
      "needs_background": "light"
     },
     "output_type": "display_data"
    }
   ],
   "source": [
    "# call the function to plot the ROC curve\n",
    "# pass the XGBoost model to the function\n",
    "plot_roc(xgb_model)"
   ]
  },
  {
   "cell_type": "markdown",
   "id": "42fc575a",
   "metadata": {
    "id": "Fkt0CFZUEjYb"
   },
   "source": [
    "**Interpretation:** The red dotted line represents the ROC curve of a purely random classifier; a good classifier stays as far away from that line as possible (toward the top-left corner).<br>\n",
    "From the above plot, we can see that the XGBoost model is away from the dotted line; with the AUC score 0.6461."
   ]
  },
  {
   "cell_type": "markdown",
   "id": "04701f82",
   "metadata": {},
   "source": [
    "### Light Gradient Boosting Machine"
   ]
  },
  {
   "cell_type": "code",
   "execution_count": 26,
   "id": "3ed2144e",
   "metadata": {},
   "outputs": [
    {
     "name": "stdout",
     "output_type": "stream",
     "text": [
      "Requirement already satisfied: lightgbm in c:\\users\\shiva\\anaconda3\\lib\\site-packages (3.3.5)\n",
      "Requirement already satisfied: wheel in c:\\users\\shiva\\anaconda3\\lib\\site-packages (from lightgbm) (0.37.1)\n",
      "Requirement already satisfied: scikit-learn!=0.22.0 in c:\\users\\shiva\\anaconda3\\lib\\site-packages (from lightgbm) (1.0.2)\n",
      "Requirement already satisfied: numpy in c:\\users\\shiva\\anaconda3\\lib\\site-packages (from lightgbm) (1.21.5)\n",
      "Requirement already satisfied: scipy in c:\\users\\shiva\\anaconda3\\lib\\site-packages (from lightgbm) (1.7.3)\n",
      "Requirement already satisfied: joblib>=0.11 in c:\\users\\shiva\\anaconda3\\lib\\site-packages (from scikit-learn!=0.22.0->lightgbm) (1.1.0)\n",
      "Requirement already satisfied: threadpoolctl>=2.0.0 in c:\\users\\shiva\\anaconda3\\lib\\site-packages (from scikit-learn!=0.22.0->lightgbm) (2.2.0)\n",
      "Note: you may need to restart the kernel to use updated packages.\n"
     ]
    }
   ],
   "source": [
    "pip install lightgbm"
   ]
  },
  {
   "cell_type": "code",
   "execution_count": 27,
   "id": "591838bf",
   "metadata": {},
   "outputs": [],
   "source": [
    "from lightgbm import LGBMClassifier"
   ]
  },
  {
   "cell_type": "code",
   "execution_count": 28,
   "id": "d203be79",
   "metadata": {},
   "outputs": [],
   "source": [
    "# import lightgbm as lgb\n",
    "# from lightgbm import LGBMClassifier"
   ]
  },
  {
   "cell_type": "code",
   "execution_count": 29,
   "id": "8fae8d99",
   "metadata": {},
   "outputs": [
    {
     "name": "stdout",
     "output_type": "stream",
     "text": [
      "[1 1 1 ... 0 1 0]\n",
      "0.6235858984477769\n"
     ]
    }
   ],
   "source": [
    "\n",
    "lgb = LGBMClassifier(class_weight='balanced')\n",
    "lgbm_model=lgb.fit(X_train, y_train)\n",
    " \n",
    "# Predicting the Target variable\n",
    "pred = lgbm_model.predict(X_test)\n",
    "print(pred)\n",
    "accuracy = lgbm_model.score(X_test, y_test)\n",
    "print(accuracy)"
   ]
  },
  {
   "cell_type": "code",
   "execution_count": 30,
   "id": "d5aaa0ed",
   "metadata": {},
   "outputs": [
    {
     "data": {
      "image/png": "[encoded data removed]",
      "text/plain": [
       "<Figure size 432x288 with 1 Axes>"
      ]
     },
     "metadata": {
      "needs_background": "light"
     },
     "output_type": "display_data"
    }
   ],
   "source": [
    "y_pred=lgbm_model.predict(X_test)\n",
    "\n",
    "cm = confusion_matrix(y_test, y_pred)\n",
    "\n",
    "conf_matrix = pd.DataFrame(data = cm,columns = ['Predicted:0','Predicted:1'], index = ['Actual:0','Actual:1'])\n",
    "\n",
    "sns.heatmap(conf_matrix, annot = True, fmt = 'd', cmap = ListedColormap(['lightskyblue']), cbar = False, \n",
    "            linewidths = 0.1, annot_kws = {'size':25})\n",
    "\n",
    "plt.xticks(fontsize = 20)\n",
    "plt.yticks(fontsize = 20)\n",
    "\n",
    "# display the plot\n",
    "plt.show()"
   ]
  },
  {
   "cell_type": "code",
   "execution_count": 31,
   "id": "9072c5b1",
   "metadata": {},
   "outputs": [
    {
     "data": {
      "text/plain": [
       "0.7057928118393235"
      ]
     },
     "execution_count": 31,
     "metadata": {},
     "output_type": "execute_result"
    }
   ],
   "source": [
    "lgbm_model.score(X_train,y_train)"
   ]
  },
  {
   "cell_type": "code",
   "execution_count": 32,
   "id": "ee4e448a",
   "metadata": {},
   "outputs": [
    {
     "data": {
      "text/plain": [
       "0.6235858984477769"
      ]
     },
     "execution_count": 32,
     "metadata": {},
     "output_type": "execute_result"
    }
   ],
   "source": [
    "lgbm_model.score(X_test,y_test)"
   ]
  },
  {
   "cell_type": "code",
   "execution_count": null,
   "id": "b8df0a41",
   "metadata": {},
   "outputs": [],
   "source": []
  },
  {
   "cell_type": "markdown",
   "id": "83c256ac",
   "metadata": {
    "id": "xO9Tsuw_EjYc"
   },
   "source": [
    "<a id=\"tune\"></a>\n",
    "### 3.3.1 Tune the Hyperparameters (GridSearchCV)"
   ]
  },
  {
   "cell_type": "markdown",
   "id": "b5b51e62",
   "metadata": {
    "id": "CBrqKsRxEjYc"
   },
   "source": [
    "Let us tune the hyperparameters to obtain the optimal values for the XGBoost model."
   ]
  },
  {
   "cell_type": "code",
   "execution_count": null,
   "id": "32c2602c",
   "metadata": {
    "id": "X9XEx3x_EjYd",
    "outputId": "c37ee8b5-d107-4941-f92a-0b402bf90623"
   },
   "outputs": [],
   "source": [
    "%%time\n",
    "# create a dictionary with hyperparameters and its values\n",
    "# learning_rate: pass the list of boosting learning rates\n",
    "# max_depth: pass the range of values as the maximum tree depth for base learners\n",
    "# gamma: pass the list of minimum loss reduction values required to make a further partition on a leaf node of the tree\n",
    "tuning_parameters = {'learning_rate': [0.1, 0.2, 0.3, 0.4, 0.5, 0.6],\n",
    "                     'max_depth': range(3,10),\n",
    "                     'min_child_weight':range(1,5),\n",
    "                     \n",
    "                     'gamma': [0, 1, 2, 3, 4],\n",
    "                    'tree_method':['gpu_hist','hist'],\n",
    "                     'subsample':[0.25,0.5,1],\n",
    "                     'colsample_bytree':[0.25,0.5,1]\n",
    "                    }\n",
    "\n",
    "\n",
    "# instantiate the 'XGBClassifier' \n",
    "xgb_model = XGBClassifier()\n",
    "\n",
    "# use GridSearchCV() to find the optimal value of the hyperparameters\n",
    "# estimator: pass the XGBoost classifier model\n",
    "# param_grid: pass the list 'tuned_parameters'\n",
    "# cv: number of folds in k-fold i.e. here cv = 3\n",
    "# scoring: pass a measure to evaluate the model on test set\n",
    "xgb_grid = GridSearchCV(estimator = xgb_model, param_grid = tuning_parameters, cv = 5, scoring = 'roc_auc')\n",
    "\n",
    "# fit the model on X_train and y_train using fit()\n",
    "xgb_grid.fit(X_train, y_train)\n",
    "\n",
    "# get the best parameters\n",
    "print('Best parameters for XGBoost classifier: ', xgb_grid.best_params_, '\\n')"
   ]
  },
  {
   "cell_type": "raw",
   "id": "88f95bad",
   "metadata": {},
   "source": [
    "## Best parameters for XGBoost classifier: \n",
    "colsample_bytree= 1, gamma= 1, learning_rate= 0.2, \n",
    "                                 max_depth=4, min_child_weight= 4, subsample= 1, tree_method= 'hist'"
   ]
  },
  {
   "cell_type": "markdown",
   "id": "8636ac0b",
   "metadata": {
    "id": "YKCd0I6TEjYe"
   },
   "source": [
    "#### Build the model using the tuned hyperparameters."
   ]
  },
  {
   "cell_type": "code",
   "execution_count": 33,
   "id": "9cf1a1b2",
   "metadata": {
    "id": "eXAmTGFoEjYe",
    "outputId": "b76c6d77-0d68-4854-de92-df828368cf10"
   },
   "outputs": [
    {
     "name": "stdout",
     "output_type": "stream",
     "text": [
      "Classification Report for test set:\n",
      "               precision    recall  f1-score   support\n",
      "\n",
      "           0       0.73      0.96      0.83     10814\n",
      "           1       0.59      0.13      0.22      4390\n",
      "\n",
      "    accuracy                           0.72     15204\n",
      "   macro avg       0.66      0.55      0.52     15204\n",
      "weighted avg       0.69      0.72      0.65     15204\n",
      "\n"
     ]
    }
   ],
   "source": [
    "#learning_rate = xgb_grid.best_params_.get('learning_rate'),\n",
    "                              # max_depth = xgb_grid.best_params_.get('max_depth'),\n",
    "                              #gamma = xgb_grid.best_params_.get('gamma'),\n",
    "                              #tree_method=xgb_grid.best_params_.get('tree_method'),\n",
    "                              #subsample=xgb_grid.best_params_.get('subsample'),\n",
    "                              #colsample_bytree=xgb_grid.best_params_.get('colsample_bytree')\n",
    "\n",
    "# instantiate the 'XGBClassifier'\n",
    "# 'best_params_' returns the dictionary containing best parameter values and parameter name  \n",
    "# 'get()' returns the value of specified parameter\n",
    "xgb_grid_model = XGBClassifier( colsample_bytree= 1, gamma= 1, learning_rate= 0.2, \n",
    "                                 max_depth=4, min_child_weight= 4, subsample= 1, tree_method= 'hist' )\n",
    "\n",
    "\n",
    "\n",
    "# use fit() to fit the model on the train set\n",
    "xgb_model = xgb_grid_model.fit(X_train, y_train)\n",
    "\n",
    "# print the performance measures for test set for the model with best parameters\n",
    "print('Classification Report for test set:\\n', get_test_report(xgb_model))"
   ]
  },
  {
   "cell_type": "code",
   "execution_count": 34,
   "id": "68b70f5e",
   "metadata": {},
   "outputs": [
    {
     "data": {
      "text/plain": [
       "0.13141493986318561"
      ]
     },
     "execution_count": 34,
     "metadata": {},
     "output_type": "execute_result"
    }
   ],
   "source": [
    "from sklearn.metrics import confusion_matrix\n",
    "from sklearn.model_selection import cross_val_score\n",
    "scores=cross_val_score(xgb_model,X_train,y_train,scoring='recall')\n",
    "np.mean(scores)"
   ]
  },
  {
   "cell_type": "code",
   "execution_count": 35,
   "id": "57b78b19",
   "metadata": {},
   "outputs": [
    {
     "data": {
      "image/png": "[encoded data removed]",
      "text/plain": [
       "<Figure size 432x288 with 1 Axes>"
      ]
     },
     "metadata": {
      "needs_background": "light"
     },
     "output_type": "display_data"
    }
   ],
   "source": [
    "y_pred=xgb_model.predict(X_test)\n",
    "\n",
    "cm = confusion_matrix(y_test, y_pred)\n",
    "\n",
    "conf_matrix = pd.DataFrame(data = cm,columns = ['Predicted:0','Predicted:1'], index = ['Actual:0','Actual:1'])\n",
    "\n",
    "sns.heatmap(conf_matrix, annot = True, fmt = 'd', cmap = ListedColormap(['lightskyblue']), cbar = False, \n",
    "            linewidths = 0.1, annot_kws = {'size':25})\n",
    "\n",
    "plt.xticks(fontsize = 20)\n",
    "plt.yticks(fontsize = 20)\n",
    "\n",
    "# display the plot\n",
    "plt.show()"
   ]
  },
  {
   "cell_type": "code",
   "execution_count": 36,
   "id": "bf0a4d8f",
   "metadata": {},
   "outputs": [
    {
     "data": {
      "text/plain": [
       "0.750584918957012"
      ]
     },
     "execution_count": 36,
     "metadata": {},
     "output_type": "execute_result"
    }
   ],
   "source": [
    "xgb_model.score(X_train,y_train)"
   ]
  },
  {
   "cell_type": "code",
   "execution_count": 37,
   "id": "6dd0b222",
   "metadata": {},
   "outputs": [
    {
     "data": {
      "text/plain": [
       "0.7225730071033939"
      ]
     },
     "execution_count": 37,
     "metadata": {},
     "output_type": "execute_result"
    }
   ],
   "source": [
    "xgb_model.score(X_test,y_test)"
   ]
  },
  {
   "cell_type": "markdown",
   "id": "a847a94c",
   "metadata": {
    "id": "IMOOPtaMEjYh"
   },
   "source": [
    "### Identify the Important Features using XGBoost"
   ]
  },
  {
   "cell_type": "markdown",
   "id": "62eb3560",
   "metadata": {
    "id": "cSrqBDLWEjYi"
   },
   "source": [
    "Let us create a barplot to identify the important feature in the dataset.\n",
    "\n",
    "The method `feature_importances_` returns the value corresponding to each feature which is defined as the ratio of the average gain across all the splits in which the feature is used to the total average gain of all the features.\n",
    "\n",
    "There are different methods like `weight`, `cover`, `total_gain` and `total_cover` which returns the feature importance based on different criteria.\n",
    "\n",
    "`weight`: It is the frequency of a feature used to split the data in all the trees.\n",
    "\n",
    "`cover`: It is the average cover value of a feature for all the splits.\n",
    "\n",
    "`total_gain`: It is the sum of gain of a feature for all the splits.\n",
    "\n",
    "`total_cover`: It is the sum of a cover of a feature for all the splits."
   ]
  },
  {
   "cell_type": "code",
   "execution_count": 38,
   "id": "385a0d2a",
   "metadata": {
    "id": "vIiNiecDEjYi",
    "outputId": "de1fc288-ec06-4b1f-9a93-e178806f2f19",
    "scrolled": false
   },
   "outputs": [
    {
     "data": {
      "image/png": "[encoded data removed]",
      "text/plain": [
       "<Figure size 432x288 with 1 Axes>"
      ]
     },
     "metadata": {
      "needs_background": "light"
     },
     "output_type": "display_data"
    }
   ],
   "source": [
    "# create a dataframe that stores the feature names and their importance\n",
    "# 'feature_importances_' returns the features based on the average gain \n",
    "important_features = pd.DataFrame({'Features': X_train.columns, \n",
    "                                   'Importance': xgb_model.feature_importances_})\n",
    "\n",
    "# sort the dataframe in the descending order according to the feature importance\n",
    "important_features = important_features.sort_values('Importance', ascending = False)\n",
    "\n",
    "# create a barplot to visualize the features based on their importance\n",
    "sns.barplot(x = 'Importance', y = 'Features', data = important_features)\n",
    "\n",
    "# add plot and axes labels\n",
    "# set text size using 'fontsize'\n",
    "plt.title('Feature Importance', fontsize = 15)\n",
    "plt.xlabel('Importance', fontsize = 15)\n",
    "plt.ylabel('Features', fontsize = 15)\n",
    "\n",
    "# display the plot\n",
    "plt.show()"
   ]
  },
  {
   "cell_type": "code",
   "execution_count": null,
   "id": "71183092",
   "metadata": {},
   "outputs": [],
   "source": []
  },
  {
   "cell_type": "markdown",
   "id": "39cac0f4",
   "metadata": {
    "id": "mT4v4MvCEjYk"
   },
   "source": [
    "<a id=\"stack\"></a>\n",
    "# 4. Stack Generalization  "
   ]
  },
  {
   "cell_type": "markdown",
   "id": "ee4939d9",
   "metadata": {
    "id": "bPlXGw7JEjY6"
   },
   "source": [
    "#### Build the stacking classifier using the Random forest, KNN and Naive bayes as base learners (consider the hyperparameters tuned using GridSearchCV in the previous sessions)."
   ]
  },
  {
   "cell_type": "code",
   "execution_count": 39,
   "id": "57915a65",
   "metadata": {
    "id": "40adEGSyEjY7",
    "outputId": "c989c64c-00ad-43e5-a18a-336092790bb6"
   },
   "outputs": [
    {
     "name": "stdout",
     "output_type": "stream",
     "text": [
      "CPU times: total: 1min 3s\n",
      "Wall time: 42.5 s\n"
     ]
    },
    {
     "data": {
      "text/plain": [
       "StackingClassifier(estimators=[('rf_model',\n",
       "                                RandomForestClassifier(criterion='entropy',\n",
       "                                                       max_depth=10,\n",
       "                                                       max_features='sqrt',\n",
       "                                                       max_leaf_nodes=8,\n",
       "                                                       min_samples_leaf=5,\n",
       "                                                       n_estimators=50,\n",
       "                                                       random_state=10)),\n",
       "                               ('xgb_model',\n",
       "                                XGBClassifier(base_score=None, booster=None,\n",
       "                                              callbacks=None,\n",
       "                                              colsample_bylevel=None,\n",
       "                                              colsample_bynode=None,\n",
       "                                              colsample_bytree=1,\n",
       "                                              early_stopping_rounds=None...\n",
       "                                              max_cat_threshold=None,\n",
       "                                              max_cat_to_onehot=None,\n",
       "                                              max_delta_step=None, max_depth=4,\n",
       "                                              max_leaves=None,\n",
       "                                              min_child_weight=4, missing=nan,\n",
       "                                              monotone_constraints=None,\n",
       "                                              n_estimators=100, n_jobs=None,\n",
       "                                              num_parallel_tree=None,\n",
       "                                              predictor=None, random_state=None, ...)),\n",
       "                               ('KNN_model',\n",
       "                                KNeighborsClassifier(metric='euclidean',\n",
       "                                                     n_neighbors=17)),\n",
       "                               ('NB_model', GaussianNB())],\n",
       "                   final_estimator=GaussianNB())"
      ]
     },
     "execution_count": 39,
     "metadata": {},
     "output_type": "execute_result"
    }
   ],
   "source": [
    "%%time\n",
    "# consider the various algorithms as base learners\n",
    "base_learners = [('rf_model', RandomForestClassifier(criterion = 'entropy', max_depth = 10, max_features = 'sqrt', \n",
    "                                                     max_leaf_nodes = 8, min_samples_leaf = 5, min_samples_split = 2, \n",
    "                                                     n_estimators = 50, random_state = 10)),\n",
    "                 ('xgb_model',XGBClassifier(colsample_bytree= 1, gamma= 1, learning_rate= 0.2, \n",
    "                                 max_depth=4, min_child_weight= 4, subsample= 1, tree_method= 'hist' )), \n",
    "                 ('KNN_model', KNeighborsClassifier(n_neighbors = 17, metric = 'euclidean')),\n",
    "                 ('NB_model', GaussianNB())]\n",
    "\n",
    "# initialize stacking classifier \n",
    "# pass the base learners to the parameter, 'estimators'\n",
    "# pass the Naive Bayes model as the 'final_estimator'/ meta model\n",
    "stack_model = StackingClassifier(estimators = base_learners, final_estimator = GaussianNB())\n",
    "\n",
    "# fit the model on train dataset\n",
    "stack_model.fit(X_train, y_train)"
   ]
  },
  {
   "cell_type": "markdown",
   "id": "4a7e0631",
   "metadata": {
    "id": "kg_vZbU2EjY9"
   },
   "source": [
    "#### Plot the confusion matrix."
   ]
  },
  {
   "cell_type": "code",
   "execution_count": 40,
   "id": "68278055",
   "metadata": {
    "id": "9oJRHgFPEjY-",
    "outputId": "63bc278a-b11f-4b13-eaf4-2521c340b725"
   },
   "outputs": [
    {
     "data": {
      "image/png": "[encoded data removed]",
      "text/plain": [
       "<Figure size 432x288 with 1 Axes>"
      ]
     },
     "metadata": {
      "needs_background": "light"
     },
     "output_type": "display_data"
    }
   ],
   "source": [
    "# call the function to plot the confusion matrix\n",
    "# pass the stack model to the function\n",
    "plot_confusion_matrix(stack_model)"
   ]
  },
  {
   "cell_type": "markdown",
   "id": "76955111",
   "metadata": {
    "id": "fc7n8zqbEjY_"
   },
   "source": [
    "**Calculate performance measures on the test set.**"
   ]
  },
  {
   "cell_type": "code",
   "execution_count": 41,
   "id": "08911ce7",
   "metadata": {
    "id": "QJIc1sBLEjZA",
    "outputId": "a0d2f695-ad4f-47d5-a86d-8d93cedb3c22",
    "scrolled": true
   },
   "outputs": [
    {
     "name": "stdout",
     "output_type": "stream",
     "text": [
      "              precision    recall  f1-score   support\n",
      "\n",
      "           0       0.76      0.85      0.80     10814\n",
      "           1       0.47      0.33      0.39      4390\n",
      "\n",
      "    accuracy                           0.70     15204\n",
      "   macro avg       0.62      0.59      0.60     15204\n",
      "weighted avg       0.68      0.70      0.68     15204\n",
      "\n"
     ]
    }
   ],
   "source": [
    "# compute the performance measures on test data\n",
    "# call the function 'get_test_report'\n",
    "# pass the XGBoost model to the function\n",
    "test_report = get_test_report(stack_model)\n",
    "\n",
    "# print the performance measures\n",
    "print(test_report)"
   ]
  },
  {
   "cell_type": "code",
   "execution_count": 42,
   "id": "e32178c5",
   "metadata": {},
   "outputs": [
    {
     "data": {
      "text/plain": [
       "0.734291754756871"
      ]
     },
     "execution_count": 42,
     "metadata": {},
     "output_type": "execute_result"
    }
   ],
   "source": [
    "# train report\n",
    "stack_model.score(X_train,y_train)"
   ]
  },
  {
   "cell_type": "code",
   "execution_count": 43,
   "id": "59e376e8",
   "metadata": {},
   "outputs": [
    {
     "data": {
      "text/plain": [
       "0.6996842936069455"
      ]
     },
     "execution_count": 43,
     "metadata": {},
     "output_type": "execute_result"
    }
   ],
   "source": [
    "stack_model.score(X_test,y_test)"
   ]
  },
  {
   "cell_type": "markdown",
   "id": "e353f6f2",
   "metadata": {
    "id": "3BuJLhPmEjZD"
   },
   "source": [
    "#### Plot the ROC curve."
   ]
  },
  {
   "cell_type": "code",
   "execution_count": 44,
   "id": "d0e756b6",
   "metadata": {
    "id": "bB6Ja7gIEjZE",
    "outputId": "5704247e-b3c4-4fc0-aaeb-ec148a0f6c3a",
    "scrolled": false
   },
   "outputs": [
    {
     "data": {
      "image/png": "[encoded data removed]",
      "text/plain": [
       "<Figure size 432x288 with 1 Axes>"
      ]
     },
     "metadata": {
      "needs_background": "light"
     },
     "output_type": "display_data"
    }
   ],
   "source": [
    "# call the function to plot the ROC curve\n",
    "# pass the stack model to the function\n",
    "plot_roc(stack_model)"
   ]
  },
  {
   "cell_type": "markdown",
   "id": "299007d1",
   "metadata": {
    "id": "ixFvz8DKEjZF"
   },
   "source": [
    "**Interpretation:** The red dotted line represents the ROC curve of a purely random classifier; a good classifier stays as far away from that line as possible (toward the top-left corner).<br>\n",
    "From the above plot, we can see that the stacking model is away from the dotted line; with the AUC score 0.6621."
   ]
  },
  {
   "cell_type": "markdown",
   "id": "fac4cf61",
   "metadata": {
    "id": "mT4v4MvCEjYk"
   },
   "source": [
    "<a id=\"stack\"></a>\n",
    "# 4. Stack Generalization  2"
   ]
  },
  {
   "cell_type": "markdown",
   "id": "8e2e2fd2",
   "metadata": {
    "id": "bPlXGw7JEjY6"
   },
   "source": [
    "#### Build the stacking classifier using the Random forest, KNN and Naive bayes as base learners (consider the hyperparameters tuned using GridSearchCV in the previous sessions)."
   ]
  },
  {
   "cell_type": "code",
   "execution_count": 45,
   "id": "9d9247c3",
   "metadata": {
    "id": "40adEGSyEjY7",
    "outputId": "c989c64c-00ad-43e5-a18a-336092790bb6"
   },
   "outputs": [
    {
     "name": "stdout",
     "output_type": "stream",
     "text": [
      "CPU times: total: 10min 50s\n",
      "Wall time: 10min 31s\n"
     ]
    },
    {
     "data": {
      "text/plain": [
       "StackingClassifier(estimators=[('rf_model',\n",
       "                                RandomForestClassifier(max_depth=10,\n",
       "                                                       max_features='sqrt',\n",
       "                                                       max_leaf_nodes=11,\n",
       "                                                       min_samples_leaf=5,\n",
       "                                                       n_estimators=50)),\n",
       "                               ('xgb_model',\n",
       "                                XGBClassifier(base_score=None, booster=None,\n",
       "                                              callbacks=None,\n",
       "                                              colsample_bylevel=None,\n",
       "                                              colsample_bynode=None,\n",
       "                                              colsample_bytree=1,\n",
       "                                              early_stopping_rounds=None,\n",
       "                                              enable_categorical=False,\n",
       "                                              eval_metr...\n",
       "                                                 gpu_id=None, grow_policy=None,\n",
       "                                                 importance_type=None,\n",
       "                                                 interaction_constraints=None,\n",
       "                                                 learning_rate=None,\n",
       "                                                 max_bin=None,\n",
       "                                                 max_cat_threshold=None,\n",
       "                                                 max_cat_to_onehot=None,\n",
       "                                                 max_delta_step=None,\n",
       "                                                 max_depth=None,\n",
       "                                                 max_leaves=None,\n",
       "                                                 min_child_weight=None,\n",
       "                                                 missing=nan,\n",
       "                                                 monotone_constraints=None,\n",
       "                                                 n_estimators=100, n_jobs=None,\n",
       "                                                 num_parallel_tree=None,\n",
       "                                                 predictor=None,\n",
       "                                                 random_state=None, ...))"
      ]
     },
     "execution_count": 45,
     "metadata": {},
     "output_type": "execute_result"
    }
   ],
   "source": [
    "%%time\n",
    "# consider the various algorithms as base learners\n",
    "base_learners = [('rf_model', RandomForestClassifier(criterion='gini', max_depth= 10, max_features= 'sqrt', \n",
    "                                                     max_leaf_nodes= 11, min_samples_leaf= 5, min_samples_split=2, n_estimators= 50)),\n",
    "                 ('xgb_model',XGBClassifier(colsample_bytree= 1, gamma= 1, learning_rate= 0.2, max_depth= 4, \n",
    "                                            min_child_weight= 4, subsample= 1, tree_method= 'hist')), \n",
    "                 ('Gradient_model',GradientBoostingClassifier(n_estimators = 150, max_depth = 10, random_state = 10)),\n",
    "                 ('KNN_model', KNeighborsClassifier(n_neighbors = 23, metric = 'manhattan')),\n",
    "                 ('NB_model', GaussianNB())]\n",
    "\n",
    "# initialize stacking classifier \n",
    "# pass the base learners to the parameter, 'estimators'\n",
    "# pass the Naive Bayes model as the 'final_estimator'/ meta model\n",
    "stack_model = StackingClassifier(estimators = base_learners, final_estimator = XGBClassifier())\n",
    "\n",
    "# fit the model on train dataset\n",
    "stack_model.fit(X_train, y_train)"
   ]
  },
  {
   "cell_type": "markdown",
   "id": "91118503",
   "metadata": {
    "id": "kg_vZbU2EjY9"
   },
   "source": [
    "#### Plot the confusion matrix."
   ]
  },
  {
   "cell_type": "code",
   "execution_count": 46,
   "id": "1a27384f",
   "metadata": {
    "id": "9oJRHgFPEjY-",
    "outputId": "63bc278a-b11f-4b13-eaf4-2521c340b725"
   },
   "outputs": [
    {
     "data": {
      "image/png": "[encoded data removed]",
      "text/plain": [
       "<Figure size 432x288 with 1 Axes>"
      ]
     },
     "metadata": {
      "needs_background": "light"
     },
     "output_type": "display_data"
    }
   ],
   "source": [
    "# call the function to plot the confusion matrix\n",
    "# pass the stack model to the function\n",
    "plot_confusion_matrix(stack_model)"
   ]
  },
  {
   "cell_type": "markdown",
   "id": "5da73d02",
   "metadata": {
    "id": "fc7n8zqbEjY_"
   },
   "source": [
    "**Calculate performance measures on the test set.**"
   ]
  },
  {
   "cell_type": "code",
   "execution_count": 47,
   "id": "f74e7b7c",
   "metadata": {
    "id": "QJIc1sBLEjZA",
    "outputId": "a0d2f695-ad4f-47d5-a86d-8d93cedb3c22",
    "scrolled": false
   },
   "outputs": [
    {
     "name": "stdout",
     "output_type": "stream",
     "text": [
      "              precision    recall  f1-score   support\n",
      "\n",
      "           0       0.73      0.95      0.83     10814\n",
      "           1       0.52      0.14      0.23      4390\n",
      "\n",
      "    accuracy                           0.71     15204\n",
      "   macro avg       0.63      0.55      0.53     15204\n",
      "weighted avg       0.67      0.71      0.65     15204\n",
      "\n"
     ]
    }
   ],
   "source": [
    "# compute the performance measures on test data\n",
    "# call the function 'get_test_report'\n",
    "# pass the XGBoost model to the function\n",
    "test_report = get_test_report(stack_model)\n",
    "\n",
    "# print the performance measures\n",
    "print(test_report)"
   ]
  },
  {
   "cell_type": "code",
   "execution_count": 49,
   "id": "d4495a13",
   "metadata": {},
   "outputs": [
    {
     "data": {
      "text/plain": [
       "0.7847780126849895"
      ]
     },
     "execution_count": 49,
     "metadata": {},
     "output_type": "execute_result"
    }
   ],
   "source": [
    "stack_model.score(X_train,y_train)"
   ]
  },
  {
   "cell_type": "code",
   "execution_count": 50,
   "id": "98b73e67",
   "metadata": {},
   "outputs": [
    {
     "data": {
      "text/plain": [
       "0.7149434359379111"
      ]
     },
     "execution_count": 50,
     "metadata": {},
     "output_type": "execute_result"
    }
   ],
   "source": [
    "stack_model.score(X_test,y_test)"
   ]
  },
  {
   "cell_type": "markdown",
   "id": "82ccd0d6",
   "metadata": {
    "id": "3BuJLhPmEjZD"
   },
   "source": [
    "#### Plot the ROC curve."
   ]
  },
  {
   "cell_type": "code",
   "execution_count": 51,
   "id": "a1f68c2e",
   "metadata": {
    "id": "bB6Ja7gIEjZE",
    "outputId": "5704247e-b3c4-4fc0-aaeb-ec148a0f6c3a",
    "scrolled": false
   },
   "outputs": [
    {
     "data": {
      "image/png": "[encoded data removed]",
      "text/plain": [
       "<Figure size 432x288 with 1 Axes>"
      ]
     },
     "metadata": {
      "needs_background": "light"
     },
     "output_type": "display_data"
    }
   ],
   "source": [
    "# call the function to plot the ROC curve\n",
    "# pass the stack model to the function\n",
    "plot_roc(stack_model)"
   ]
  },
  {
   "cell_type": "markdown",
   "id": "d60ba546",
   "metadata": {
    "id": "ixFvz8DKEjZF"
   },
   "source": [
    "**Interpretation:** The red dotted line represents the ROC curve of a purely random classifier; a good classifier stays as far away from that line as possible (toward the top-left corner).<br>\n",
    "From the above plot, we can see that the stacking model is away from the dotted line; with the AUC score 0.6568."
   ]
  },
  {
   "cell_type": "markdown",
   "id": "eb8525bf",
   "metadata": {
    "id": "mT4v4MvCEjYk"
   },
   "source": [
    "<a id=\"stack\"></a>\n",
    "# 4. Stack Generalization  3"
   ]
  },
  {
   "cell_type": "markdown",
   "id": "0697aaf0",
   "metadata": {
    "id": "bPlXGw7JEjY6"
   },
   "source": [
    "#### Build the stacking classifier using the Random forest, KNN and Naive bayes as base learners (consider the hyperparameters tuned using GridSearchCV in the previous sessions)."
   ]
  },
  {
   "cell_type": "code",
   "execution_count": 52,
   "id": "3bcd7c16",
   "metadata": {
    "id": "40adEGSyEjY7",
    "outputId": "c989c64c-00ad-43e5-a18a-336092790bb6"
   },
   "outputs": [
    {
     "name": "stdout",
     "output_type": "stream",
     "text": [
      "CPU times: total: 10min 40s\n",
      "Wall time: 10min 16s\n"
     ]
    },
    {
     "data": {
      "text/plain": [
       "StackingClassifier(estimators=[('rf_model',\n",
       "                                RandomForestClassifier(max_depth=10,\n",
       "                                                       max_features='sqrt',\n",
       "                                                       max_leaf_nodes=11,\n",
       "                                                       min_samples_leaf=5,\n",
       "                                                       n_estimators=50)),\n",
       "                               ('xgb_model',\n",
       "                                XGBClassifier(base_score=None, booster=None,\n",
       "                                              callbacks=None,\n",
       "                                              colsample_bylevel=None,\n",
       "                                              colsample_bynode=None,\n",
       "                                              colsample_bytree=1,\n",
       "                                              early_stopping_rounds=None,\n",
       "                                              enable_categorical=False,\n",
       "                                              eval_metr...\n",
       "                                                 gpu_id=None, grow_policy=None,\n",
       "                                                 importance_type=None,\n",
       "                                                 interaction_constraints=None,\n",
       "                                                 learning_rate=None,\n",
       "                                                 max_bin=None,\n",
       "                                                 max_cat_threshold=None,\n",
       "                                                 max_cat_to_onehot=None,\n",
       "                                                 max_delta_step=None,\n",
       "                                                 max_depth=None,\n",
       "                                                 max_leaves=None,\n",
       "                                                 min_child_weight=None,\n",
       "                                                 missing=nan,\n",
       "                                                 monotone_constraints=None,\n",
       "                                                 n_estimators=100, n_jobs=None,\n",
       "                                                 num_parallel_tree=None,\n",
       "                                                 predictor=None,\n",
       "                                                 random_state=None, ...))"
      ]
     },
     "execution_count": 52,
     "metadata": {},
     "output_type": "execute_result"
    }
   ],
   "source": [
    "%%time\n",
    "# consider the various algorithms as base learners\n",
    "base_learners = [('rf_model', RandomForestClassifier(criterion='gini', max_depth= 10, max_features= 'sqrt', \n",
    "                                                     max_leaf_nodes= 11, min_samples_leaf= 5, min_samples_split=2, n_estimators= 50)),\n",
    "                 ('xgb_model',XGBClassifier(colsample_bytree= 1, gamma= 1, learning_rate= 0.2, max_depth= 4, \n",
    "                                            min_child_weight= 4, subsample= 1, tree_method= 'hist')), \n",
    "                 ('Gradient_model',GradientBoostingClassifier(n_estimators = 150, max_depth = 10, random_state = 10)),\n",
    "                 ('KNN_model', KNeighborsClassifier(n_neighbors = 23, metric = 'manhattan')),\n",
    "                 ('NB_model', GaussianNB())]\n",
    "\n",
    "# initialize stacking classifier \n",
    "# pass the base learners to the parameter, 'estimators'\n",
    "# pass the Naive Bayes model as the 'final_estimator'/ meta model\n",
    "stack_model = StackingClassifier(estimators = base_learners, final_estimator = XGBClassifier())\n",
    "\n",
    "# fit the model on train dataset\n",
    "stack_model.fit(X_train, y_train)"
   ]
  },
  {
   "cell_type": "markdown",
   "id": "454e3986",
   "metadata": {
    "id": "kg_vZbU2EjY9"
   },
   "source": [
    "#### Plot the confusion matrix."
   ]
  },
  {
   "cell_type": "code",
   "execution_count": 53,
   "id": "a08a41b1",
   "metadata": {
    "id": "9oJRHgFPEjY-",
    "outputId": "63bc278a-b11f-4b13-eaf4-2521c340b725"
   },
   "outputs": [
    {
     "data": {
      "image/png": "[encoded data removed]",
      "text/plain": [
       "<Figure size 432x288 with 1 Axes>"
      ]
     },
     "metadata": {
      "needs_background": "light"
     },
     "output_type": "display_data"
    }
   ],
   "source": [
    "# call the function to plot the confusion matrix\n",
    "# pass the stack model to the function\n",
    "plot_confusion_matrix(stack_model)"
   ]
  },
  {
   "cell_type": "markdown",
   "id": "c564bb3d",
   "metadata": {
    "id": "fc7n8zqbEjY_"
   },
   "source": [
    "**Calculate performance measures on the test set.**"
   ]
  },
  {
   "cell_type": "code",
   "execution_count": 54,
   "id": "ca889888",
   "metadata": {
    "id": "QJIc1sBLEjZA",
    "outputId": "a0d2f695-ad4f-47d5-a86d-8d93cedb3c22",
    "scrolled": false
   },
   "outputs": [
    {
     "name": "stdout",
     "output_type": "stream",
     "text": [
      "              precision    recall  f1-score   support\n",
      "\n",
      "           0       0.73      0.94      0.82     10814\n",
      "           1       0.51      0.14      0.22      4390\n",
      "\n",
      "    accuracy                           0.71     15204\n",
      "   macro avg       0.62      0.54      0.52     15204\n",
      "weighted avg       0.67      0.71      0.65     15204\n",
      "\n"
     ]
    }
   ],
   "source": [
    "# compute the performance measures on test data\n",
    "# call the function 'get_test_report'\n",
    "# pass the XGBoost model to the function\n",
    "test_report = get_test_report(stack_model)\n",
    "\n",
    "# print the performance measures\n",
    "print(test_report)"
   ]
  },
  {
   "cell_type": "code",
   "execution_count": 55,
   "id": "c31a75d2",
   "metadata": {},
   "outputs": [
    {
     "data": {
      "text/plain": [
       "0.7757575757575758"
      ]
     },
     "execution_count": 55,
     "metadata": {},
     "output_type": "execute_result"
    }
   ],
   "source": [
    "stack_model.score(X_train,y_train)"
   ]
  },
  {
   "cell_type": "code",
   "execution_count": 56,
   "id": "7e037b93",
   "metadata": {},
   "outputs": [
    {
     "data": {
      "text/plain": [
       "0.7130360431465403"
      ]
     },
     "execution_count": 56,
     "metadata": {},
     "output_type": "execute_result"
    }
   ],
   "source": [
    "stack_model.score(X_test,y_test)"
   ]
  },
  {
   "cell_type": "markdown",
   "id": "b04365b3",
   "metadata": {
    "id": "3BuJLhPmEjZD"
   },
   "source": [
    "#### Plot the ROC curve."
   ]
  },
  {
   "cell_type": "code",
   "execution_count": 57,
   "id": "d632295d",
   "metadata": {
    "id": "bB6Ja7gIEjZE",
    "outputId": "5704247e-b3c4-4fc0-aaeb-ec148a0f6c3a",
    "scrolled": false
   },
   "outputs": [
    {
     "data": {
      "image/png": "[encoded data removed]",
      "text/plain": [
       "<Figure size 432x288 with 1 Axes>"
      ]
     },
     "metadata": {
      "needs_background": "light"
     },
     "output_type": "display_data"
    }
   ],
   "source": [
    "# call the function to plot the ROC curve\n",
    "# pass the stack model to the function\n",
    "plot_roc(stack_model)"
   ]
  },
  {
   "cell_type": "markdown",
   "id": "c0b9be29",
   "metadata": {
    "id": "ixFvz8DKEjZF"
   },
   "source": [
    "**Interpretation:** The red dotted line represents the ROC curve of a purely random classifier; a good classifier stays as far away from that line as possible (toward the top-left corner).<br>\n",
    "From the above plot, we can see that the stacking model is away from the dotted line; with the AUC score 0.6621."
   ]
  },
  {
   "cell_type": "code",
   "execution_count": null,
   "id": "73291fa1",
   "metadata": {},
   "outputs": [],
   "source": []
  }
 ],
 "metadata": {
  "kernelspec": {
   "display_name": "Python 3 (ipykernel)",
   "language": "python",
   "name": "python3"
  },
  "language_info": {
   "codemirror_mode": {
    "name": "ipython",
    "version": 3
   },
   "file_extension": ".py",
   "mimetype": "text/x-python",
   "name": "python",
   "nbconvert_exporter": "python",
   "pygments_lexer": "ipython3",
   "version": "3.9.12"
  }
 },
 "nbformat": 4,
 "nbformat_minor": 5
}
