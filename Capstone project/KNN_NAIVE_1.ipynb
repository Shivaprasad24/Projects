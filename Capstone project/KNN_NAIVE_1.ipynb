{
 "cells": [
  {
   "cell_type": "code",
   "execution_count": 1,
   "id": "50275537",
   "metadata": {},
   "outputs": [],
   "source": [
    "# import 'Pandas' \n",
    "import pandas as pd \n",
    "\n",
    "# import 'Numpy' \n",
    "import numpy as np\n",
    "\n",
    "# import subpackage of Matplotlib\n",
    "import matplotlib.pyplot as plt\n",
    "from matplotlib.colors import ListedColormap\n",
    "\n",
    "# import 'Seaborn' \n",
    "import seaborn as sns\n",
    "\n",
    "# to suppress warnings \n",
    "from warnings import filterwarnings\n",
    "filterwarnings('ignore')\n",
    "\n",
    "# display all columns of the dataframe\n",
    "pd.options.display.max_columns = None\n",
    "\n",
    "# display all rows of the dataframe\n",
    "pd.options.display.max_rows = None\n",
    " \n",
    "# to display the float values upto 6 decimal places     \n",
    "pd.options.display.float_format = '{:.6f}'.format\n",
    "\n",
    "# import train-test split \n",
    "from sklearn.model_selection import train_test_split\n",
    "\n",
    "# import functions to perform scaling and normalization\n",
    "from sklearn.preprocessing import StandardScaler \n",
    "from sklearn.preprocessing import MinMaxScaler\n",
    "\n",
    "import statsmodels\n",
    "import statsmodels.api as sm\n",
    "\n",
    "from sklearn.preprocessing import StandardScaler\n",
    "\n",
    "# import various functions from sklearn \n",
    "from sklearn import metrics\n",
    "from sklearn.metrics import classification_report\n",
    "from sklearn.metrics import confusion_matrix\n",
    "from sklearn.metrics import roc_curve\n",
    "from sklearn.metrics import roc_auc_score\n",
    "from sklearn.neighbors import KNeighborsClassifier\n",
    "from sklearn.naive_bayes import GaussianNB\n",
    "from sklearn.model_selection import GridSearchCV\n",
    "from sklearn.model_selection import cross_val_score "
   ]
  },
  {
   "cell_type": "code",
   "execution_count": 2,
   "id": "56a24af4",
   "metadata": {},
   "outputs": [
    {
     "data": {
      "text/html": [
       "<div>\n",
       "<style scoped>\n",
       "    .dataframe tbody tr th:only-of-type {\n",
       "        vertical-align: middle;\n",
       "    }\n",
       "\n",
       "    .dataframe tbody tr th {\n",
       "        vertical-align: top;\n",
       "    }\n",
       "\n",
       "    .dataframe thead th {\n",
       "        text-align: right;\n",
       "    }\n",
       "</style>\n",
       "<table border=\"1\" class=\"dataframe\">\n",
       "  <thead>\n",
       "    <tr style=\"text-align: right;\">\n",
       "      <th></th>\n",
       "      <th>Churn</th>\n",
       "      <th>MonthlyRevenue</th>\n",
       "      <th>MonthlyMinutes</th>\n",
       "      <th>TotalRecurringCharge</th>\n",
       "      <th>DirectorAssistedCalls</th>\n",
       "      <th>OverageMinutes</th>\n",
       "      <th>RoamingCalls</th>\n",
       "      <th>PercChangeMinutes</th>\n",
       "      <th>PercChangeRevenues</th>\n",
       "      <th>DroppedCalls</th>\n",
       "      <th>BlockedCalls</th>\n",
       "      <th>UnansweredCalls</th>\n",
       "      <th>CustomerCareCalls</th>\n",
       "      <th>ThreewayCalls</th>\n",
       "      <th>ReceivedCalls</th>\n",
       "      <th>OutboundCalls</th>\n",
       "      <th>InboundCalls</th>\n",
       "      <th>PeakCallsInOut</th>\n",
       "      <th>OffPeakCallsInOut</th>\n",
       "      <th>DroppedBlockedCalls</th>\n",
       "      <th>CallForwardingCalls</th>\n",
       "      <th>CallWaitingCalls</th>\n",
       "      <th>MonthsInService</th>\n",
       "      <th>UniqueSubs</th>\n",
       "      <th>ActiveSubs</th>\n",
       "      <th>Handsets</th>\n",
       "      <th>HandsetModels</th>\n",
       "      <th>CurrentEquipmentDays</th>\n",
       "      <th>AgeHH1</th>\n",
       "      <th>AgeHH2</th>\n",
       "      <th>RetentionCalls</th>\n",
       "      <th>RetentionOffersAccepted</th>\n",
       "      <th>ReferralsMadeBySubscriber</th>\n",
       "      <th>AdjustmentsToCreditRating</th>\n",
       "      <th>ChildrenInHH_Yes</th>\n",
       "      <th>HandsetRefurbished_Yes</th>\n",
       "      <th>HandsetWebCapable_Yes</th>\n",
       "      <th>TruckOwner_Yes</th>\n",
       "      <th>RVOwner_Yes</th>\n",
       "      <th>Homeownership_Unknown</th>\n",
       "      <th>BuysViaMailOrder_Yes</th>\n",
       "      <th>RespondsToMailOffers_Yes</th>\n",
       "      <th>OptOutMailings_Yes</th>\n",
       "      <th>NonUSTravel_Yes</th>\n",
       "      <th>OwnsComputer_Yes</th>\n",
       "      <th>HasCreditCard_Yes</th>\n",
       "      <th>NewCellphoneUser_Yes</th>\n",
       "      <th>IncomeGroup_Low income</th>\n",
       "      <th>IncomeGroup_Medium income</th>\n",
       "      <th>OwnsMotorcycle_Yes</th>\n",
       "      <th>MadeCallToRetentionTeam_Yes</th>\n",
       "      <th>CreditRating_Low</th>\n",
       "      <th>CreditRating_Medium</th>\n",
       "      <th>PrizmCode_Rural</th>\n",
       "      <th>PrizmCode_Suburban</th>\n",
       "      <th>PrizmCode_Town</th>\n",
       "      <th>Occupation_Professional</th>\n",
       "      <th>New_maritalstatus_Yes</th>\n",
       "    </tr>\n",
       "  </thead>\n",
       "  <tbody>\n",
       "    <tr>\n",
       "      <th>0</th>\n",
       "      <td>1</td>\n",
       "      <td>-1.089034</td>\n",
       "      <td>-0.422798</td>\n",
       "      <td>-1.125036</td>\n",
       "      <td>-0.044197</td>\n",
       "      <td>-0.995504</td>\n",
       "      <td>-0.621914</td>\n",
       "      <td>-0.566549</td>\n",
       "      <td>-0.450622</td>\n",
       "      <td>-0.889336</td>\n",
       "      <td>-0.306586</td>\n",
       "      <td>-0.568253</td>\n",
       "      <td>-0.824996</td>\n",
       "      <td>-0.604886</td>\n",
       "      <td>0.460593</td>\n",
       "      <td>-1.610162</td>\n",
       "      <td>-1.182049</td>\n",
       "      <td>0.012439</td>\n",
       "      <td>-0.218215</td>\n",
       "      <td>-0.899446</td>\n",
       "      <td>-0.068108</td>\n",
       "      <td>-0.150674</td>\n",
       "      <td>2.477643</td>\n",
       "      <td>1.165226</td>\n",
       "      <td>-0.581885</td>\n",
       "      <td>0.807270</td>\n",
       "      <td>1.119678</td>\n",
       "      <td>0.107745</td>\n",
       "      <td>1.172978</td>\n",
       "      <td>-0.940475</td>\n",
       "      <td>5.452813</td>\n",
       "      <td>-0.132239</td>\n",
       "      <td>-0.221591</td>\n",
       "      <td>-0.192672</td>\n",
       "      <td>0</td>\n",
       "      <td>0</td>\n",
       "      <td>1</td>\n",
       "      <td>0</td>\n",
       "      <td>0</td>\n",
       "      <td>0</td>\n",
       "      <td>1</td>\n",
       "      <td>1</td>\n",
       "      <td>0</td>\n",
       "      <td>0</td>\n",
       "      <td>1</td>\n",
       "      <td>1</td>\n",
       "      <td>0</td>\n",
       "      <td>0</td>\n",
       "      <td>1</td>\n",
       "      <td>0</td>\n",
       "      <td>1</td>\n",
       "      <td>0</td>\n",
       "      <td>0</td>\n",
       "      <td>0</td>\n",
       "      <td>1</td>\n",
       "      <td>0</td>\n",
       "      <td>1</td>\n",
       "      <td>0</td>\n",
       "    </tr>\n",
       "    <tr>\n",
       "      <th>1</th>\n",
       "      <td>1</td>\n",
       "      <td>-1.556158</td>\n",
       "      <td>-1.937776</td>\n",
       "      <td>-1.450779</td>\n",
       "      <td>-0.912074</td>\n",
       "      <td>-0.995504</td>\n",
       "      <td>-0.621914</td>\n",
       "      <td>0.018886</td>\n",
       "      <td>0.088432</td>\n",
       "      <td>-1.200278</td>\n",
       "      <td>-1.216280</td>\n",
       "      <td>-1.013639</td>\n",
       "      <td>-0.824996</td>\n",
       "      <td>-0.604886</td>\n",
       "      <td>-1.600850</td>\n",
       "      <td>-1.610162</td>\n",
       "      <td>-1.182049</td>\n",
       "      <td>-1.319026</td>\n",
       "      <td>-1.537118</td>\n",
       "      <td>-1.429573</td>\n",
       "      <td>-0.068108</td>\n",
       "      <td>-0.897074</td>\n",
       "      <td>2.388088</td>\n",
       "      <td>-0.760155</td>\n",
       "      <td>-0.581885</td>\n",
       "      <td>0.807270</td>\n",
       "      <td>-0.767089</td>\n",
       "      <td>3.053676</td>\n",
       "      <td>0.489551</td>\n",
       "      <td>1.056411</td>\n",
       "      <td>-0.183392</td>\n",
       "      <td>-0.132239</td>\n",
       "      <td>-0.221591</td>\n",
       "      <td>-0.192672</td>\n",
       "      <td>1</td>\n",
       "      <td>0</td>\n",
       "      <td>0</td>\n",
       "      <td>0</td>\n",
       "      <td>0</td>\n",
       "      <td>0</td>\n",
       "      <td>1</td>\n",
       "      <td>1</td>\n",
       "      <td>0</td>\n",
       "      <td>0</td>\n",
       "      <td>1</td>\n",
       "      <td>1</td>\n",
       "      <td>1</td>\n",
       "      <td>0</td>\n",
       "      <td>1</td>\n",
       "      <td>0</td>\n",
       "      <td>0</td>\n",
       "      <td>0</td>\n",
       "      <td>1</td>\n",
       "      <td>0</td>\n",
       "      <td>1</td>\n",
       "      <td>0</td>\n",
       "      <td>1</td>\n",
       "      <td>1</td>\n",
       "    </tr>\n",
       "    <tr>\n",
       "      <th>2</th>\n",
       "      <td>0</td>\n",
       "      <td>-0.420564</td>\n",
       "      <td>-1.998448</td>\n",
       "      <td>-0.272519</td>\n",
       "      <td>-0.912074</td>\n",
       "      <td>-0.995504</td>\n",
       "      <td>-0.621914</td>\n",
       "      <td>0.026624</td>\n",
       "      <td>0.088432</td>\n",
       "      <td>-1.515686</td>\n",
       "      <td>-1.216280</td>\n",
       "      <td>-1.760480</td>\n",
       "      <td>-0.824996</td>\n",
       "      <td>-0.604886</td>\n",
       "      <td>-1.495143</td>\n",
       "      <td>-1.466096</td>\n",
       "      <td>-1.182049</td>\n",
       "      <td>-1.665568</td>\n",
       "      <td>-1.154741</td>\n",
       "      <td>-1.675080</td>\n",
       "      <td>-0.068108</td>\n",
       "      <td>-0.897074</td>\n",
       "      <td>2.448340</td>\n",
       "      <td>-0.760155</td>\n",
       "      <td>-0.581885</td>\n",
       "      <td>-0.850485</td>\n",
       "      <td>-0.767089</td>\n",
       "      <td>3.614747</td>\n",
       "      <td>-0.022125</td>\n",
       "      <td>0.852418</td>\n",
       "      <td>-0.183392</td>\n",
       "      <td>-0.132239</td>\n",
       "      <td>-0.221591</td>\n",
       "      <td>-0.192672</td>\n",
       "      <td>1</td>\n",
       "      <td>0</td>\n",
       "      <td>0</td>\n",
       "      <td>0</td>\n",
       "      <td>0</td>\n",
       "      <td>1</td>\n",
       "      <td>0</td>\n",
       "      <td>0</td>\n",
       "      <td>0</td>\n",
       "      <td>0</td>\n",
       "      <td>0</td>\n",
       "      <td>1</td>\n",
       "      <td>1</td>\n",
       "      <td>0</td>\n",
       "      <td>1</td>\n",
       "      <td>0</td>\n",
       "      <td>0</td>\n",
       "      <td>0</td>\n",
       "      <td>1</td>\n",
       "      <td>0</td>\n",
       "      <td>0</td>\n",
       "      <td>1</td>\n",
       "      <td>1</td>\n",
       "      <td>1</td>\n",
       "    </tr>\n",
       "    <tr>\n",
       "      <th>3</th>\n",
       "      <td>0</td>\n",
       "      <td>0.826362</td>\n",
       "      <td>1.392611</td>\n",
       "      <td>1.180063</td>\n",
       "      <td>1.170112</td>\n",
       "      <td>-0.995504</td>\n",
       "      <td>-0.621914</td>\n",
       "      <td>0.655061</td>\n",
       "      <td>0.284291</td>\n",
       "      <td>2.228625</td>\n",
       "      <td>1.290204</td>\n",
       "      <td>1.349529</td>\n",
       "      <td>1.501970</td>\n",
       "      <td>1.946418</td>\n",
       "      <td>0.941048</td>\n",
       "      <td>2.908416</td>\n",
       "      <td>2.064116</td>\n",
       "      <td>2.505608</td>\n",
       "      <td>1.813093</td>\n",
       "      <td>2.044460</td>\n",
       "      <td>-0.068108</td>\n",
       "      <td>1.849625</td>\n",
       "      <td>2.418494</td>\n",
       "      <td>1.165226</td>\n",
       "      <td>1.348420</td>\n",
       "      <td>1.895246</td>\n",
       "      <td>1.700472</td>\n",
       "      <td>0.466880</td>\n",
       "      <td>0.132730</td>\n",
       "      <td>-0.940475</td>\n",
       "      <td>-0.183392</td>\n",
       "      <td>-0.132239</td>\n",
       "      <td>-0.221591</td>\n",
       "      <td>-0.192672</td>\n",
       "      <td>0</td>\n",
       "      <td>0</td>\n",
       "      <td>1</td>\n",
       "      <td>0</td>\n",
       "      <td>0</td>\n",
       "      <td>0</td>\n",
       "      <td>1</td>\n",
       "      <td>1</td>\n",
       "      <td>0</td>\n",
       "      <td>0</td>\n",
       "      <td>0</td>\n",
       "      <td>1</td>\n",
       "      <td>1</td>\n",
       "      <td>0</td>\n",
       "      <td>1</td>\n",
       "      <td>0</td>\n",
       "      <td>0</td>\n",
       "      <td>0</td>\n",
       "      <td>1</td>\n",
       "      <td>0</td>\n",
       "      <td>0</td>\n",
       "      <td>0</td>\n",
       "      <td>0</td>\n",
       "      <td>0</td>\n",
       "    </tr>\n",
       "    <tr>\n",
       "      <th>4</th>\n",
       "      <td>1</td>\n",
       "      <td>-1.544648</td>\n",
       "      <td>-2.469987</td>\n",
       "      <td>-1.450779</td>\n",
       "      <td>-0.912074</td>\n",
       "      <td>-0.995504</td>\n",
       "      <td>-0.621914</td>\n",
       "      <td>0.034384</td>\n",
       "      <td>0.083251</td>\n",
       "      <td>-1.515686</td>\n",
       "      <td>-1.216280</td>\n",
       "      <td>-1.760480</td>\n",
       "      <td>-0.824996</td>\n",
       "      <td>-0.604886</td>\n",
       "      <td>-1.600850</td>\n",
       "      <td>-1.610162</td>\n",
       "      <td>-1.182049</td>\n",
       "      <td>-1.898531</td>\n",
       "      <td>-1.807759</td>\n",
       "      <td>-1.675080</td>\n",
       "      <td>-0.068108</td>\n",
       "      <td>-0.897074</td>\n",
       "      <td>2.226882</td>\n",
       "      <td>1.165226</td>\n",
       "      <td>1.348420</td>\n",
       "      <td>1.594044</td>\n",
       "      <td>1.552675</td>\n",
       "      <td>1.628558</td>\n",
       "      <td>0.687544</td>\n",
       "      <td>1.160087</td>\n",
       "      <td>-0.183392</td>\n",
       "      <td>-0.132239</td>\n",
       "      <td>-0.221591</td>\n",
       "      <td>5.190155</td>\n",
       "      <td>0</td>\n",
       "      <td>0</td>\n",
       "      <td>0</td>\n",
       "      <td>0</td>\n",
       "      <td>0</td>\n",
       "      <td>0</td>\n",
       "      <td>1</td>\n",
       "      <td>1</td>\n",
       "      <td>0</td>\n",
       "      <td>0</td>\n",
       "      <td>1</td>\n",
       "      <td>1</td>\n",
       "      <td>0</td>\n",
       "      <td>1</td>\n",
       "      <td>0</td>\n",
       "      <td>0</td>\n",
       "      <td>0</td>\n",
       "      <td>0</td>\n",
       "      <td>0</td>\n",
       "      <td>0</td>\n",
       "      <td>0</td>\n",
       "      <td>0</td>\n",
       "      <td>1</td>\n",
       "      <td>1</td>\n",
       "    </tr>\n",
       "  </tbody>\n",
       "</table>\n",
       "</div>"
      ],
      "text/plain": [
       "   Churn  MonthlyRevenue  MonthlyMinutes  TotalRecurringCharge  \\\n",
       "0      1       -1.089034       -0.422798             -1.125036   \n",
       "1      1       -1.556158       -1.937776             -1.450779   \n",
       "2      0       -0.420564       -1.998448             -0.272519   \n",
       "3      0        0.826362        1.392611              1.180063   \n",
       "4      1       -1.544648       -2.469987             -1.450779   \n",
       "\n",
       "   DirectorAssistedCalls  OverageMinutes  RoamingCalls  PercChangeMinutes  \\\n",
       "0              -0.044197       -0.995504     -0.621914          -0.566549   \n",
       "1              -0.912074       -0.995504     -0.621914           0.018886   \n",
       "2              -0.912074       -0.995504     -0.621914           0.026624   \n",
       "3               1.170112       -0.995504     -0.621914           0.655061   \n",
       "4              -0.912074       -0.995504     -0.621914           0.034384   \n",
       "\n",
       "   PercChangeRevenues  DroppedCalls  BlockedCalls  UnansweredCalls  \\\n",
       "0           -0.450622     -0.889336     -0.306586        -0.568253   \n",
       "1            0.088432     -1.200278     -1.216280        -1.013639   \n",
       "2            0.088432     -1.515686     -1.216280        -1.760480   \n",
       "3            0.284291      2.228625      1.290204         1.349529   \n",
       "4            0.083251     -1.515686     -1.216280        -1.760480   \n",
       "\n",
       "   CustomerCareCalls  ThreewayCalls  ReceivedCalls  OutboundCalls  \\\n",
       "0          -0.824996      -0.604886       0.460593      -1.610162   \n",
       "1          -0.824996      -0.604886      -1.600850      -1.610162   \n",
       "2          -0.824996      -0.604886      -1.495143      -1.466096   \n",
       "3           1.501970       1.946418       0.941048       2.908416   \n",
       "4          -0.824996      -0.604886      -1.600850      -1.610162   \n",
       "\n",
       "   InboundCalls  PeakCallsInOut  OffPeakCallsInOut  DroppedBlockedCalls  \\\n",
       "0     -1.182049        0.012439          -0.218215            -0.899446   \n",
       "1     -1.182049       -1.319026          -1.537118            -1.429573   \n",
       "2     -1.182049       -1.665568          -1.154741            -1.675080   \n",
       "3      2.064116        2.505608           1.813093             2.044460   \n",
       "4     -1.182049       -1.898531          -1.807759            -1.675080   \n",
       "\n",
       "   CallForwardingCalls  CallWaitingCalls  MonthsInService  UniqueSubs  \\\n",
       "0            -0.068108         -0.150674         2.477643    1.165226   \n",
       "1            -0.068108         -0.897074         2.388088   -0.760155   \n",
       "2            -0.068108         -0.897074         2.448340   -0.760155   \n",
       "3            -0.068108          1.849625         2.418494    1.165226   \n",
       "4            -0.068108         -0.897074         2.226882    1.165226   \n",
       "\n",
       "   ActiveSubs  Handsets  HandsetModels  CurrentEquipmentDays    AgeHH1  \\\n",
       "0   -0.581885  0.807270       1.119678              0.107745  1.172978   \n",
       "1   -0.581885  0.807270      -0.767089              3.053676  0.489551   \n",
       "2   -0.581885 -0.850485      -0.767089              3.614747 -0.022125   \n",
       "3    1.348420  1.895246       1.700472              0.466880  0.132730   \n",
       "4    1.348420  1.594044       1.552675              1.628558  0.687544   \n",
       "\n",
       "     AgeHH2  RetentionCalls  RetentionOffersAccepted  \\\n",
       "0 -0.940475        5.452813                -0.132239   \n",
       "1  1.056411       -0.183392                -0.132239   \n",
       "2  0.852418       -0.183392                -0.132239   \n",
       "3 -0.940475       -0.183392                -0.132239   \n",
       "4  1.160087       -0.183392                -0.132239   \n",
       "\n",
       "   ReferralsMadeBySubscriber  AdjustmentsToCreditRating  ChildrenInHH_Yes  \\\n",
       "0                  -0.221591                  -0.192672                 0   \n",
       "1                  -0.221591                  -0.192672                 1   \n",
       "2                  -0.221591                  -0.192672                 1   \n",
       "3                  -0.221591                  -0.192672                 0   \n",
       "4                  -0.221591                   5.190155                 0   \n",
       "\n",
       "   HandsetRefurbished_Yes  HandsetWebCapable_Yes  TruckOwner_Yes  RVOwner_Yes  \\\n",
       "0                       0                      1               0            0   \n",
       "1                       0                      0               0            0   \n",
       "2                       0                      0               0            0   \n",
       "3                       0                      1               0            0   \n",
       "4                       0                      0               0            0   \n",
       "\n",
       "   Homeownership_Unknown  BuysViaMailOrder_Yes  RespondsToMailOffers_Yes  \\\n",
       "0                      0                     1                         1   \n",
       "1                      0                     1                         1   \n",
       "2                      1                     0                         0   \n",
       "3                      0                     1                         1   \n",
       "4                      0                     1                         1   \n",
       "\n",
       "   OptOutMailings_Yes  NonUSTravel_Yes  OwnsComputer_Yes  HasCreditCard_Yes  \\\n",
       "0                   0                0                 1                  1   \n",
       "1                   0                0                 1                  1   \n",
       "2                   0                0                 0                  1   \n",
       "3                   0                0                 0                  1   \n",
       "4                   0                0                 1                  1   \n",
       "\n",
       "   NewCellphoneUser_Yes  IncomeGroup_Low income  IncomeGroup_Medium income  \\\n",
       "0                     0                       0                          1   \n",
       "1                     1                       0                          1   \n",
       "2                     1                       0                          1   \n",
       "3                     1                       0                          1   \n",
       "4                     0                       1                          0   \n",
       "\n",
       "   OwnsMotorcycle_Yes  MadeCallToRetentionTeam_Yes  CreditRating_Low  \\\n",
       "0                   0                            1                 0   \n",
       "1                   0                            0                 0   \n",
       "2                   0                            0                 0   \n",
       "3                   0                            0                 0   \n",
       "4                   0                            0                 0   \n",
       "\n",
       "   CreditRating_Medium  PrizmCode_Rural  PrizmCode_Suburban  PrizmCode_Town  \\\n",
       "0                    0                0                   1               0   \n",
       "1                    1                0                   1               0   \n",
       "2                    1                0                   0               1   \n",
       "3                    1                0                   0               0   \n",
       "4                    0                0                   0               0   \n",
       "\n",
       "   Occupation_Professional  New_maritalstatus_Yes  \n",
       "0                        1                      0  \n",
       "1                        1                      1  \n",
       "2                        1                      1  \n",
       "3                        0                      0  \n",
       "4                        1                      1  "
      ]
     },
     "execution_count": 2,
     "metadata": {},
     "output_type": "execute_result"
    }
   ],
   "source": [
    "df = pd.read_csv('data_eda_1.csv',index_col=0)\n",
    "df.head()"
   ]
  },
  {
   "cell_type": "markdown",
   "id": "b4bd0408",
   "metadata": {},
   "source": [
    "## Split the dependent and independent variables"
   ]
  },
  {
   "cell_type": "code",
   "execution_count": 3,
   "id": "99f25219",
   "metadata": {},
   "outputs": [],
   "source": [
    "# store the target variable 'Loan Status' in a dataframe 'df_target'\n",
    "df_target = df['Churn']\n",
    "\n",
    "# store all the independent variables in a dataframe 'df_feature' \n",
    "# drop the column 'Loan Status' using drop()\n",
    "# 'axis = 1' drops the specified column\n",
    "df_features = df.drop('Churn', axis = 1)"
   ]
  },
  {
   "cell_type": "markdown",
   "id": "20232d56",
   "metadata": {},
   "source": [
    "## Train Test Split"
   ]
  },
  {
   "cell_type": "code",
   "execution_count": 4,
   "id": "e19deb91",
   "metadata": {},
   "outputs": [
    {
     "name": "stdout",
     "output_type": "stream",
     "text": [
      "x_train:  (35475, 57)\n",
      "y_train:  (35475,)\n",
      "x_test:  (15204, 57)\n",
      "y_test:  (15204,)\n"
     ]
    }
   ],
   "source": [
    "# split data into train subset and test subset\n",
    "# set 'random_state' to generate the same dataset each time you run the code \n",
    "# 'test_size' returns the proportion of data to be included in the testing set\n",
    "x_train, x_test ,y_train ,y_test = train_test_split(df_features,df_target, random_state=0, test_size=0.30)\n",
    "\n",
    "# check the dimensions of the train & test subset using 'shape'\n",
    "# print dimension of train set\n",
    "print('x_train: ',x_train.shape)\n",
    "print('y_train: ',y_train.shape)\n",
    "\n",
    "# print dimension of test set\n",
    "print('x_test: ',x_test.shape)\n",
    "print('y_test: ',y_test.shape)"
   ]
  },
  {
   "cell_type": "markdown",
   "id": "eb926bc8",
   "metadata": {},
   "source": [
    "#### Create a generalized function to calculate the performance metrics for the test set"
   ]
  },
  {
   "cell_type": "code",
   "execution_count": 5,
   "id": "37fae0e6",
   "metadata": {},
   "outputs": [],
   "source": [
    "# create a generalized function to calculate the performance metrics values for test set\n",
    "def get_test_report(model, test_data):\n",
    "    \n",
    "    # for test set:\n",
    "    # test_pred: prediction made by the model on the test dataset 'X_test'\n",
    "    # y_test: actual values of the target variable for the test dataset\n",
    "\n",
    "    # predict the output of the target variable from the test data \n",
    "    test_pred = model.predict(test_data)\n",
    "\n",
    "    # return the classification report for test data\n",
    "    return(classification_report(y_test, test_pred))"
   ]
  },
  {
   "cell_type": "markdown",
   "id": "677ffd4f",
   "metadata": {},
   "source": [
    "### Define a function to plot the confusion matrix."
   ]
  },
  {
   "cell_type": "code",
   "execution_count": 6,
   "id": "8739404d",
   "metadata": {},
   "outputs": [],
   "source": [
    "# define a to plot a confusion matrix for the model\n",
    "def plot_confusion_matrix(model, test_data):\n",
    "    \n",
    "    # predict the target values using X_test\n",
    "    y_pred = model.predict(test_data)\n",
    "    \n",
    "    # create a confusion matrix\n",
    "    # pass the actual and predicted target values to the confusion_matrix()\n",
    "    cm = confusion_matrix(y_test, y_pred)\n",
    "\n",
    "    # label the confusion matrix  \n",
    "    # pass the matrix as 'data'\n",
    "    # pass the required column names to the parameter, 'columns'\n",
    "    # pass the required row names to the parameter, 'index'\n",
    "    conf_matrix = pd.DataFrame(data = cm,columns = ['Predicted:0','Predicted:1'], index = ['Actual:0','Actual:1'])\n",
    "\n",
    "    # plot a heatmap to visualize the confusion matrix\n",
    "    # 'annot' prints the value of each grid \n",
    "    # 'fmt = d' returns the integer value in each grid\n",
    "    # 'cmap' assigns color to each grid\n",
    "    # as we do not require different colors for each grid in the heatmap,\n",
    "    # use 'ListedColormap' to assign the specified color to the grid\n",
    "    # 'cbar = False' will not return the color bar to the right side of the heatmap\n",
    "    # 'linewidths' assigns the width to the line that divides each grid\n",
    "    # 'annot_kws = {'size':25})' assigns the font size of the annotated text \n",
    "    sns.heatmap(conf_matrix, annot = True, fmt = 'd', cmap = ListedColormap(['lightskyblue']), cbar = False, \n",
    "                linewidths = 0.1, annot_kws = {'size':25})\n",
    "\n",
    "    # set the font size of x-axis ticks using 'fontsize'\n",
    "    plt.xticks(fontsize = 20)\n",
    "\n",
    "    # set the font size of y-axis ticks using 'fontsize'\n",
    "    plt.yticks(fontsize = 20)\n",
    "\n",
    "    # display the plot\n",
    "    plt.show()"
   ]
  },
  {
   "cell_type": "markdown",
   "id": "cb9779f0",
   "metadata": {},
   "source": [
    "### Define a function to plot the ROC curve"
   ]
  },
  {
   "cell_type": "code",
   "execution_count": 7,
   "id": "0bcb40a1",
   "metadata": {},
   "outputs": [],
   "source": [
    "# define a function to plot the ROC curve and print the ROC-AUC score\n",
    "def plot_roc(model, test_data):\n",
    "    \n",
    "    # predict the probability of target variable using X_test\n",
    "    # consider the probability of positive class by subsetting with '[:,1]'\n",
    "    y_pred_prob = model.predict_proba(test_data)[:,1]\n",
    "    \n",
    "    # the roc_curve() returns the values for false positive rate, true positive rate and threshold\n",
    "    # pass the actual target values and predicted probabilities to the function\n",
    "    fpr, tpr, thresholds = roc_curve(y_test, y_pred_prob)\n",
    "\n",
    "    # plot the ROC curve\n",
    "    plt.plot(fpr, tpr)\n",
    "\n",
    "    # set limits for x and y axes\n",
    "    plt.xlim([0.0, 1.0])\n",
    "    plt.ylim([0.0, 1.0])\n",
    "\n",
    "    # plot the straight line showing worst prediction for the model\n",
    "    plt.plot([0, 1], [0, 1],'r--')\n",
    "\n",
    "    # add plot and axes labels\n",
    "    # set text size using 'fontsize'\n",
    "    plt.title('ROC curve for Cancer Prediction Classifier', fontsize = 15)\n",
    "    plt.xlabel('False positive rate (1-Specificity)', fontsize = 15)\n",
    "    plt.ylabel('True positive rate (Sensitivity)', fontsize = 15)\n",
    "\n",
    "    # add the AUC score to the plot\n",
    "    # 'x' and 'y' gives position of the text\n",
    "    # 's' is the text \n",
    "    # use round() to round-off the AUC score upto 4 digits\n",
    "    plt.text(x = 0.02, y = 0.9, s = ('AUC Score:',round(roc_auc_score(y_test, y_pred_prob),4)))\n",
    "\n",
    "    # plot the grid\n",
    "    plt.grid(True)"
   ]
  },
  {
   "cell_type": "markdown",
   "id": "887ca3c0",
   "metadata": {},
   "source": [
    "# 3. K Nearest Neighbors (KNN)"
   ]
  },
  {
   "cell_type": "markdown",
   "id": "78be9a73",
   "metadata": {},
   "source": [
    "KNN is a classification machine learning algorithm used to identify the class of the observation. This algorithm search for K nearest points to determine the class of an observation. To identify the nearest points, it considers the distance metrics like Euclidean, Manhattan, Chebyshev, Hamming, and so on."
   ]
  },
  {
   "cell_type": "markdown",
   "id": "f99e2791",
   "metadata": {},
   "source": [
    "#### Build a knn model on a training dataset using euclidean distance (Standardized Data)"
   ]
  },
  {
   "cell_type": "code",
   "execution_count": 8,
   "id": "313d7792",
   "metadata": {},
   "outputs": [],
   "source": [
    "# instantiate the 'KNeighborsClassifier'\n",
    "# n_neighnors: number of neighbors to consider\n",
    "# default metric is minkowski, and with p=2 it is equivalent to the euclidean metric\n",
    "knn_classification = KNeighborsClassifier(n_neighbors = 3)\n",
    "\n",
    "# fit the model using fit() on train data\n",
    "knn_model = knn_classification.fit(x_train, y_train)"
   ]
  },
  {
   "cell_type": "markdown",
   "id": "34083710",
   "metadata": {},
   "source": [
    "### Build a confusion matrix."
   ]
  },
  {
   "cell_type": "code",
   "execution_count": 9,
   "id": "8d29e408",
   "metadata": {},
   "outputs": [
    {
     "data": {
      "image/png": "[encoded data removed]",
      "text/plain": [
       "<Figure size 432x288 with 1 Axes>"
      ]
     },
     "metadata": {
      "needs_background": "light"
     },
     "output_type": "display_data"
    }
   ],
   "source": [
    "# call the function to plot the confusion matrix\n",
    "# pass the knn model to the function\n",
    "plot_confusion_matrix(knn_model, test_data = x_test)"
   ]
  },
  {
   "cell_type": "markdown",
   "id": "09101795",
   "metadata": {},
   "source": [
    "#### Calculate performance measures on the test set"
   ]
  },
  {
   "cell_type": "code",
   "execution_count": 10,
   "id": "1c916611",
   "metadata": {},
   "outputs": [
    {
     "name": "stdout",
     "output_type": "stream",
     "text": [
      "              precision    recall  f1-score   support\n",
      "\n",
      "           0       0.72      0.82      0.77     10773\n",
      "           1       0.35      0.24      0.29      4431\n",
      "\n",
      "    accuracy                           0.65     15204\n",
      "   macro avg       0.54      0.53      0.53     15204\n",
      "weighted avg       0.62      0.65      0.63     15204\n",
      "\n"
     ]
    }
   ],
   "source": [
    "# compute the performance measures on test data\n",
    "# call the function 'get_test_report'\n",
    "# pass the knn model to the function\n",
    "test_report = get_test_report(knn_model, test_data =x_test)\n",
    "\n",
    "# print the performace measures\n",
    "print(test_report)"
   ]
  },
  {
   "cell_type": "markdown",
   "id": "f7b78a4f",
   "metadata": {},
   "source": [
    "Interpretation: The accuracy is 66% for this model."
   ]
  },
  {
   "cell_type": "markdown",
   "id": "4f407fc5",
   "metadata": {},
   "source": [
    "#### Plot the ROC curve."
   ]
  },
  {
   "cell_type": "code",
   "execution_count": 11,
   "id": "d7c57ff3",
   "metadata": {},
   "outputs": [
    {
     "data": {
      "image/png": "[encoded data removed]",
      "text/plain": [
       "<Figure size 432x288 with 1 Axes>"
      ]
     },
     "metadata": {
      "needs_background": "light"
     },
     "output_type": "display_data"
    }
   ],
   "source": [
    "# call the function to plot the ROC curve\n",
    "# pass the knn model to the function\n",
    "plot_roc(knn_model, test_data = x_test)"
   ]
  },
  {
   "cell_type": "markdown",
   "id": "4082ef06",
   "metadata": {},
   "source": [
    "Interpretation: The red dotted line represents the ROC curve of a purely random classifier; a good classifier stays as far away from that line as possible (toward the top-left corner)."
   ]
  },
  {
   "cell_type": "markdown",
   "id": "b19cb459",
   "metadata": {},
   "source": [
    "# 3.1 Optimal Value of K (using GridSearchCV)"
   ]
  },
  {
   "cell_type": "code",
   "execution_count": 12,
   "id": "2496f28a",
   "metadata": {},
   "outputs": [],
   "source": [
    "import time "
   ]
  },
  {
   "cell_type": "code",
   "execution_count": 13,
   "id": "6c64fd43",
   "metadata": {},
   "outputs": [
    {
     "name": "stdout",
     "output_type": "stream",
     "text": [
      "Best parameters for KNN Classifier:  {'metric': 'euclidean', 'n_neighbors': 23} \n",
      "\n",
      "CPU times: total: 1h 21min 30s\n",
      "Wall time: 1h 21min 39s\n"
     ]
    }
   ],
   "source": [
    "%%time\n",
    "# create a dictionary with hyperparameters and its values\n",
    "# n_neighnors: number of neighbors to consider\n",
    "# usually, we consider the odd value of 'n_neighnors' to avoid the equal number of nearest points with more than one class\n",
    "# pass the different distance metrics to the parameter, 'metric'\n",
    "tuned_paramaters = {'n_neighbors': np.arange(1, 25, 2),\n",
    "                   'metric': ['hamming','euclidean','manhattan','Chebyshev']}\n",
    " \n",
    "# instantiate the 'KNeighborsClassifier' \n",
    "knn_classification = KNeighborsClassifier()\n",
    "\n",
    "\n",
    "knn_grid = GridSearchCV(estimator = knn_classification, \n",
    "                        param_grid = tuned_paramaters, \n",
    "                        cv = 5, \n",
    "                        scoring = 'accuracy')\n",
    "\n",
    "# fit the model on X_train and y_train using fit()\n",
    "knn_grid.fit(x_train, y_train)\n",
    "\n",
    "# get the best parameters\n",
    "print('Best parameters for KNN Classifier: ', knn_grid.best_params_, '\\n')"
   ]
  },
  {
   "cell_type": "code",
   "execution_count": 14,
   "id": "d02e39b2",
   "metadata": {},
   "outputs": [],
   "source": [
    "knn_class = KNeighborsClassifier(n_neighbors = 23)\n",
    "knn_model_1 = knn_class.fit(x_train, y_train)"
   ]
  },
  {
   "cell_type": "code",
   "execution_count": 15,
   "id": "e09b5d97",
   "metadata": {},
   "outputs": [
    {
     "name": "stdout",
     "output_type": "stream",
     "text": [
      "              precision    recall  f1-score   support\n",
      "\n",
      "           0       0.72      0.97      0.82     10773\n",
      "           1       0.46      0.06      0.11      4431\n",
      "\n",
      "    accuracy                           0.71     15204\n",
      "   macro avg       0.59      0.52      0.46     15204\n",
      "weighted avg       0.64      0.71      0.61     15204\n",
      "\n"
     ]
    }
   ],
   "source": [
    "test_report = get_test_report(knn_model_1, test_data = x_test)\n",
    "print(test_report)"
   ]
  },
  {
   "cell_type": "code",
   "execution_count": 16,
   "id": "3956c303",
   "metadata": {},
   "outputs": [
    {
     "data": {
      "text/plain": [
       "0.7240028188865398"
      ]
     },
     "execution_count": 16,
     "metadata": {},
     "output_type": "execute_result"
    }
   ],
   "source": [
    "knn_model_1.score(x_train,y_train)"
   ]
  },
  {
   "cell_type": "code",
   "execution_count": 17,
   "id": "3d6f7560",
   "metadata": {},
   "outputs": [
    {
     "data": {
      "image/png": "[encoded data removed]",
      "text/plain": [
       "<Figure size 432x288 with 1 Axes>"
      ]
     },
     "metadata": {
      "needs_background": "light"
     },
     "output_type": "display_data"
    }
   ],
   "source": [
    "plot_roc(knn_model_1, test_data = x_test)"
   ]
  },
  {
   "cell_type": "code",
   "execution_count": 18,
   "id": "aa6fd940",
   "metadata": {},
   "outputs": [
    {
     "data": {
      "image/png": "[encoded data removed]",
      "text/plain": [
       "<Figure size 432x288 with 1 Axes>"
      ]
     },
     "metadata": {
      "needs_background": "light"
     },
     "output_type": "display_data"
    }
   ],
   "source": [
    "plot_confusion_matrix(knn_model_1, test_data = x_test)"
   ]
  },
  {
   "cell_type": "markdown",
   "id": "1193b078",
   "metadata": {},
   "source": [
    "##### Draw a line plot to see the error rate for each value of K using manhattan distance as a metric of KNN model"
   ]
  },
  {
   "cell_type": "code",
   "execution_count": 23,
   "id": "bfcc23ec",
   "metadata": {},
   "outputs": [],
   "source": [
    "import time"
   ]
  },
  {
   "cell_type": "code",
   "execution_count": 30,
   "id": "648ce079",
   "metadata": {},
   "outputs": [],
   "source": [
    "%%time\n",
    "# consider an empty list to store error rate\n",
    "error_rate = []\n",
    "\n",
    "# use for loop to build a knn model for each K\n",
    "for i in np.arange(1,25,2):\n",
    "    \n",
    "    # setup a knn classifier with k neighbors\n",
    "    # use the 'euclidean' metric \n",
    "    knn = KNeighborsClassifier(i, metric = 'manhattan')\n",
    "   \n",
    "    # fit the model using 'cross_val_score'\n",
    "    # pass the knn model as 'estimator'\n",
    "    # use 5-fold cross validation\n",
    "    score = cross_val_score(knn_grid, x_train, y_train, cv = 5)\n",
    "    \n",
    "    # calculate the mean score\n",
    "    score = score.mean()\n",
    "    \n",
    "    # compute error rate \n",
    "    error_rate.append(1 - score)\n",
    "\n",
    "# plot the error_rate for different values of K \n",
    "plt.plot(range(1,25,2), error_rate)\n",
    "\n",
    "# add plot and axes labels\n",
    "# set text size using 'fontsize'\n",
    "plt.title('Error Rate', fontsize = 15)\n",
    "plt.xlabel('K', fontsize = 15)\n",
    "plt.ylabel('Error Rate', fontsize = 15)\n",
    "\n",
    "# set the x-axis labels\n",
    "plt.xticks(np.arange(1, 25, step = 2))\n",
    "\n",
    "# plot a vertical line across the minimum error rate\n",
    "plt.axvline(x = 7, color = 'red')\n",
    "\n",
    "# display the plot\n",
    "plt.show()"
   ]
  },
  {
   "cell_type": "markdown",
   "id": "b4432891",
   "metadata": {},
   "source": [
    "Interpretation: We can see that the optimal value of K (= 7) obtained from the GridSearchCV() results in a lowest error rate."
   ]
  },
  {
   "cell_type": "markdown",
   "id": "e6742bef",
   "metadata": {},
   "source": [
    "#### Calculate performance measures on the test set."
   ]
  },
  {
   "cell_type": "code",
   "execution_count": 31,
   "id": "f41732cb",
   "metadata": {},
   "outputs": [],
   "source": [
    "# print the performance measures for test set for the model with best parameters\n",
    "call the function 'get_test_report'\n",
    "# pass the knn model using GridSearch to the function\n",
    "print('Classification Report for test set: \\n', get_test_report(knn_grid, test_data=x_test))"
   ]
  },
  {
   "cell_type": "markdown",
   "id": "3200e68e",
   "metadata": {},
   "source": [
    "### Plot the ROC curve."
   ]
  },
  {
   "cell_type": "code",
   "execution_count": null,
   "id": "8d2c7bd2",
   "metadata": {},
   "outputs": [],
   "source": [
    "# call the function to plot the ROC curve\n",
    "# pass the knn model to the function\n",
    "plot_roc(knn_grid, test_data=x_test)"
   ]
  },
  {
   "cell_type": "code",
   "execution_count": null,
   "id": "c75ba615",
   "metadata": {},
   "outputs": [],
   "source": []
  },
  {
   "cell_type": "code",
   "execution_count": null,
   "id": "058d102d",
   "metadata": {},
   "outputs": [],
   "source": []
  },
  {
   "cell_type": "markdown",
   "id": "a6d34a2c",
   "metadata": {},
   "source": [
    "# 4. Naive Bayes Algorithm"
   ]
  },
  {
   "cell_type": "markdown",
   "id": "4ae1477b",
   "metadata": {},
   "source": [
    "It uses a Bayes' Theorem with the assumption of independence of predictor variables. The sklearn library provides different naive bayes classifiers, as GaussianNB, MultinomialNB and so on."
   ]
  },
  {
   "cell_type": "markdown",
   "id": "81a61b96",
   "metadata": {},
   "source": [
    "##### Build a naive bayes model on a training dataset."
   ]
  },
  {
   "cell_type": "code",
   "execution_count": 19,
   "id": "8f906985",
   "metadata": {},
   "outputs": [],
   "source": [
    "# instantiate the 'GaussianNB'\n",
    "gnb = GaussianNB()\n",
    "\n",
    "# fit the model using fit() on train data\n",
    "gnb_model = gnb.fit(x_train, y_train)"
   ]
  },
  {
   "cell_type": "markdown",
   "id": "cbc384a1",
   "metadata": {},
   "source": [
    "#### Build a confusion matrix."
   ]
  },
  {
   "cell_type": "code",
   "execution_count": 20,
   "id": "2bb4f2a7",
   "metadata": {},
   "outputs": [
    {
     "data": {
      "image/png": "[encoded data removed]",
      "text/plain": [
       "<Figure size 432x288 with 1 Axes>"
      ]
     },
     "metadata": {
      "needs_background": "light"
     },
     "output_type": "display_data"
    }
   ],
   "source": [
    "# call the function to plot the confusion matrix\n",
    "# pass the gaussian naive bayes model to the function\n",
    "plot_confusion_matrix(gnb_model, test_data=x_test)"
   ]
  },
  {
   "cell_type": "markdown",
   "id": "88f3b3c3",
   "metadata": {},
   "source": [
    "##### Calculate performance measures on the test set."
   ]
  },
  {
   "cell_type": "code",
   "execution_count": 21,
   "id": "5bf55198",
   "metadata": {},
   "outputs": [
    {
     "name": "stdout",
     "output_type": "stream",
     "text": [
      "              precision    recall  f1-score   support\n",
      "\n",
      "           0       0.73      0.84      0.78     10773\n",
      "           1       0.40      0.25      0.31      4431\n",
      "\n",
      "    accuracy                           0.67     15204\n",
      "   macro avg       0.56      0.55      0.55     15204\n",
      "weighted avg       0.63      0.67      0.64     15204\n",
      "\n"
     ]
    }
   ],
   "source": [
    "# compute the performance measures on test data\n",
    "# call the function 'get_test_report'\n",
    "# pass the gaussian naive bayes model to the function\n",
    "test_report = get_test_report(gnb_model, test_data=x_test)\n",
    "\n",
    "# print the performace measures\n",
    "print(test_report)"
   ]
  },
  {
   "cell_type": "code",
   "execution_count": 22,
   "id": "460cbdf6",
   "metadata": {},
   "outputs": [
    {
     "data": {
      "text/plain": [
       "0.6754897815362931"
      ]
     },
     "execution_count": 22,
     "metadata": {},
     "output_type": "execute_result"
    }
   ],
   "source": [
    "gnb_model.score(x_train,y_train)"
   ]
  },
  {
   "cell_type": "markdown",
   "id": "4e1b1ec7",
   "metadata": {},
   "source": [
    "#### Plot the ROC curve."
   ]
  },
  {
   "cell_type": "code",
   "execution_count": 23,
   "id": "c98722ec",
   "metadata": {},
   "outputs": [
    {
     "data": {
      "image/png": "[encoded data removed]",
      "text/plain": [
       "<Figure size 432x288 with 1 Axes>"
      ]
     },
     "metadata": {
      "needs_background": "light"
     },
     "output_type": "display_data"
    }
   ],
   "source": [
    "# call the function to plot the ROC curve\n",
    "# pass the gaussian naive bayes model to the function\n",
    "plot_roc(gnb_model, test_data=x_test)"
   ]
  },
  {
   "cell_type": "markdown",
   "id": "2d50a306",
   "metadata": {},
   "source": [
    "Interpretation: From the above plot, we can see that our classifier (gnb_model) is away from the red dotted line; with the AUC score 0.581"
   ]
  },
  {
   "cell_type": "markdown",
   "id": "26ec277d",
   "metadata": {},
   "source": [
    "Note: Algorithms like Naive Bayes and tree based algorithms do not need feature scaling or normalization. Performing a features scaling in these algorithms may not have much effect."
   ]
  },
  {
   "cell_type": "markdown",
   "id": "6fe999b8",
   "metadata": {},
   "source": [
    "### 3.3.1 Tune the Hyperparameters (GridSearchCV)"
   ]
  },
  {
   "cell_type": "code",
   "execution_count": 24,
   "id": "bccfbe10",
   "metadata": {},
   "outputs": [],
   "source": [
    "import time"
   ]
  },
  {
   "cell_type": "code",
   "execution_count": 25,
   "id": "0f910c3e",
   "metadata": {},
   "outputs": [],
   "source": [
    "%%time\n",
    "# create a dictionary with hyperparameters and its values\n",
    "# learning_rate: pass the list of boosting learning rates\n",
    "# max_depth: pass the range of values as the maximum tree depth for base learners\n",
    "# gamma: pass the list of minimum loss reduction values required to make a further partition on a leaf node of the tree\n",
    "tuning_parameters = {'learning_rate': [0.1, 0.2, 0.3],\n",
    "                     'max_depth': range(3,10),\n",
    "                     'min_child_weight':range(1,5),\n",
    "                     'gamma': [ 1, 2, 3],\n",
    "                     'subsample':[0.25,0.5,1],\n",
    "                    }\n",
    "\n",
    "\n",
    "# instantiate the 'XGBClassifier' \n",
    "gnb_model = GaussianNB()\n",
    "\n",
    "# use GridSearchCV() to find the optimal value of the hyperparameters\n",
    "# estimator: pass the XGBoost classifier model\n",
    "# param_grid: pass the list 'tuned_parameters'\n",
    "# cv: number of folds in k-fold i.e. here cv = 3\n",
    "# scoring: pass a measure to evaluate the model on test set\n",
    "gnb_grid = GridSearchCV(estimator = gnb_model, param_grid = tuning_parameters, cv = 5, scoring = 'recall')\n",
    "\n",
    "# fit the model on X_train and y_train using fit()\n",
    "gnb_grid.fit(x_train, y_train)\n",
    "\n",
    "# get the best parameters\n",
    "print('Best parameters for gnb: ', gnb_grid.best_params_, '\\n')"
   ]
  },
  {
   "cell_type": "markdown",
   "id": "4bac9a8e",
   "metadata": {},
   "source": [
    "#### Build the model using the tuned hyperparameters."
   ]
  },
  {
   "cell_type": "code",
   "execution_count": 27,
   "id": "6351f8a3",
   "metadata": {},
   "outputs": [
    {
     "name": "stdout",
     "output_type": "stream",
     "text": [
      "Classification Report for test set:\n",
      "               precision    recall  f1-score   support\n",
      "\n",
      "           0       0.73      0.84      0.78     10773\n",
      "           1       0.40      0.25      0.31      4431\n",
      "\n",
      "    accuracy                           0.67     15204\n",
      "   macro avg       0.56      0.55      0.55     15204\n",
      "weighted avg       0.63      0.67      0.64     15204\n",
      "\n"
     ]
    }
   ],
   "source": [
    "#learning_rate = xgb_grid.best_params_.get('learning_rate'),\n",
    "                              # max_depth = xgb_grid.best_params_.get('max_depth'),\n",
    "                              #gamma = xgb_grid.best_params_.get('gamma'),\n",
    "                              #tree_method=xgb_grid.best_params_.get('tree_method'),\n",
    "                              #subsample=xgb_grid.best_params_.get('subsample'),\n",
    "                              #colsample_bytree=xgb_grid.best_params_.get('colsample_bytree')\n",
    "\n",
    "# instantiate the 'XGBClassifier'\n",
    "# 'best_params_' returns the dictionary containing best parameter values and parameter name  \n",
    "# 'get()' returns the value of specified parameter\n",
    "gnb_model1 = GaussianNB( )\n",
    "\n",
    "\n",
    "\n",
    "# use fit() to fit the model on the train set            \n",
    "gnb_model = gnb_model1.fit(x_train, y_train)\n",
    "\n",
    "# print the performance measures for test set for the model with best parameters\n",
    "print('Classification Report for test set:\\n', get_test_report(gnb_model,test_data=x_test))"
   ]
  },
  {
   "cell_type": "code",
   "execution_count": 28,
   "id": "f5d4fa2c",
   "metadata": {},
   "outputs": [
    {
     "data": {
      "text/plain": [
       "0.2407661013106764"
      ]
     },
     "execution_count": 28,
     "metadata": {},
     "output_type": "execute_result"
    }
   ],
   "source": [
    "from sklearn.metrics import confusion_matrix\n",
    "from sklearn.model_selection import cross_val_score\n",
    "scores=cross_val_score(gnb_model,x_train,y_train,scoring='recall')\n",
    "np.mean(scores)"
   ]
  },
  {
   "cell_type": "code",
   "execution_count": 35,
   "id": "4329ebf7",
   "metadata": {},
   "outputs": [
    {
     "data": {
      "image/png": "[encoded data removed]",
      "text/plain": [
       "<Figure size 432x288 with 1 Axes>"
      ]
     },
     "metadata": {
      "needs_background": "light"
     },
     "output_type": "display_data"
    }
   ],
   "source": [
    "y_pred=gnb_model.predict(x_test)\n",
    "\n",
    "cm = confusion_matrix(y_test, y_pred)\n",
    "\n",
    "conf_matrix = pd.DataFrame(data = cm,columns = ['Predicted:0','Predicted:1'], index = ['Actual:0','Actual:1'])\n",
    "\n",
    "sns.heatmap(conf_matrix, annot = True, fmt = 'd', cmap = ListedColormap(['lightskyblue']), cbar = False, \n",
    "            linewidths = 0.1, annot_kws = {'size':25})\n",
    "\n",
    "plt.xticks(fontsize = 20)\n",
    "plt.yticks(fontsize = 20)\n",
    "\n",
    "# display the plot\n",
    "plt.show()"
   ]
  },
  {
   "cell_type": "code",
   "execution_count": 36,
   "id": "bccb6b23",
   "metadata": {},
   "outputs": [
    {
     "data": {
      "text/plain": [
       "0.6754897815362931"
      ]
     },
     "execution_count": 36,
     "metadata": {},
     "output_type": "execute_result"
    }
   ],
   "source": [
    "gnb_model.score(x_train,y_train)"
   ]
  },
  {
   "cell_type": "code",
   "execution_count": 37,
   "id": "51b32130",
   "metadata": {},
   "outputs": [
    {
     "data": {
      "text/plain": [
       "0.6696921862667718"
      ]
     },
     "execution_count": 37,
     "metadata": {},
     "output_type": "execute_result"
    }
   ],
   "source": [
    "gnb_model.score(x_test,y_test)"
   ]
  },
  {
   "cell_type": "markdown",
   "id": "f347b246",
   "metadata": {},
   "source": [
    "# 5. Comparison between KNN Model and Naive Bayes Model"
   ]
  },
  {
   "cell_type": "code",
   "execution_count": null,
   "id": "c687b5b0",
   "metadata": {},
   "outputs": [],
   "source": [
    "# y_pred and y_pred_prob is differ"
   ]
  },
  {
   "cell_type": "code",
   "execution_count": null,
   "id": "785b9bcc",
   "metadata": {},
   "outputs": [],
   "source": [
    "# K Nearest Neighbors\n",
    "y_pred_prob_knn = knn_grid.predict_proba(x_test)[:,1]\n",
    "    \n",
    "# the roc_curve() returns the values for false positive rate, true positive rate and threshold\n",
    "# pass the actual target values and predicted probabilities to the function\n",
    "fpr, tpr, thresholds = roc_curve(y_test, y_pred_prob_knn)\n",
    "\n",
    "# add the AUC score to the plot\n",
    "auc_score_knn = roc_auc_score(y_test, y_pred_prob_knn)\n",
    "\n",
    "# plot the ROC curve\n",
    "plt.plot(fpr, tpr, label='KNN Model (AUC Score = %0.4f)' % auc_score_knn)\n",
    "\n",
    "# Gaussian Naive Bayes\n",
    "y_pred_prob_gnb = gnb_model.predict_proba(x_test)[:,1]\n",
    "    \n",
    "# the roc_curve() returns the values for false positive rate, true positive rate and threshold\n",
    "# pass the actual target values and predicted probabilities to the function\n",
    "fpr, tpr, thresholds = roc_curve(y_test, y_pred_prob_gnb)\n",
    "\n",
    "# add the AUC score to the plot\n",
    "auc_score_gnb = roc_auc_score(y_test, y_pred_prob_gnb)\n",
    "\n",
    "# plot the ROC curve\n",
    "plt.plot(fpr, tpr, label='GNB Model (AUC Score = %0.4f)' % auc_score_gnb)\n",
    "\n",
    "# set limits for x and y axes\n",
    "plt.xlim([0.0, 1.0])\n",
    "plt.ylim([0.0, 1.0])\n",
    "\n",
    "# plot the straight line showing worst prediction for the model\n",
    "plt.plot([0, 1], [0, 1],'r--')\n",
    "\n",
    "# add plot and axes labels\n",
    "# set text size using 'fontsize'\n",
    "plt.title('GNB Model Vs. KNN Model', fontsize = 15)\n",
    "plt.xlabel('False positive rate (1-Specificity)', fontsize = 15)\n",
    "plt.ylabel('True positive rate (Sensitivity)', fontsize = 15)\n",
    "\n",
    "# set the position of legend\n",
    "plt.legend(loc = 'lower right')\n",
    "\n",
    "# plot the grid\n",
    "plt.grid(True)"
   ]
  },
  {
   "cell_type": "markdown",
   "id": "d186a5f6",
   "metadata": {},
   "source": [
    "Interpretation: The Auc Score of KNN Model is slightly higher than that of Gaussian Naive Bayes model. Also KNN model is more stable than Gaussian Naive Bayes model."
   ]
  },
  {
   "cell_type": "code",
   "execution_count": null,
   "id": "d287beb8",
   "metadata": {},
   "outputs": [],
   "source": []
  },
  {
   "cell_type": "code",
   "execution_count": null,
   "id": "c600650d",
   "metadata": {},
   "outputs": [],
   "source": []
  },
  {
   "cell_type": "code",
   "execution_count": null,
   "id": "9ab28af1",
   "metadata": {},
   "outputs": [],
   "source": []
  },
  {
   "cell_type": "code",
   "execution_count": null,
   "id": "a0ab2880",
   "metadata": {},
   "outputs": [],
   "source": []
  },
  {
   "cell_type": "code",
   "execution_count": null,
   "id": "31b18cea",
   "metadata": {},
   "outputs": [],
   "source": []
  },
  {
   "cell_type": "code",
   "execution_count": null,
   "id": "c9815dea",
   "metadata": {},
   "outputs": [],
   "source": []
  },
  {
   "cell_type": "code",
   "execution_count": null,
   "id": "8bea04b3",
   "metadata": {},
   "outputs": [],
   "source": []
  },
  {
   "cell_type": "code",
   "execution_count": null,
   "id": "067c85a9",
   "metadata": {},
   "outputs": [],
   "source": []
  },
  {
   "cell_type": "code",
   "execution_count": null,
   "id": "8be16605",
   "metadata": {},
   "outputs": [],
   "source": []
  },
  {
   "cell_type": "code",
   "execution_count": null,
   "id": "b39072ab",
   "metadata": {},
   "outputs": [],
   "source": []
  }
 ],
 "metadata": {
  "kernelspec": {
   "display_name": "Python 3 (ipykernel)",
   "language": "python",
   "name": "python3"
  },
  "language_info": {
   "codemirror_mode": {
    "name": "ipython",
    "version": 3
   },
   "file_extension": ".py",
   "mimetype": "text/x-python",
   "name": "python",
   "nbconvert_exporter": "python",
   "pygments_lexer": "ipython3",
   "version": "3.9.12"
  }
 },
 "nbformat": 4,
 "nbformat_minor": 5
}
