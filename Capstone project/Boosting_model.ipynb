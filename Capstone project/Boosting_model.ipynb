{
 "cells": [
  {
   "cell_type": "code",
   "execution_count": 38,
   "id": "554a9725",
   "metadata": {},
   "outputs": [],
   "source": [
    "# import 'Pandas' \n",
    "import pandas as pd \n",
    "\n",
    "# import 'Numpy' \n",
    "import numpy as np\n",
    "\n",
    "# import subpackage of Matplotlib\n",
    "import matplotlib.pyplot as plt\n",
    "from matplotlib.colors import ListedColormap\n",
    "\n",
    "# import 'Seaborn' \n",
    "import seaborn as sns\n",
    "\n",
    "# to suppress warnings \n",
    "from warnings import filterwarnings\n",
    "filterwarnings('ignore')\n",
    "\n",
    "# display all columns of the dataframe\n",
    "pd.options.display.max_columns = None\n",
    "\n",
    "# display all rows of the dataframe\n",
    "pd.options.display.max_rows = None\n",
    " \n",
    "# to display the float values upto 6 decimal places     \n",
    "pd.options.display.float_format = '{:.6f}'.format\n",
    "\n",
    "import statsmodels\n",
    "import statsmodels.api as sm\n",
    "\n",
    "# import train-test split \n",
    "from sklearn.model_selection import train_test_split\n",
    "\n",
    "# import StandardScaler to perform scaling\n",
    "from sklearn.preprocessing import StandardScaler \n",
    "\n",
    "# import various functions from sklearn\n",
    "from sklearn.metrics import classification_report\n",
    "from sklearn.metrics import confusion_matrix\n",
    "from sklearn.metrics import roc_curve\n",
    "from sklearn.metrics import roc_auc_score\n",
    "from sklearn.ensemble import AdaBoostClassifier\n",
    "from sklearn.ensemble import GradientBoostingClassifier\n",
    "from sklearn.model_selection import GridSearchCV\n",
    "from sklearn.ensemble import StackingClassifier\n",
    "from sklearn.ensemble import RandomForestClassifier\n",
    "from sklearn.neighbors import KNeighborsClassifier\n",
    "from sklearn.naive_bayes import GaussianNB\n",
    "\n",
    "# import the XGBoost function for classification\n",
    "from xgboost import XGBClassifier\n",
    "\n",
    "from sklearn.discriminant_analysis import LinearDiscriminantAnalysis as LDA\n"
   ]
  },
  {
   "cell_type": "code",
   "execution_count": 39,
   "id": "c6c4be63",
   "metadata": {},
   "outputs": [
    {
     "data": {
      "text/html": [
       "<div>\n",
       "<style scoped>\n",
       "    .dataframe tbody tr th:only-of-type {\n",
       "        vertical-align: middle;\n",
       "    }\n",
       "\n",
       "    .dataframe tbody tr th {\n",
       "        vertical-align: top;\n",
       "    }\n",
       "\n",
       "    .dataframe thead th {\n",
       "        text-align: right;\n",
       "    }\n",
       "</style>\n",
       "<table border=\"1\" class=\"dataframe\">\n",
       "  <thead>\n",
       "    <tr style=\"text-align: right;\">\n",
       "      <th></th>\n",
       "      <th>Churn</th>\n",
       "      <th>MonthlyRevenue</th>\n",
       "      <th>MonthlyMinutes</th>\n",
       "      <th>TotalRecurringCharge</th>\n",
       "      <th>DirectorAssistedCalls</th>\n",
       "      <th>OverageMinutes</th>\n",
       "      <th>RoamingCalls</th>\n",
       "      <th>PercChangeMinutes</th>\n",
       "      <th>PercChangeRevenues</th>\n",
       "      <th>DroppedCalls</th>\n",
       "      <th>BlockedCalls</th>\n",
       "      <th>UnansweredCalls</th>\n",
       "      <th>CustomerCareCalls</th>\n",
       "      <th>ThreewayCalls</th>\n",
       "      <th>ReceivedCalls</th>\n",
       "      <th>OutboundCalls</th>\n",
       "      <th>InboundCalls</th>\n",
       "      <th>PeakCallsInOut</th>\n",
       "      <th>OffPeakCallsInOut</th>\n",
       "      <th>DroppedBlockedCalls</th>\n",
       "      <th>CallForwardingCalls</th>\n",
       "      <th>CallWaitingCalls</th>\n",
       "      <th>MonthsInService</th>\n",
       "      <th>UniqueSubs</th>\n",
       "      <th>ActiveSubs</th>\n",
       "      <th>Handsets</th>\n",
       "      <th>HandsetModels</th>\n",
       "      <th>CurrentEquipmentDays</th>\n",
       "      <th>AgeHH1</th>\n",
       "      <th>AgeHH2</th>\n",
       "      <th>RetentionCalls</th>\n",
       "      <th>RetentionOffersAccepted</th>\n",
       "      <th>ReferralsMadeBySubscriber</th>\n",
       "      <th>AdjustmentsToCreditRating</th>\n",
       "      <th>ChildrenInHH_Yes</th>\n",
       "      <th>HandsetRefurbished_Yes</th>\n",
       "      <th>HandsetWebCapable_Yes</th>\n",
       "      <th>TruckOwner_Yes</th>\n",
       "      <th>RVOwner_Yes</th>\n",
       "      <th>Homeownership_Unknown</th>\n",
       "      <th>BuysViaMailOrder_Yes</th>\n",
       "      <th>RespondsToMailOffers_Yes</th>\n",
       "      <th>OptOutMailings_Yes</th>\n",
       "      <th>NonUSTravel_Yes</th>\n",
       "      <th>OwnsComputer_Yes</th>\n",
       "      <th>HasCreditCard_Yes</th>\n",
       "      <th>NewCellphoneUser_Yes</th>\n",
       "      <th>IncomeGroup_Low income</th>\n",
       "      <th>IncomeGroup_Medium income</th>\n",
       "      <th>OwnsMotorcycle_Yes</th>\n",
       "      <th>MadeCallToRetentionTeam_Yes</th>\n",
       "      <th>CreditRating_Low</th>\n",
       "      <th>CreditRating_Medium</th>\n",
       "      <th>PrizmCode_Rural</th>\n",
       "      <th>PrizmCode_Suburban</th>\n",
       "      <th>PrizmCode_Town</th>\n",
       "      <th>Occupation_Professional</th>\n",
       "      <th>New_maritalstatus_Yes</th>\n",
       "    </tr>\n",
       "  </thead>\n",
       "  <tbody>\n",
       "    <tr>\n",
       "      <th>0</th>\n",
       "      <td>1</td>\n",
       "      <td>-1.089034</td>\n",
       "      <td>-0.422798</td>\n",
       "      <td>-1.125036</td>\n",
       "      <td>-0.044197</td>\n",
       "      <td>-0.995504</td>\n",
       "      <td>-0.621914</td>\n",
       "      <td>-0.566549</td>\n",
       "      <td>-0.450622</td>\n",
       "      <td>-0.889336</td>\n",
       "      <td>-0.306586</td>\n",
       "      <td>-0.568253</td>\n",
       "      <td>-0.824996</td>\n",
       "      <td>-0.604886</td>\n",
       "      <td>0.460593</td>\n",
       "      <td>-1.610162</td>\n",
       "      <td>-1.182049</td>\n",
       "      <td>0.012439</td>\n",
       "      <td>-0.218215</td>\n",
       "      <td>-0.899446</td>\n",
       "      <td>-0.068108</td>\n",
       "      <td>-0.150674</td>\n",
       "      <td>2.477643</td>\n",
       "      <td>1.165226</td>\n",
       "      <td>-0.581885</td>\n",
       "      <td>0.807270</td>\n",
       "      <td>1.119678</td>\n",
       "      <td>0.107745</td>\n",
       "      <td>1.172978</td>\n",
       "      <td>-0.940475</td>\n",
       "      <td>5.452813</td>\n",
       "      <td>-0.132239</td>\n",
       "      <td>-0.221591</td>\n",
       "      <td>-0.192672</td>\n",
       "      <td>0</td>\n",
       "      <td>0</td>\n",
       "      <td>1</td>\n",
       "      <td>0</td>\n",
       "      <td>0</td>\n",
       "      <td>0</td>\n",
       "      <td>1</td>\n",
       "      <td>1</td>\n",
       "      <td>0</td>\n",
       "      <td>0</td>\n",
       "      <td>1</td>\n",
       "      <td>1</td>\n",
       "      <td>0</td>\n",
       "      <td>0</td>\n",
       "      <td>1</td>\n",
       "      <td>0</td>\n",
       "      <td>1</td>\n",
       "      <td>0</td>\n",
       "      <td>0</td>\n",
       "      <td>0</td>\n",
       "      <td>1</td>\n",
       "      <td>0</td>\n",
       "      <td>1</td>\n",
       "      <td>0</td>\n",
       "    </tr>\n",
       "    <tr>\n",
       "      <th>1</th>\n",
       "      <td>1</td>\n",
       "      <td>-1.556158</td>\n",
       "      <td>-1.937776</td>\n",
       "      <td>-1.450779</td>\n",
       "      <td>-0.912074</td>\n",
       "      <td>-0.995504</td>\n",
       "      <td>-0.621914</td>\n",
       "      <td>0.018886</td>\n",
       "      <td>0.088432</td>\n",
       "      <td>-1.200278</td>\n",
       "      <td>-1.216280</td>\n",
       "      <td>-1.013639</td>\n",
       "      <td>-0.824996</td>\n",
       "      <td>-0.604886</td>\n",
       "      <td>-1.600850</td>\n",
       "      <td>-1.610162</td>\n",
       "      <td>-1.182049</td>\n",
       "      <td>-1.319026</td>\n",
       "      <td>-1.537118</td>\n",
       "      <td>-1.429573</td>\n",
       "      <td>-0.068108</td>\n",
       "      <td>-0.897074</td>\n",
       "      <td>2.388088</td>\n",
       "      <td>-0.760155</td>\n",
       "      <td>-0.581885</td>\n",
       "      <td>0.807270</td>\n",
       "      <td>-0.767089</td>\n",
       "      <td>3.053676</td>\n",
       "      <td>0.489551</td>\n",
       "      <td>1.056411</td>\n",
       "      <td>-0.183392</td>\n",
       "      <td>-0.132239</td>\n",
       "      <td>-0.221591</td>\n",
       "      <td>-0.192672</td>\n",
       "      <td>1</td>\n",
       "      <td>0</td>\n",
       "      <td>0</td>\n",
       "      <td>0</td>\n",
       "      <td>0</td>\n",
       "      <td>0</td>\n",
       "      <td>1</td>\n",
       "      <td>1</td>\n",
       "      <td>0</td>\n",
       "      <td>0</td>\n",
       "      <td>1</td>\n",
       "      <td>1</td>\n",
       "      <td>1</td>\n",
       "      <td>0</td>\n",
       "      <td>1</td>\n",
       "      <td>0</td>\n",
       "      <td>0</td>\n",
       "      <td>0</td>\n",
       "      <td>1</td>\n",
       "      <td>0</td>\n",
       "      <td>1</td>\n",
       "      <td>0</td>\n",
       "      <td>1</td>\n",
       "      <td>1</td>\n",
       "    </tr>\n",
       "    <tr>\n",
       "      <th>2</th>\n",
       "      <td>0</td>\n",
       "      <td>-0.420564</td>\n",
       "      <td>-1.998448</td>\n",
       "      <td>-0.272519</td>\n",
       "      <td>-0.912074</td>\n",
       "      <td>-0.995504</td>\n",
       "      <td>-0.621914</td>\n",
       "      <td>0.026624</td>\n",
       "      <td>0.088432</td>\n",
       "      <td>-1.515686</td>\n",
       "      <td>-1.216280</td>\n",
       "      <td>-1.760480</td>\n",
       "      <td>-0.824996</td>\n",
       "      <td>-0.604886</td>\n",
       "      <td>-1.495143</td>\n",
       "      <td>-1.466096</td>\n",
       "      <td>-1.182049</td>\n",
       "      <td>-1.665568</td>\n",
       "      <td>-1.154741</td>\n",
       "      <td>-1.675080</td>\n",
       "      <td>-0.068108</td>\n",
       "      <td>-0.897074</td>\n",
       "      <td>2.448340</td>\n",
       "      <td>-0.760155</td>\n",
       "      <td>-0.581885</td>\n",
       "      <td>-0.850485</td>\n",
       "      <td>-0.767089</td>\n",
       "      <td>3.614747</td>\n",
       "      <td>-0.022125</td>\n",
       "      <td>0.852418</td>\n",
       "      <td>-0.183392</td>\n",
       "      <td>-0.132239</td>\n",
       "      <td>-0.221591</td>\n",
       "      <td>-0.192672</td>\n",
       "      <td>1</td>\n",
       "      <td>0</td>\n",
       "      <td>0</td>\n",
       "      <td>0</td>\n",
       "      <td>0</td>\n",
       "      <td>1</td>\n",
       "      <td>0</td>\n",
       "      <td>0</td>\n",
       "      <td>0</td>\n",
       "      <td>0</td>\n",
       "      <td>0</td>\n",
       "      <td>1</td>\n",
       "      <td>1</td>\n",
       "      <td>0</td>\n",
       "      <td>1</td>\n",
       "      <td>0</td>\n",
       "      <td>0</td>\n",
       "      <td>0</td>\n",
       "      <td>1</td>\n",
       "      <td>0</td>\n",
       "      <td>0</td>\n",
       "      <td>1</td>\n",
       "      <td>1</td>\n",
       "      <td>1</td>\n",
       "    </tr>\n",
       "    <tr>\n",
       "      <th>3</th>\n",
       "      <td>0</td>\n",
       "      <td>0.826362</td>\n",
       "      <td>1.392611</td>\n",
       "      <td>1.180063</td>\n",
       "      <td>1.170112</td>\n",
       "      <td>-0.995504</td>\n",
       "      <td>-0.621914</td>\n",
       "      <td>0.655061</td>\n",
       "      <td>0.284291</td>\n",
       "      <td>2.228625</td>\n",
       "      <td>1.290204</td>\n",
       "      <td>1.349529</td>\n",
       "      <td>1.501970</td>\n",
       "      <td>1.946418</td>\n",
       "      <td>0.941048</td>\n",
       "      <td>2.908416</td>\n",
       "      <td>2.064116</td>\n",
       "      <td>2.505608</td>\n",
       "      <td>1.813093</td>\n",
       "      <td>2.044460</td>\n",
       "      <td>-0.068108</td>\n",
       "      <td>1.849625</td>\n",
       "      <td>2.418494</td>\n",
       "      <td>1.165226</td>\n",
       "      <td>1.348420</td>\n",
       "      <td>1.895246</td>\n",
       "      <td>1.700472</td>\n",
       "      <td>0.466880</td>\n",
       "      <td>0.132730</td>\n",
       "      <td>-0.940475</td>\n",
       "      <td>-0.183392</td>\n",
       "      <td>-0.132239</td>\n",
       "      <td>-0.221591</td>\n",
       "      <td>-0.192672</td>\n",
       "      <td>0</td>\n",
       "      <td>0</td>\n",
       "      <td>1</td>\n",
       "      <td>0</td>\n",
       "      <td>0</td>\n",
       "      <td>0</td>\n",
       "      <td>1</td>\n",
       "      <td>1</td>\n",
       "      <td>0</td>\n",
       "      <td>0</td>\n",
       "      <td>0</td>\n",
       "      <td>1</td>\n",
       "      <td>1</td>\n",
       "      <td>0</td>\n",
       "      <td>1</td>\n",
       "      <td>0</td>\n",
       "      <td>0</td>\n",
       "      <td>0</td>\n",
       "      <td>1</td>\n",
       "      <td>0</td>\n",
       "      <td>0</td>\n",
       "      <td>0</td>\n",
       "      <td>0</td>\n",
       "      <td>0</td>\n",
       "    </tr>\n",
       "    <tr>\n",
       "      <th>4</th>\n",
       "      <td>1</td>\n",
       "      <td>-1.544648</td>\n",
       "      <td>-2.469987</td>\n",
       "      <td>-1.450779</td>\n",
       "      <td>-0.912074</td>\n",
       "      <td>-0.995504</td>\n",
       "      <td>-0.621914</td>\n",
       "      <td>0.034384</td>\n",
       "      <td>0.083251</td>\n",
       "      <td>-1.515686</td>\n",
       "      <td>-1.216280</td>\n",
       "      <td>-1.760480</td>\n",
       "      <td>-0.824996</td>\n",
       "      <td>-0.604886</td>\n",
       "      <td>-1.600850</td>\n",
       "      <td>-1.610162</td>\n",
       "      <td>-1.182049</td>\n",
       "      <td>-1.898531</td>\n",
       "      <td>-1.807759</td>\n",
       "      <td>-1.675080</td>\n",
       "      <td>-0.068108</td>\n",
       "      <td>-0.897074</td>\n",
       "      <td>2.226882</td>\n",
       "      <td>1.165226</td>\n",
       "      <td>1.348420</td>\n",
       "      <td>1.594044</td>\n",
       "      <td>1.552675</td>\n",
       "      <td>1.628558</td>\n",
       "      <td>0.687544</td>\n",
       "      <td>1.160087</td>\n",
       "      <td>-0.183392</td>\n",
       "      <td>-0.132239</td>\n",
       "      <td>-0.221591</td>\n",
       "      <td>5.190155</td>\n",
       "      <td>0</td>\n",
       "      <td>0</td>\n",
       "      <td>0</td>\n",
       "      <td>0</td>\n",
       "      <td>0</td>\n",
       "      <td>0</td>\n",
       "      <td>1</td>\n",
       "      <td>1</td>\n",
       "      <td>0</td>\n",
       "      <td>0</td>\n",
       "      <td>1</td>\n",
       "      <td>1</td>\n",
       "      <td>0</td>\n",
       "      <td>1</td>\n",
       "      <td>0</td>\n",
       "      <td>0</td>\n",
       "      <td>0</td>\n",
       "      <td>0</td>\n",
       "      <td>0</td>\n",
       "      <td>0</td>\n",
       "      <td>0</td>\n",
       "      <td>0</td>\n",
       "      <td>1</td>\n",
       "      <td>1</td>\n",
       "    </tr>\n",
       "  </tbody>\n",
       "</table>\n",
       "</div>"
      ],
      "text/plain": [
       "   Churn  MonthlyRevenue  MonthlyMinutes  TotalRecurringCharge  \\\n",
       "0      1       -1.089034       -0.422798             -1.125036   \n",
       "1      1       -1.556158       -1.937776             -1.450779   \n",
       "2      0       -0.420564       -1.998448             -0.272519   \n",
       "3      0        0.826362        1.392611              1.180063   \n",
       "4      1       -1.544648       -2.469987             -1.450779   \n",
       "\n",
       "   DirectorAssistedCalls  OverageMinutes  RoamingCalls  PercChangeMinutes  \\\n",
       "0              -0.044197       -0.995504     -0.621914          -0.566549   \n",
       "1              -0.912074       -0.995504     -0.621914           0.018886   \n",
       "2              -0.912074       -0.995504     -0.621914           0.026624   \n",
       "3               1.170112       -0.995504     -0.621914           0.655061   \n",
       "4              -0.912074       -0.995504     -0.621914           0.034384   \n",
       "\n",
       "   PercChangeRevenues  DroppedCalls  BlockedCalls  UnansweredCalls  \\\n",
       "0           -0.450622     -0.889336     -0.306586        -0.568253   \n",
       "1            0.088432     -1.200278     -1.216280        -1.013639   \n",
       "2            0.088432     -1.515686     -1.216280        -1.760480   \n",
       "3            0.284291      2.228625      1.290204         1.349529   \n",
       "4            0.083251     -1.515686     -1.216280        -1.760480   \n",
       "\n",
       "   CustomerCareCalls  ThreewayCalls  ReceivedCalls  OutboundCalls  \\\n",
       "0          -0.824996      -0.604886       0.460593      -1.610162   \n",
       "1          -0.824996      -0.604886      -1.600850      -1.610162   \n",
       "2          -0.824996      -0.604886      -1.495143      -1.466096   \n",
       "3           1.501970       1.946418       0.941048       2.908416   \n",
       "4          -0.824996      -0.604886      -1.600850      -1.610162   \n",
       "\n",
       "   InboundCalls  PeakCallsInOut  OffPeakCallsInOut  DroppedBlockedCalls  \\\n",
       "0     -1.182049        0.012439          -0.218215            -0.899446   \n",
       "1     -1.182049       -1.319026          -1.537118            -1.429573   \n",
       "2     -1.182049       -1.665568          -1.154741            -1.675080   \n",
       "3      2.064116        2.505608           1.813093             2.044460   \n",
       "4     -1.182049       -1.898531          -1.807759            -1.675080   \n",
       "\n",
       "   CallForwardingCalls  CallWaitingCalls  MonthsInService  UniqueSubs  \\\n",
       "0            -0.068108         -0.150674         2.477643    1.165226   \n",
       "1            -0.068108         -0.897074         2.388088   -0.760155   \n",
       "2            -0.068108         -0.897074         2.448340   -0.760155   \n",
       "3            -0.068108          1.849625         2.418494    1.165226   \n",
       "4            -0.068108         -0.897074         2.226882    1.165226   \n",
       "\n",
       "   ActiveSubs  Handsets  HandsetModels  CurrentEquipmentDays    AgeHH1  \\\n",
       "0   -0.581885  0.807270       1.119678              0.107745  1.172978   \n",
       "1   -0.581885  0.807270      -0.767089              3.053676  0.489551   \n",
       "2   -0.581885 -0.850485      -0.767089              3.614747 -0.022125   \n",
       "3    1.348420  1.895246       1.700472              0.466880  0.132730   \n",
       "4    1.348420  1.594044       1.552675              1.628558  0.687544   \n",
       "\n",
       "     AgeHH2  RetentionCalls  RetentionOffersAccepted  \\\n",
       "0 -0.940475        5.452813                -0.132239   \n",
       "1  1.056411       -0.183392                -0.132239   \n",
       "2  0.852418       -0.183392                -0.132239   \n",
       "3 -0.940475       -0.183392                -0.132239   \n",
       "4  1.160087       -0.183392                -0.132239   \n",
       "\n",
       "   ReferralsMadeBySubscriber  AdjustmentsToCreditRating  ChildrenInHH_Yes  \\\n",
       "0                  -0.221591                  -0.192672                 0   \n",
       "1                  -0.221591                  -0.192672                 1   \n",
       "2                  -0.221591                  -0.192672                 1   \n",
       "3                  -0.221591                  -0.192672                 0   \n",
       "4                  -0.221591                   5.190155                 0   \n",
       "\n",
       "   HandsetRefurbished_Yes  HandsetWebCapable_Yes  TruckOwner_Yes  RVOwner_Yes  \\\n",
       "0                       0                      1               0            0   \n",
       "1                       0                      0               0            0   \n",
       "2                       0                      0               0            0   \n",
       "3                       0                      1               0            0   \n",
       "4                       0                      0               0            0   \n",
       "\n",
       "   Homeownership_Unknown  BuysViaMailOrder_Yes  RespondsToMailOffers_Yes  \\\n",
       "0                      0                     1                         1   \n",
       "1                      0                     1                         1   \n",
       "2                      1                     0                         0   \n",
       "3                      0                     1                         1   \n",
       "4                      0                     1                         1   \n",
       "\n",
       "   OptOutMailings_Yes  NonUSTravel_Yes  OwnsComputer_Yes  HasCreditCard_Yes  \\\n",
       "0                   0                0                 1                  1   \n",
       "1                   0                0                 1                  1   \n",
       "2                   0                0                 0                  1   \n",
       "3                   0                0                 0                  1   \n",
       "4                   0                0                 1                  1   \n",
       "\n",
       "   NewCellphoneUser_Yes  IncomeGroup_Low income  IncomeGroup_Medium income  \\\n",
       "0                     0                       0                          1   \n",
       "1                     1                       0                          1   \n",
       "2                     1                       0                          1   \n",
       "3                     1                       0                          1   \n",
       "4                     0                       1                          0   \n",
       "\n",
       "   OwnsMotorcycle_Yes  MadeCallToRetentionTeam_Yes  CreditRating_Low  \\\n",
       "0                   0                            1                 0   \n",
       "1                   0                            0                 0   \n",
       "2                   0                            0                 0   \n",
       "3                   0                            0                 0   \n",
       "4                   0                            0                 0   \n",
       "\n",
       "   CreditRating_Medium  PrizmCode_Rural  PrizmCode_Suburban  PrizmCode_Town  \\\n",
       "0                    0                0                   1               0   \n",
       "1                    1                0                   1               0   \n",
       "2                    1                0                   0               1   \n",
       "3                    1                0                   0               0   \n",
       "4                    0                0                   0               0   \n",
       "\n",
       "   Occupation_Professional  New_maritalstatus_Yes  \n",
       "0                        1                      0  \n",
       "1                        1                      1  \n",
       "2                        1                      1  \n",
       "3                        0                      0  \n",
       "4                        1                      1  "
      ]
     },
     "execution_count": 39,
     "metadata": {},
     "output_type": "execute_result"
    }
   ],
   "source": [
    "df = pd.read_csv('data_eda_1.csv',index_col=0)\n",
    "df.head()"
   ]
  },
  {
   "cell_type": "code",
   "execution_count": 40,
   "id": "cc06a2ea",
   "metadata": {},
   "outputs": [],
   "source": [
    "df.reset_index(inplace=True, drop=True)"
   ]
  },
  {
   "cell_type": "markdown",
   "id": "e9f17afd",
   "metadata": {},
   "source": [
    "## Split the dependent and independent variables"
   ]
  },
  {
   "cell_type": "code",
   "execution_count": 41,
   "id": "9d2d8c97",
   "metadata": {},
   "outputs": [],
   "source": [
    "# store the target variable 'Loan Status' in a dataframe 'df_target'\n",
    "df_target = df['Churn']\n",
    "\n",
    "# store all the independent variables in a dataframe 'df_feature' \n",
    "# drop the column 'Loan Status' using drop()\n",
    "# 'axis = 1' drops the specified column\n",
    "df_features = df.drop('Churn', axis = 1)"
   ]
  },
  {
   "cell_type": "markdown",
   "id": "d4ec2948",
   "metadata": {},
   "source": [
    "## Train Test Split"
   ]
  },
  {
   "cell_type": "code",
   "execution_count": 42,
   "id": "345f7ab0",
   "metadata": {},
   "outputs": [
    {
     "name": "stdout",
     "output_type": "stream",
     "text": [
      "x_train:  (35475, 57)\n",
      "y_train:  (35475,)\n",
      "x_test:  (15204, 57)\n",
      "y_test:  (15204,)\n"
     ]
    }
   ],
   "source": [
    "# split data into train subset and test subset\n",
    "# set 'random_state' to generate the same dataset each time you run the code \n",
    "# 'test_size' returns the proportion of data to be included in the testing set\n",
    "x_train, x_test ,y_train ,y_test = train_test_split(df_features,df_target, random_state=0, test_size=0.30)\n",
    "\n",
    "# check the dimensions of the train & test subset using 'shape'\n",
    "# print dimension of train set\n",
    "print('x_train: ',x_train.shape)\n",
    "print('y_train: ',y_train.shape)\n",
    "\n",
    "# print dimension of test set\n",
    "print('x_test: ',x_test.shape)\n",
    "print('y_test: ',y_test.shape)"
   ]
  },
  {
   "cell_type": "markdown",
   "id": "98902661",
   "metadata": {},
   "source": [
    "### Create a generalized function to calculate the metrics for the test set."
   ]
  },
  {
   "cell_type": "code",
   "execution_count": 43,
   "id": "ae27b21f",
   "metadata": {},
   "outputs": [],
   "source": [
    "# create a generalized function to calculate the metrics values for train set\n",
    "def get_train_report(model):\n",
    "    \n",
    "    # for training set:\n",
    "    # train_pred: prediction made by the model on the train dataset 'X_train'\n",
    "    # y_train: actual values of the target variable for the train dataset\n",
    "\n",
    "    # predict the output of the target variable from the train data \n",
    "    train_pred = model.predict(x_train)\n",
    "\n",
    "    # return the performace measures on train set\n",
    "    return(classification_report(y_train, train_pred))"
   ]
  },
  {
   "cell_type": "code",
   "execution_count": 44,
   "id": "75bbdc79",
   "metadata": {},
   "outputs": [],
   "source": [
    "# create a generalized function to calculate the metrics values for test set\n",
    "def get_test_report(model):\n",
    "    \n",
    "    # for train set:\n",
    "    # test_pred: prediction made by the model on the test dataset 'X_test'\n",
    "    # y_test: actual values of the target variable for the test dataset\n",
    "\n",
    "    # predict the output of the target variable from the test data \n",
    "    test_pred = model.predict(x_test)\n",
    "\n",
    "    # return the classification report for test data\n",
    "    return(classification_report(y_test, test_pred))"
   ]
  },
  {
   "cell_type": "markdown",
   "id": "ff47dad3",
   "metadata": {},
   "source": [
    "#### Plot the confusion matrix."
   ]
  },
  {
   "cell_type": "code",
   "execution_count": 45,
   "id": "60dd762a",
   "metadata": {},
   "outputs": [],
   "source": [
    "def plot_confusion_matrix(model):\n",
    "    y_pred = model.predict(x_test)\n",
    "    \n",
    "    # create a confusion matrix\n",
    "    # pass the actual and predicted target values to the confusion_matrix()\n",
    "    cm = confusion_matrix(y_test, y_pred)\n",
    "\n",
    "    # label the confusion matrix  \n",
    "    # pass the matrix as 'data'\n",
    "    # pass the required column names to the parameter, 'columns'\n",
    "    # pass the required row names to the parameter, 'index'\n",
    "    conf_matrix = pd.DataFrame(data = cm,columns = ['Predicted:0','Predicted:1'], index = ['Actual:0','Actual:1'])\n",
    "\n",
    "    # plot a heatmap to visualize the confusion matrix\n",
    "    # 'annot' prints the value of each grid \n",
    "    # 'fmt = d' returns the integer value in each grid\n",
    "    # 'cmap' assigns color to each grid\n",
    "    # as we do not require different colors for each grid in the heatmap,\n",
    "    # use 'ListedColormap' to assign the specified color to the grid\n",
    "    # 'cbar = False' will not return the color bar to the right side of the heatmap\n",
    "    # 'linewidths' assigns the width to the line that divides each grid\n",
    "    # 'annot_kws = {'size':25})' assigns the font size of the annotated text \n",
    "    sns.heatmap(conf_matrix, annot = True, fmt = 'd', cmap = ListedColormap(['lightskyblue']), cbar = False, \n",
    "                linewidths = 0.1, annot_kws = {'size':25})\n",
    "\n",
    "    # set the font size of x-axis ticks using 'fontsize'\n",
    "    plt.xticks(fontsize = 20)\n",
    "\n",
    "    # set the font size of y-axis ticks using 'fontsize'\n",
    "    plt.yticks(fontsize = 20)\n",
    "\n",
    "    # display the plot\n",
    "    plt.show()"
   ]
  },
  {
   "cell_type": "markdown",
   "id": "a0a64254",
   "metadata": {},
   "source": [
    "##### Plot the ROC curve."
   ]
  },
  {
   "cell_type": "markdown",
   "id": "5fbe9ac3",
   "metadata": {},
   "source": [
    "ROC curve is plotted with the true positive rate (tpr) on the y-axis and false positive rate (fpr) on the x-axis. The area under this curve is used as a measure of the separability of the model."
   ]
  },
  {
   "cell_type": "code",
   "execution_count": 46,
   "id": "74b9eb8f",
   "metadata": {},
   "outputs": [],
   "source": [
    "def plot_roc(model):\n",
    "    y_pred_prob = model.predict_proba(x_test)[:,1]\n",
    "    \n",
    "    # the roc_curve() returns the values for false positive rate, true positive rate and threshold\n",
    "    # pass the actual target values and predicted probabilities to the function\n",
    "    fpr, tpr, thresholds = roc_curve(y_test, y_pred_prob)\n",
    "\n",
    "    # plot the ROC curve\n",
    "    plt.plot(fpr, tpr)\n",
    "\n",
    "    # set limits for x and y axes\n",
    "    plt.xlim([0.0, 1.0])\n",
    "    plt.ylim([0.0, 1.0])\n",
    "\n",
    "    # plot the straight line showing worst prediction for the model\n",
    "    plt.plot([0, 1], [0, 1],'r--')\n",
    "\n",
    "    # add plot and axes labels\n",
    "    # set text size using 'fontsize'\n",
    "    plt.title('ROC curve  Classifier', fontsize = 15)\n",
    "    plt.xlabel('False positive rate (1-Specificity)', fontsize = 15)\n",
    "    plt.ylabel('True positive rate (Sensitivity)', fontsize = 15)\n",
    "\n",
    "    # add the AUC score to the plot\n",
    "    # 'x' and 'y' gives position of the text\n",
    "    # 's' is the text \n",
    "    # use round() to round-off the AUC score upto 4 digits\n",
    "    plt.text(x = 0.82, y = 0.3, s = ('AUC Score:',round(roc_auc_score(y_test, y_pred_prob),4)))\n",
    "\n",
    "    # plot the grid\n",
    "    plt.grid(True)"
   ]
  },
  {
   "cell_type": "markdown",
   "id": "90d8946c",
   "metadata": {},
   "source": [
    "# 3. Boosting Methods"
   ]
  },
  {
   "cell_type": "markdown",
   "id": "c4beee5d",
   "metadata": {},
   "source": [
    "The Ensemble technique considers multiple models for predicting the results. Bagging and Boosting are two of the types of ensembles. The bagging methods construct the multiple models in parallel; whereas, the boosting methods construct the models sequentially.\n",
    "\n",
    "Earlier, we have studied one of the bagging (bootstrap aggregating) technique i.e. Random Forest.\n",
    "\n",
    "The boosting method fits multiple weak classifiers to create a strong classifier. In this method, the model tries to correct the errors in the previous model. In this section, we learn some of the boosting methods such as AdaBoost, Gradient Boosting and XGBoost"
   ]
  },
  {
   "cell_type": "markdown",
   "id": "ef02e8e3",
   "metadata": {},
   "source": [
    "### 3.1 AdaBoost"
   ]
  },
  {
   "cell_type": "markdown",
   "id": "c3ce9d8f",
   "metadata": {},
   "source": [
    "Let us build the AdaBoost classifier with decision trees. The model creates several stumps (decision tree with only a single decision node and two leaf nodes) on the train set and predicts the class based on these weak learners (stumps). For the first model, it assigns equal weights to each sample. It assigns the higher weight for the wrongly predicted samples and lower weight for the correctly predicted samples. This method continues till all the observations are correctly classified or the predefined number of stumps is created."
   ]
  },
  {
   "cell_type": "markdown",
   "id": "793a5d9e",
   "metadata": {},
   "source": [
    "##### Build an Adaboost model on a training dataset."
   ]
  },
  {
   "cell_type": "code",
   "execution_count": 47,
   "id": "ebe8b79f",
   "metadata": {},
   "outputs": [
    {
     "data": {
      "text/plain": [
       "AdaBoostClassifier(n_estimators=40, random_state=10)"
      ]
     },
     "execution_count": 47,
     "metadata": {},
     "output_type": "execute_result"
    }
   ],
   "source": [
    "# instantiate the 'AdaBoostClassifier'\n",
    "# n_estimators: number of estimators at which boosting is terminated\n",
    "# pass the 'random_state' to obtain the same results for each code implementation\n",
    "ada_model = AdaBoostClassifier(n_estimators = 40, random_state = 10)\n",
    "\n",
    "# fit the model using fit() on train data\n",
    "ada_model.fit(x_train, y_train)"
   ]
  },
  {
   "cell_type": "markdown",
   "id": "0581d194",
   "metadata": {},
   "source": [
    "Let us understand the parameters in the AdaBoostClassifier():\n",
    "\n",
    "algorithm=SAMME.R: It is the default boosting algorithm. This algorithm uses predicted class probabilities to build the stumps.\n",
    "\n",
    "base_estimator=None: By default, the estimator is a decision tree with a maximum depth equal to 1 (stump).\n",
    "\n",
    "learning_rate=1.0: It considers the contribution of each estimator in the classifier.\n",
    "\n",
    "n_estimators=40: It is the number of estimators at which boosting is terminated.\n",
    "\n",
    "random_state=10: It returns the same set of samples for each code implementation."
   ]
  },
  {
   "cell_type": "markdown",
   "id": "d1596728",
   "metadata": {},
   "source": [
    "#### Plot the confusion matrix."
   ]
  },
  {
   "cell_type": "code",
   "execution_count": 48,
   "id": "94ec46d8",
   "metadata": {},
   "outputs": [
    {
     "data": {
      "image/png": "[encoded data removed]",
      "text/plain": [
       "<Figure size 432x288 with 1 Axes>"
      ]
     },
     "metadata": {
      "needs_background": "light"
     },
     "output_type": "display_data"
    }
   ],
   "source": [
    "# call the function to plot the confusion matrix\n",
    "# pass the AdaBoost model to the function\n",
    "plot_confusion_matrix(ada_model)"
   ]
  },
  {
   "cell_type": "markdown",
   "id": "f7385bdf",
   "metadata": {},
   "source": [
    "##### Calculate performance measures on the test set."
   ]
  },
  {
   "cell_type": "code",
   "execution_count": 49,
   "id": "73df2fd7",
   "metadata": {},
   "outputs": [
    {
     "name": "stdout",
     "output_type": "stream",
     "text": [
      "              precision    recall  f1-score   support\n",
      "\n",
      "           0       0.73      0.97      0.83     25403\n",
      "           1       0.55      0.09      0.16     10072\n",
      "\n",
      "    accuracy                           0.72     35475\n",
      "   macro avg       0.64      0.53      0.50     35475\n",
      "weighted avg       0.68      0.72      0.64     35475\n",
      "\n"
     ]
    }
   ],
   "source": [
    "# compute the performance measures on test data\n",
    "# call the function 'get_test_report'\n",
    "# pass the AdaBoost model to the function\n",
    "train_report = get_train_report(ada_model)\n",
    "\n",
    "# print the performance measures\n",
    "print(train_report)"
   ]
  },
  {
   "cell_type": "code",
   "execution_count": 50,
   "id": "c2b84542",
   "metadata": {},
   "outputs": [
    {
     "name": "stdout",
     "output_type": "stream",
     "text": [
      "              precision    recall  f1-score   support\n",
      "\n",
      "           0       0.72      0.97      0.83     10773\n",
      "           1       0.56      0.09      0.16      4431\n",
      "\n",
      "    accuracy                           0.71     15204\n",
      "   macro avg       0.64      0.53      0.49     15204\n",
      "weighted avg       0.68      0.71      0.63     15204\n",
      "\n"
     ]
    }
   ],
   "source": [
    "# compute the performance measures on test data\n",
    "# call the function 'get_test_report'\n",
    "# pass the AdaBoost model to the function\n",
    "test_report = get_test_report(ada_model)\n",
    "\n",
    "# print the performance measures\n",
    "print(test_report)"
   ]
  },
  {
   "cell_type": "markdown",
   "id": "f0ba067f",
   "metadata": {},
   "source": [
    "Interpretation: The output shows that the model is 71% accurate."
   ]
  },
  {
   "cell_type": "markdown",
   "id": "e9db7b57",
   "metadata": {},
   "source": [
    "#### Plot the ROC curve."
   ]
  },
  {
   "cell_type": "code",
   "execution_count": 51,
   "id": "3f02c2d4",
   "metadata": {},
   "outputs": [
    {
     "data": {
      "image/png": "[encoded data removed]",
      "text/plain": [
       "<Figure size 432x288 with 1 Axes>"
      ]
     },
     "metadata": {
      "needs_background": "light"
     },
     "output_type": "display_data"
    }
   ],
   "source": [
    "# call the function to plot the ROC curve\n",
    "# pass the AdaBoost model to the function\n",
    "plot_roc(ada_model)"
   ]
  },
  {
   "cell_type": "markdown",
   "id": "99c9f191",
   "metadata": {},
   "source": [
    "Interpretation: The red dotted line represents the ROC curve of a purely random classifier; a good classifier stays as far away from that line as possible (toward the top-left corner).\n",
    "From the above plot, we can see that the AdaBoost model is away from the dotted line; with the AUC score 0.6532."
   ]
  },
  {
   "cell_type": "markdown",
   "id": "0b5361e4",
   "metadata": {},
   "source": [
    "## 3.2 Gradient Boosting"
   ]
  },
  {
   "cell_type": "markdown",
   "id": "205676e5",
   "metadata": {},
   "source": [
    "This method optimizes the differentiable loss function by building the number of weak learners (decision trees) sequentially. It considers the residuals from the previous model and fits the next model to the residuals. The algorithm uses a gradient descent method to minimize the error."
   ]
  },
  {
   "cell_type": "markdown",
   "id": "8d518e5d",
   "metadata": {},
   "source": [
    "##### Build a gradient boosting model on a training dataset."
   ]
  },
  {
   "cell_type": "code",
   "execution_count": 52,
   "id": "66cfe866",
   "metadata": {},
   "outputs": [
    {
     "data": {
      "text/plain": [
       "GradientBoostingClassifier(max_depth=10, n_estimators=150, random_state=10)"
      ]
     },
     "execution_count": 52,
     "metadata": {},
     "output_type": "execute_result"
    }
   ],
   "source": [
    "# instantiate the 'GradientBoostingClassifier' \n",
    "# n_estimators: number of estimators to consider\n",
    "# 'max_depth': assigns maximum depth of the tree\n",
    "# pass the 'random_state' to obtain the same results for each code implementation\n",
    "gboost_model = GradientBoostingClassifier(n_estimators = 150, max_depth = 10, random_state = 10)\n",
    "\n",
    "# fit the model using fit() on train data\n",
    "gboost_model.fit(x_train, y_train)"
   ]
  },
  {
   "cell_type": "markdown",
   "id": "7f97e088",
   "metadata": {},
   "source": [
    "Let us understand the parameters in the GradientBoostingClassifier():\n",
    "\n",
    "ccp_alpha=0.0: The complexity parameter used for pruning. By default, there is no pruning.\n",
    "\n",
    "criterion=friedman_mse: The criteria to measure the quality of a split.\n",
    "\n",
    "init=None: The estimator for initial predictions.\n",
    "\n",
    "learning_rate=0.1: It considers the contribution of each estimator in the classifier.\n",
    "\n",
    "loss=deviance: The loss function to be optimized.\n",
    "\n",
    "max_depth=10: Assigns the maximum depth of the tree.\n",
    "\n",
    "max_features=None: Maximum features to consider for the split.\n",
    "\n",
    "max_leaf_nodes=None: Maximum number of leaf/terminal nodes in the tree.\n",
    "\n",
    "min_impurity_decrease=0.0: A node splits if it decreases the impurity by the value given by this parameter.\n",
    "\n",
    "min_impurity_split=None: Minimum value of impurity for a node to split.\n",
    "\n",
    "min_samples_leaf=1: Minimum number of samples needed at the leaf/terminal node.\n",
    "\n",
    "min_samples_split=2: Minimum number of samples needed at the internal node to split.\n",
    "\n",
    "min_weight_fraction_leaf=0.0: Minimum weighted fraction needed at a leaf node.\n",
    "\n",
    "n_estimators=150: The number of estimators to consider.\n",
    "\n",
    "n_iter_no_change=None: Number of iterations after which the training should terminate if the score is not improving.\n",
    "\n",
    "presort='deprecated': It considers whether to presort the data. (This parameter may not be available in the latest versions).\n",
    "\n",
    "random_state=10: It returns the same set of samples for each code implementation.\n",
    "\n",
    "subsample=1.0: Fraction of samples to use for fitting each estimator.\n",
    "\n",
    "tol=0.0001: Value of tolerance to terminate the training.\n",
    "\n",
    "validation_fraction=0.1: Fraction of training dataset used for validation.\n",
    "\n",
    "verbose=0: Enables verbose output (by default, no progress will be printed).\n",
    "\n",
    "warm_start=False: Whether to reuse the solution of previous code implementation (by default, it does not consider the previous solution)."
   ]
  },
  {
   "cell_type": "markdown",
   "id": "0e801721",
   "metadata": {},
   "source": [
    "#### Plot the confusion matrix."
   ]
  },
  {
   "cell_type": "code",
   "execution_count": 53,
   "id": "0b6c191f",
   "metadata": {},
   "outputs": [
    {
     "data": {
      "image/png": "[encoded data removed]",
      "text/plain": [
       "<Figure size 432x288 with 1 Axes>"
      ]
     },
     "metadata": {
      "needs_background": "light"
     },
     "output_type": "display_data"
    }
   ],
   "source": [
    "# call the function to plot the confusion matrix\n",
    "# pass the gradient boosting model to the function\n",
    "plot_confusion_matrix(gboost_model)"
   ]
  },
  {
   "cell_type": "markdown",
   "id": "21f753bc",
   "metadata": {},
   "source": [
    "#### Calculate performance measures on the test set."
   ]
  },
  {
   "cell_type": "code",
   "execution_count": 54,
   "id": "c8f7b37f",
   "metadata": {},
   "outputs": [
    {
     "name": "stdout",
     "output_type": "stream",
     "text": [
      "              precision    recall  f1-score   support\n",
      "\n",
      "           0       0.98      1.00      0.99     25403\n",
      "           1       1.00      0.94      0.97     10072\n",
      "\n",
      "    accuracy                           0.98     35475\n",
      "   macro avg       0.99      0.97      0.98     35475\n",
      "weighted avg       0.98      0.98      0.98     35475\n",
      "\n"
     ]
    }
   ],
   "source": [
    "# compute the performance measures on test data\n",
    "# call the function 'get_test_report'\n",
    "# pass the gradient boosting model to the function\n",
    "train_report = get_train_report(gboost_model)\n",
    "\n",
    "# print the performance measures\n",
    "print(train_report)"
   ]
  },
  {
   "cell_type": "code",
   "execution_count": 55,
   "id": "17c8e2cf",
   "metadata": {},
   "outputs": [
    {
     "name": "stdout",
     "output_type": "stream",
     "text": [
      "              precision    recall  f1-score   support\n",
      "\n",
      "           0       0.74      0.92      0.82     10773\n",
      "           1       0.51      0.19      0.28      4431\n",
      "\n",
      "    accuracy                           0.71     15204\n",
      "   macro avg       0.62      0.56      0.55     15204\n",
      "weighted avg       0.67      0.71      0.66     15204\n",
      "\n"
     ]
    }
   ],
   "source": [
    "# compute the performance measures on test data\n",
    "# call the function 'get_test_report'\n",
    "# pass the gradient boosting model to the function\n",
    "test_report = get_test_report(gboost_model)\n",
    "\n",
    "# print the performance measures\n",
    "print(test_report)"
   ]
  },
  {
   "cell_type": "markdown",
   "id": "4fdaf61c",
   "metadata": {},
   "source": [
    "Interpretation: The classification report shows that the model is 71% accurate. Also, the sensitivity and specificity are equal."
   ]
  },
  {
   "cell_type": "markdown",
   "id": "f7be5582",
   "metadata": {},
   "source": [
    "##### Plot the ROC curve."
   ]
  },
  {
   "cell_type": "code",
   "execution_count": 56,
   "id": "bebd9afb",
   "metadata": {},
   "outputs": [
    {
     "data": {
      "image/png": "[encoded data removed]",
      "text/plain": [
       "<Figure size 432x288 with 1 Axes>"
      ]
     },
     "metadata": {
      "needs_background": "light"
     },
     "output_type": "display_data"
    }
   ],
   "source": [
    "# call the function to plot the ROC curve\n",
    "# pass the gradient boosting model to the function\n",
    "plot_roc(gboost_model)"
   ]
  },
  {
   "cell_type": "markdown",
   "id": "9e4448bc",
   "metadata": {},
   "source": [
    "Interpretation: The red dotted line represents the ROC curve of a purely random classifier; a good classifier stays as far away from that line as possible (toward the top-left corner).\n",
    "From the above plot, we can see that the gradient boosting model is away from the dotted line; with the AUC score 0.6554."
   ]
  },
  {
   "cell_type": "markdown",
   "id": "041a4737",
   "metadata": {},
   "source": [
    "## 3.3 XGBoost"
   ]
  },
  {
   "cell_type": "markdown",
   "id": "f223cd93",
   "metadata": {},
   "source": [
    "XGBoost (extreme gradient boost) is an alternative form of gradient boosting method. This method generally considers the initial prediction as 0.5 and build the decision tree to predict the residuals. It considers the regularization parameter to avoid overfitting."
   ]
  },
  {
   "cell_type": "markdown",
   "id": "6a0b9f03",
   "metadata": {},
   "source": [
    "###### Build an XGBoost model on a training dataset."
   ]
  },
  {
   "cell_type": "code",
   "execution_count": 57,
   "id": "aa462764",
   "metadata": {},
   "outputs": [
    {
     "data": {
      "text/plain": [
       "XGBClassifier(base_score=None, booster=None, callbacks=None,\n",
       "              colsample_bylevel=None, colsample_bynode=None,\n",
       "              colsample_bytree=None, early_stopping_rounds=None,\n",
       "              enable_categorical=False, eval_metric=None, feature_types=None,\n",
       "              gamma=1, gpu_id=None, grow_policy=None, importance_type=None,\n",
       "              interaction_constraints=None, learning_rate=None, max_bin=None,\n",
       "              max_cat_threshold=None, max_cat_to_onehot=None,\n",
       "              max_delta_step=None, max_depth=10, max_leaves=None,\n",
       "              min_child_weight=None, missing=nan, monotone_constraints=None,\n",
       "              n_estimators=100, n_jobs=None, num_parallel_tree=None,\n",
       "              predictor=None, random_state=None, ...)"
      ]
     },
     "execution_count": 57,
     "metadata": {},
     "output_type": "execute_result"
    }
   ],
   "source": [
    "# instantiate the 'XGBClassifier'\n",
    "# set the maximum depth of the tree using the parameter, 'max_depth'\n",
    "# pass the value of minimum loss reduction required for partition of the leaf node to the parameter, 'gamma'\n",
    "xgb_model = XGBClassifier(max_depth = 10, gamma = 1)\n",
    "\n",
    "# fit the model using fit() on train data\n",
    "xgb_model.fit(x_train, y_train)"
   ]
  },
  {
   "cell_type": "markdown",
   "id": "b1a875d6",
   "metadata": {},
   "source": [
    "Let us understand the parameters in the XGBClassifier():\n",
    "\n",
    "base_score=0.5: Initial prediction for base learners.\n",
    "\n",
    "booster=gbtree: Considers the regression tree as the base learners.\n",
    "\n",
    "colsample_bylevel=1: Fraction of variables to consider for each level.\n",
    "\n",
    "colsample_bynode=1: Fraction of variables to consider for each split.\n",
    "\n",
    "colsample_bytree=1: Fraction of variables to consider for each tree.\n",
    "\n",
    "gamma=1: Value of minimum loss reduction required for the partition of the leaf node.\n",
    "\n",
    "gpu_id=-1: It considers all the GPU's.\n",
    "\n",
    "importance_type=gain: Importance type for calculating feature importance.\n",
    "\n",
    "interaction_constraints='': By default, no interaction between the features is allowed.\n",
    "\n",
    "learning_rate=0.300000012: It considers the contribution of each estimator in the classifier.\n",
    "\n",
    "max_delta_step=0: Maximum delta step allowed for each tree's weight estimation to be.\n",
    "\n",
    "max_depth=10: Maximum depth of each tree.\n",
    "\n",
    "min_child_weight=1: Minimum sum of hessian (p*(1-p)) required in a leaf node.\n",
    "\n",
    "missing=nan: Value to consider as a missing value.\n",
    "\n",
    "monotone_constraints='()': Constraint of variable monotonicity. (adding increasing/decreasing constraint on the variables )\n",
    "\n",
    "n_estimators=100: The number of estimators to consider.\n",
    "\n",
    "n_jobs=0: Number of parallel threads to run the classifier.\n",
    "\n",
    "num_parallel_tree=1: It is used for boosting random forest.\n",
    "\n",
    "objective='binary:logistic': Considers the binary logistic regression as a learning objective.\n",
    "\n",
    "random_state=0: It returns the same set of samples for each code implementation.\n",
    "\n",
    "reg_alpha=0: Lasso regularization term for weights.\n",
    "\n",
    "reg_lambda=1: Ridge regularization term for weights.\n",
    "\n",
    "scale_pos_weight=1: Ratio of the number of negative class to the positive class.\n",
    "\n",
    "subsample=1: Fraction of total training data points.\n",
    "\n",
    "tree_method='exact': Considers the exact greedy algorithm.\n",
    "\n",
    "validate_parameters=1: Performs validation on input paramerters.\n",
    "\n",
    "verbosity=None: Enables verbose output (by default, no progress will be printed)."
   ]
  },
  {
   "cell_type": "markdown",
   "id": "91ba78f0",
   "metadata": {},
   "source": [
    "##### Plot the confusion matrix."
   ]
  },
  {
   "cell_type": "code",
   "execution_count": 58,
   "id": "c5ec6b1c",
   "metadata": {},
   "outputs": [
    {
     "data": {
      "image/png": "[encoded data removed]",
      "text/plain": [
       "<Figure size 432x288 with 1 Axes>"
      ]
     },
     "metadata": {
      "needs_background": "light"
     },
     "output_type": "display_data"
    }
   ],
   "source": [
    "# call the function to plot the confusion matrix\n",
    "# pass the XGBoost model to the function\n",
    "plot_confusion_matrix(xgb_model)"
   ]
  },
  {
   "cell_type": "markdown",
   "id": "886fabe2",
   "metadata": {},
   "source": [
    "##### Calculate performance measures on the test set."
   ]
  },
  {
   "cell_type": "code",
   "execution_count": 59,
   "id": "7fa0628b",
   "metadata": {},
   "outputs": [
    {
     "name": "stdout",
     "output_type": "stream",
     "text": [
      "              precision    recall  f1-score   support\n",
      "\n",
      "           0       0.98      1.00      0.99     25403\n",
      "           1       1.00      0.95      0.97     10072\n",
      "\n",
      "    accuracy                           0.98     35475\n",
      "   macro avg       0.99      0.97      0.98     35475\n",
      "weighted avg       0.99      0.98      0.98     35475\n",
      "\n"
     ]
    }
   ],
   "source": [
    "# compute the performance measures on test data\n",
    "# call the function 'get_test_report'\n",
    "# pass the gradient boosting model to the function\n",
    "train_report = get_train_report(xgb_model)\n",
    "\n",
    "# print the performance measures\n",
    "print(train_report)"
   ]
  },
  {
   "cell_type": "code",
   "execution_count": 64,
   "id": "625d62ae",
   "metadata": {
    "scrolled": false
   },
   "outputs": [
    {
     "name": "stdout",
     "output_type": "stream",
     "text": [
      "              precision    recall  f1-score   support\n",
      "\n",
      "           0       0.74      0.90      0.81     10773\n",
      "           1       0.48      0.23      0.31      4431\n",
      "\n",
      "    accuracy                           0.70     15204\n",
      "   macro avg       0.61      0.56      0.56     15204\n",
      "weighted avg       0.66      0.70      0.66     15204\n",
      "\n"
     ]
    }
   ],
   "source": [
    "# compute the performance measures on test data\n",
    "# call the function 'get_test_report'\n",
    "# pass the XGBoost model to the function\n",
    "test_report = get_test_report(xgb_model)\n",
    "\n",
    "# print the performance measures\n",
    "print(test_report)"
   ]
  },
  {
   "cell_type": "code",
   "execution_count": 65,
   "id": "cc5a9945",
   "metadata": {},
   "outputs": [
    {
     "data": {
      "text/plain": [
       "0.9847780126849894"
      ]
     },
     "execution_count": 65,
     "metadata": {},
     "output_type": "execute_result"
    }
   ],
   "source": [
    "xgb_model.score(x_train,y_train)"
   ]
  },
  {
   "cell_type": "markdown",
   "id": "95c0eb23",
   "metadata": {},
   "source": [
    "#### Plot the ROC curve."
   ]
  },
  {
   "cell_type": "code",
   "execution_count": 66,
   "id": "b26d3db2",
   "metadata": {},
   "outputs": [
    {
     "data": {
      "image/png": "[encoded data removed]",
      "text/plain": [
       "<Figure size 432x288 with 1 Axes>"
      ]
     },
     "metadata": {
      "needs_background": "light"
     },
     "output_type": "display_data"
    }
   ],
   "source": [
    "# call the function to plot the ROC curve\n",
    "# pass the XGBoost model to the function\n",
    "plot_roc(xgb_model)"
   ]
  },
  {
   "cell_type": "markdown",
   "id": "d6e707c6",
   "metadata": {},
   "source": [
    "Interpretation: The red dotted line represents the ROC curve of a purely random classifier; a good classifier stays as far away from that line as possible (toward the top-left corner).\n",
    "From the above plot, we can see that the XGBoost model is away from the dotted line; with the AUC score 0.6461."
   ]
  },
  {
   "cell_type": "markdown",
   "id": "1b53ad28",
   "metadata": {},
   "source": [
    "### Light Gradient Boosting Machine"
   ]
  },
  {
   "cell_type": "code",
   "execution_count": 69,
   "id": "36f39c6d",
   "metadata": {},
   "outputs": [
    {
     "ename": "ModuleNotFoundError",
     "evalue": "No module named 'lightgbm'",
     "output_type": "error",
     "traceback": [
      "\u001b[1;31m---------------------------------------------------------------------------\u001b[0m",
      "\u001b[1;31mModuleNotFoundError\u001b[0m                       Traceback (most recent call last)",
      "Input \u001b[1;32mIn [69]\u001b[0m, in \u001b[0;36m<cell line: 1>\u001b[1;34m()\u001b[0m\n\u001b[1;32m----> 1\u001b[0m \u001b[38;5;28;01mimport\u001b[39;00m \u001b[38;5;21;01mlightgbm\u001b[39;00m \u001b[38;5;28;01mas\u001b[39;00m \u001b[38;5;21;01mlgb\u001b[39;00m\n\u001b[0;32m      2\u001b[0m \u001b[38;5;28;01mfrom\u001b[39;00m \u001b[38;5;21;01mlightgbm\u001b[39;00m \u001b[38;5;28;01mimport\u001b[39;00m LGBMClassifier\n",
      "\u001b[1;31mModuleNotFoundError\u001b[0m: No module named 'lightgbm'"
     ]
    }
   ],
   "source": [
    "import lightgbm as lgb\n",
    "from lightgbm import LGBMClassifier"
   ]
  },
  {
   "cell_type": "code",
   "execution_count": null,
   "id": "328a761d",
   "metadata": {},
   "outputs": [],
   "source": [
    "\n",
    "lgb = LGBMClassifier(class_weight='balanced')\n",
    "lgbm_model=lgb.fit(x_train, y_train)\n",
    " \n",
    "# Predicting the Target variable\n",
    "pred = lgbm_model.predict(_test)\n",
    "print(pred)\n",
    "accuracy = lgbm_model.score(x_test, y_test)\n",
    "print(accuracy)"
   ]
  },
  {
   "cell_type": "code",
   "execution_count": null,
   "id": "8f03c99e",
   "metadata": {},
   "outputs": [],
   "source": [
    "y_pred=lgbm_model.predict(x_test)\n",
    "\n",
    "cm = confusion_matrix(y_test, y_pred)\n",
    "\n",
    "conf_matrix = pd.DataFrame(data = cm,columns = ['Predicted:0','Predicted:1'], index = ['Actual:0','Actual:1'])\n",
    "\n",
    "sns.heatmap(conf_matrix, annot = True, fmt = 'd', cmap = ListedColormap(['lightskyblue']), cbar = False, \n",
    "            linewidths = 0.1, annot_kws = {'size':25})\n",
    "\n",
    "plt.xticks(fontsize = 20)\n",
    "plt.yticks(fontsize = 20)\n",
    "\n",
    "# display the plot\n",
    "plt.show()"
   ]
  },
  {
   "cell_type": "code",
   "execution_count": null,
   "id": "0273fc79",
   "metadata": {},
   "outputs": [],
   "source": [
    "lgbm_model.score(x_train,y_train)"
   ]
  },
  {
   "cell_type": "code",
   "execution_count": null,
   "id": "23934c10",
   "metadata": {},
   "outputs": [],
   "source": [
    "lgbm_model.score(x_test,y_test)"
   ]
  },
  {
   "cell_type": "markdown",
   "id": "235e3b38",
   "metadata": {},
   "source": [
    "#### 3.3.1 Tune the Hyperparameters (GridSearchCV)"
   ]
  },
  {
   "cell_type": "markdown",
   "id": "97f4ec2f",
   "metadata": {},
   "source": [
    "Let us tune the hyperparameters to obtain the optimal values for the XGBoost model."
   ]
  },
  {
   "cell_type": "code",
   "execution_count": null,
   "id": "0cde48b7",
   "metadata": {},
   "outputs": [],
   "source": [
    "%%time\n",
    "# create a dictionary with hyperparameters and its values\n",
    "# learning_rate: pass the list of boosting learning rates\n",
    "# max_depth: pass the range of values as the maximum tree depth for base learners\n",
    "# gamma: pass the list of minimum loss reduction values required to make a further partition on a leaf node of the tree\n",
    "tuning_parameters = {'learning_rate': [0.1, 0.2, 0.3, 0.4, 0.5, 0.6],\n",
    "                     'max_depth': range(3,10),\n",
    "                     'min_child_weight':range(1,5),\n",
    "                     \n",
    "                     'gamma': [0, 1, 2, 3, 4],\n",
    "                    'tree_method':['gpu_hist','hist'],\n",
    "                     'subsample':[0.25,0.5,1],\n",
    "                     'colsample_bytree':[0.25,0.5,1]\n",
    "                    }\n",
    "\n",
    "\n",
    "# instantiate the 'XGBClassifier' \n",
    "xgb_model = XGBClassifier()\n",
    "\n",
    "# use GridSearchCV() to find the optimal value of the hyperparameters\n",
    "# estimator: pass the XGBoost classifier model\n",
    "# param_grid: pass the list 'tuned_parameters'\n",
    "# cv: number of folds in k-fold i.e. here cv = 3\n",
    "# scoring: pass a measure to evaluate the model on test set\n",
    "xgb_grid = GridSearchCV(estimator = xgb_model, param_grid = tuning_parameters, cv = 5, scoring = 'roc_auc')\n",
    "\n",
    "# fit the model on X_train and y_train using fit()\n",
    "xgb_grid.fit(x_train, y_train)\n",
    "\n",
    "# get the best parameters\n",
    "print('Best parameters for XGBoost classifier: ', xgb_grid.best_params_, '\\n')"
   ]
  },
  {
   "cell_type": "code",
   "execution_count": null,
   "id": "b2dd5155",
   "metadata": {},
   "outputs": [],
   "source": [
    "# ## Best parameters for XGBoost classifier: \n",
    "# colsample_bytree= 1, gamma= 1, learning_rate= 0.2, \n",
    "#                                  max_depth=4, min_child_weight= 4, subsample= 1, tree_method= 'hist'"
   ]
  },
  {
   "cell_type": "markdown",
   "id": "e1475cfe",
   "metadata": {},
   "source": [
    "### Build the model using the tuned hyperparameters."
   ]
  },
  {
   "cell_type": "code",
   "execution_count": null,
   "id": "9aaf63bb",
   "metadata": {},
   "outputs": [],
   "source": [
    "#learning_rate = xgb_grid.best_params_.get('learning_rate'),\n",
    "                              # max_depth = xgb_grid.best_params_.get('max_depth'),\n",
    "                              #gamma = xgb_grid.best_params_.get('gamma'),\n",
    "                              #tree_method=xgb_grid.best_params_.get('tree_method'),\n",
    "                              #subsample=xgb_grid.best_params_.get('subsample'),\n",
    "                              #colsample_bytree=xgb_grid.best_params_.get('colsample_bytree')\n",
    "\n",
    "# instantiate the 'XGBClassifier'\n",
    "# 'best_params_' returns the dictionary containing best parameter values and parameter name  \n",
    "# 'get()' returns the value of specified parameter\n",
    "xgb_grid_model = XGBClassifier( colsample_bytree= 1, gamma= 1, learning_rate= 0.2, \n",
    "                                 max_depth=4, min_child_weight= 4, subsample= 1, tree_method= 'hist' )\n",
    "\n",
    "\n",
    "\n",
    "# use fit() to fit the model on the train set\n",
    "xgb_model = xgb_grid_model.fit(x_train, y_train)\n",
    "\n",
    "# print the performance measures for test set for the model with best parameters\n",
    "print('Classification Report for test set:\\n', get_test_report(xgb_model))"
   ]
  },
  {
   "cell_type": "code",
   "execution_count": null,
   "id": "c4097586",
   "metadata": {},
   "outputs": [],
   "source": [
    "from sklearn.metrics import confusion_matrix\n",
    "from sklearn.model_selection import cross_val_score\n",
    "scores=cross_val_score(xgb_model,X_train,y_train,scoring='recall')\n",
    "np.mean(scores)"
   ]
  },
  {
   "cell_type": "code",
   "execution_count": null,
   "id": "d4889572",
   "metadata": {},
   "outputs": [],
   "source": [
    "y_pred=xgb_model.predict(x_test)\n",
    "\n",
    "cm = confusion_matrix(y_test, y_pred)\n",
    "\n",
    "conf_matrix = pd.DataFrame(data = cm,columns = ['Predicted:0','Predicted:1'], index = ['Actual:0','Actual:1'])\n",
    "\n",
    "sns.heatmap(conf_matrix, annot = True, fmt = 'd', cmap = ListedColormap(['lightskyblue']), cbar = False, \n",
    "            linewidths = 0.1, annot_kws = {'size':25})\n",
    "\n",
    "plt.xticks(fontsize = 20)\n",
    "plt.yticks(fontsize = 20)\n",
    "\n",
    "# display the plot\n",
    "plt.show()"
   ]
  },
  {
   "cell_type": "code",
   "execution_count": null,
   "id": "b96d6782",
   "metadata": {},
   "outputs": [],
   "source": [
    "xgb_model.score(x_train,y_train)"
   ]
  },
  {
   "cell_type": "code",
   "execution_count": null,
   "id": "fa32544c",
   "metadata": {},
   "outputs": [],
   "source": [
    "xgb_model.score(x_test,y_test)"
   ]
  },
  {
   "cell_type": "markdown",
   "id": "ab1569f9",
   "metadata": {},
   "source": [
    "### Identify the Important Features using XGBoost"
   ]
  },
  {
   "cell_type": "markdown",
   "id": "342dec45",
   "metadata": {},
   "source": [
    "Let us create a barplot to identify the important feature in the dataset.\n",
    "\n",
    "The method feature_importances_ returns the value corresponding to each feature which is defined as the ratio of the average gain across all the splits in which the feature is used to the total average gain of all the features.\n",
    "\n",
    "There are different methods like weight, cover, total_gain and total_cover which returns the feature importance based on different criteria.\n",
    "\n",
    "weight: It is the frequency of a feature used to split the data in all the trees.\n",
    "\n",
    "cover: It is the average cover value of a feature for all the splits.\n",
    "\n",
    "total_gain: It is the sum of gain of a feature for all the splits.\n",
    "\n",
    "total_cover: It is the sum of a cover of a feature for all the splits."
   ]
  },
  {
   "cell_type": "code",
   "execution_count": null,
   "id": "f521e70d",
   "metadata": {},
   "outputs": [],
   "source": [
    "# create a dataframe that stores the feature names and their importance\n",
    "# 'feature_importances_' returns the features based on the average gain \n",
    "important_features = pd.DataFrame({'Features': x_train.columns, \n",
    "                                   'Importance': xgb_model.feature_importances_})\n",
    "\n",
    "# sort the dataframe in the descending order according to the feature importance\n",
    "important_features = important_features.sort_values('Importance', ascending = False)\n",
    "\n",
    "# create a barplot to visualize the features based on their importance\n",
    "sns.barplot(x = 'Importance', y = 'Features', data = important_features)\n",
    "\n",
    "# add plot and axes labels\n",
    "# set text size using 'fontsize'\n",
    "plt.title('Feature Importance', fontsize = 15)\n",
    "plt.xlabel('Importance', fontsize = 15)\n",
    "plt.ylabel('Features', fontsize = 15)\n",
    "\n",
    "# display the plot\n",
    "plt.show()"
   ]
  },
  {
   "cell_type": "markdown",
   "id": "3f29a61b",
   "metadata": {},
   "source": [
    "# 4. Stack Generalization"
   ]
  },
  {
   "cell_type": "markdown",
   "id": "b506b05c",
   "metadata": {},
   "source": [
    "###### Build the stacking classifier using the Random forest, KNN and Naive bayes as base learners (consider the hyperparameters tuned using GridSearchCV in the previous sessions)."
   ]
  },
  {
   "cell_type": "code",
   "execution_count": null,
   "id": "e29121bf",
   "metadata": {},
   "outputs": [],
   "source": [
    "%%time\n",
    "# consider the various algorithms as base learners\n",
    "base_learners = [('rf_model', RandomForestClassifier(criterion = 'entropy', max_depth = 10, max_features = 'sqrt', \n",
    "                                                     max_leaf_nodes = 8, min_samples_leaf = 5, min_samples_split = 2, \n",
    "                                                     n_estimators = 50, random_state = 10)),\n",
    "                 ('xgb_model',XGBClassifier(colsample_bytree= 1, gamma= 1, learning_rate= 0.2, \n",
    "                                 max_depth=4, min_child_weight= 4, subsample= 1, tree_method= 'hist' )), \n",
    "                 ('KNN_model', KNeighborsClassifier(n_neighbors = 17, metric = 'euclidean')),\n",
    "                 ('NB_model', GaussianNB())]\n",
    "\n",
    "# initialize stacking classifier \n",
    "# pass the base learners to the parameter, 'estimators'\n",
    "# pass the Naive Bayes model as the 'final_estimator'/ meta model\n",
    "stack_model = StackingClassifier(estimators = base_learners, final_estimator = GaussianNB())\n",
    "\n",
    "# fit the model on train dataset\n",
    "stack_model.fit(x_train, y_train)"
   ]
  },
  {
   "cell_type": "markdown",
   "id": "dd3559a8",
   "metadata": {},
   "source": [
    "#### Plot the confusion matrix."
   ]
  },
  {
   "cell_type": "code",
   "execution_count": null,
   "id": "e2febbb5",
   "metadata": {},
   "outputs": [],
   "source": [
    "# call the function to plot the confusion matrix\n",
    "# pass the stack model to the function\n",
    "plot_confusion_matrix(stack_model)"
   ]
  },
  {
   "cell_type": "markdown",
   "id": "3e9692aa",
   "metadata": {},
   "source": [
    "##### Calculate performance measures on the test set."
   ]
  },
  {
   "cell_type": "code",
   "execution_count": null,
   "id": "21e83d59",
   "metadata": {},
   "outputs": [],
   "source": [
    "# compute the performance measures on test data\n",
    "# call the function 'get_test_report'\n",
    "# pass the XGBoost model to the function\n",
    "test_report = get_test_report(stack_model)\n",
    "\n",
    "# print the performance measures\n",
    "print(test_report)"
   ]
  },
  {
   "cell_type": "code",
   "execution_count": null,
   "id": "8921c417",
   "metadata": {},
   "outputs": [],
   "source": [
    "# train report\n",
    "stack_model.score(x_train,y_train)"
   ]
  },
  {
   "cell_type": "code",
   "execution_count": null,
   "id": "af03df10",
   "metadata": {},
   "outputs": [],
   "source": [
    "stack_model.score(x_test,y_test)"
   ]
  },
  {
   "cell_type": "markdown",
   "id": "0cd64c22",
   "metadata": {},
   "source": [
    "#### Plot the ROC curve."
   ]
  },
  {
   "cell_type": "code",
   "execution_count": null,
   "id": "79ed701b",
   "metadata": {},
   "outputs": [],
   "source": [
    "# call the function to plot the ROC curve\n",
    "# pass the stack model to the function\n",
    "plot_roc(stack_model)"
   ]
  },
  {
   "cell_type": "markdown",
   "id": "2d69cca1",
   "metadata": {},
   "source": [
    "Interpretation: The red dotted line represents the ROC curve of a purely random classifier; a good classifier stays as far away from that line as possible (toward the top-left corner).\n",
    "From the above plot, we can see that the stacking model is away from the dotted line; with the AUC score 0.6621."
   ]
  },
  {
   "cell_type": "markdown",
   "id": "01bfd93f",
   "metadata": {},
   "source": [
    "# 4. Stack Generalization 2"
   ]
  },
  {
   "cell_type": "markdown",
   "id": "20861c9e",
   "metadata": {},
   "source": [
    "###### Build the stacking classifier using the Random forest, KNN and Naive bayes as base learners (consider the hyperparameters tuned using GridSearchCV in the previous sessions)."
   ]
  },
  {
   "cell_type": "code",
   "execution_count": null,
   "id": "68c85089",
   "metadata": {},
   "outputs": [],
   "source": [
    "%%time\n",
    "# consider the various algorithms as base learners\n",
    "base_learners = [('rf_model', RandomForestClassifier(criterion='gini', max_depth= 10, max_features= 'sqrt', \n",
    "                                                     max_leaf_nodes= 11, min_samples_leaf= 5, min_samples_split=2, n_estimators= 50)),\n",
    "                 ('xgb_model',XGBClassifier(colsample_bytree= 1, gamma= 1, learning_rate= 0.2, max_depth= 4, \n",
    "                                            min_child_weight= 4, subsample= 1, tree_method= 'hist')), \n",
    "                 ('Gradient_model',GradientBoostingClassifier(n_estimators = 150, max_depth = 10, random_state = 10)),\n",
    "                 ('KNN_model', KNeighborsClassifier(n_neighbors = 23, metric = 'manhattan')),\n",
    "                 ('NB_model', GaussianNB())]\n",
    "\n",
    "# initialize stacking classifier \n",
    "# pass the base learners to the parameter, 'estimators'\n",
    "# pass the Naive Bayes model as the 'final_estimator'/ meta model\n",
    "stack_model = StackingClassifier(estimators = base_learners, final_estimator = XGBClassifier())\n",
    "\n",
    "# fit the model on train dataset\n",
    "stack_model.fit(x_train, y_train)"
   ]
  },
  {
   "cell_type": "markdown",
   "id": "862956cf",
   "metadata": {},
   "source": [
    "#### Plot the confusion matrix."
   ]
  },
  {
   "cell_type": "code",
   "execution_count": null,
   "id": "e8c8347e",
   "metadata": {},
   "outputs": [],
   "source": [
    "# call the function to plot the confusion matrix\n",
    "# pass the stack model to the function\n",
    "plot_confusion_matrix(stack_model)"
   ]
  },
  {
   "cell_type": "markdown",
   "id": "68349ad7",
   "metadata": {},
   "source": [
    "##### Calculate performance measures on the test set."
   ]
  },
  {
   "cell_type": "code",
   "execution_count": null,
   "id": "9421662e",
   "metadata": {},
   "outputs": [],
   "source": [
    "# compute the performance measures on test data\n",
    "# call the function 'get_test_report'\n",
    "# pass the XGBoost model to the function\n",
    "test_report = get_test_report(stack_model)\n",
    "\n",
    "# print the performance measures\n",
    "print(test_report)"
   ]
  },
  {
   "cell_type": "code",
   "execution_count": null,
   "id": "0beb2423",
   "metadata": {},
   "outputs": [],
   "source": [
    "stack_model.score(x_train,y_train)"
   ]
  },
  {
   "cell_type": "code",
   "execution_count": null,
   "id": "2e970d69",
   "metadata": {},
   "outputs": [],
   "source": [
    "stack_model.score(x_test,y_test)"
   ]
  },
  {
   "cell_type": "markdown",
   "id": "30ccf4b3",
   "metadata": {},
   "source": [
    "#### Plot the ROC curve."
   ]
  },
  {
   "cell_type": "code",
   "execution_count": null,
   "id": "69567ef7",
   "metadata": {},
   "outputs": [],
   "source": [
    "# call the function to plot the ROC curve\n",
    "# pass the stack model to the function\n",
    "plot_roc(stack_model)"
   ]
  },
  {
   "cell_type": "markdown",
   "id": "6a93ee93",
   "metadata": {},
   "source": [
    "Interpretation: The red dotted line represents the ROC curve of a purely random classifier; a good classifier stays as far away from that line as possible (toward the top-left corner).\n",
    "From the above plot, we can see that the stacking model is away from the dotted line; with the AUC score 0.6568."
   ]
  },
  {
   "cell_type": "markdown",
   "id": "9e6f6742",
   "metadata": {},
   "source": [
    "# 4. Stack Generalization 3"
   ]
  },
  {
   "cell_type": "markdown",
   "id": "eca6cb82",
   "metadata": {},
   "source": [
    "###### Build the stacking classifier using the Random forest, KNN and Naive bayes as base learners (consider the hyperparameters tuned using GridSearchCV in the previous sessions)."
   ]
  },
  {
   "cell_type": "code",
   "execution_count": null,
   "id": "709533a3",
   "metadata": {},
   "outputs": [],
   "source": [
    "%%time\n",
    "# consider the various algorithms as base learners\n",
    "base_learners = [('rf_model', RandomForestClassifier(criterion='gini', max_depth= 10, max_features= 'sqrt', \n",
    "                                                     max_leaf_nodes= 11, min_samples_leaf= 5, min_samples_split=2, n_estimators= 50)),\n",
    "                 ('xgb_model',XGBClassifier(colsample_bytree= 1, gamma= 1, learning_rate= 0.2, max_depth= 4, \n",
    "                                            min_child_weight= 4, subsample= 1, tree_method= 'hist')), \n",
    "                 ('Gradient_model',GradientBoostingClassifier(n_estimators = 150, max_depth = 10, random_state = 10)),\n",
    "                 ('KNN_model', KNeighborsClassifier(n_neighbors = 23, metric = 'manhattan')),\n",
    "                 ('NB_model', GaussianNB())]\n",
    "\n",
    "# initialize stacking classifier \n",
    "# pass the base learners to the parameter, 'estimators'\n",
    "# pass the Naive Bayes model as the 'final_estimator'/ meta model\n",
    "stack_model = StackingClassifier(estimators = base_learners, final_estimator = XGBClassifier())\n",
    "\n",
    "# fit the model on train dataset\n",
    "stack_model.fit(x_train, y_train)"
   ]
  },
  {
   "cell_type": "markdown",
   "id": "2c8264db",
   "metadata": {},
   "source": [
    "##### Plot the confusion matrix."
   ]
  },
  {
   "cell_type": "code",
   "execution_count": null,
   "id": "bad31ba8",
   "metadata": {},
   "outputs": [],
   "source": [
    "# call the function to plot the confusion matrix\n",
    "# pass the stack model to the function\n",
    "plot_confusion_matrix(stack_model)"
   ]
  },
  {
   "cell_type": "markdown",
   "id": "bceea80c",
   "metadata": {},
   "source": [
    "###### Calculate performance measures on the test set."
   ]
  },
  {
   "cell_type": "code",
   "execution_count": null,
   "id": "13480d9b",
   "metadata": {},
   "outputs": [],
   "source": [
    "# compute the performance measures on test data\n",
    "# call the function 'get_test_report'\n",
    "# pass the XGBoost model to the function\n",
    "test_report = get_test_report(stack_model)\n",
    "\n",
    "# print the performance measures\n",
    "print(test_report)"
   ]
  },
  {
   "cell_type": "code",
   "execution_count": null,
   "id": "2c266e42",
   "metadata": {},
   "outputs": [],
   "source": [
    "stack_model.score(x_train,y_train)"
   ]
  },
  {
   "cell_type": "code",
   "execution_count": null,
   "id": "ab35d2f6",
   "metadata": {},
   "outputs": [],
   "source": [
    "stack_model.score(x_test,y_test)"
   ]
  },
  {
   "cell_type": "markdown",
   "id": "7a0aae40",
   "metadata": {},
   "source": [
    "#### Plot the ROC curve."
   ]
  },
  {
   "cell_type": "code",
   "execution_count": null,
   "id": "9f3e485e",
   "metadata": {},
   "outputs": [],
   "source": [
    "# call the function to plot the ROC curve\n",
    "# pass the stack model to the function\n",
    "plot_roc(stack_model)"
   ]
  },
  {
   "cell_type": "markdown",
   "id": "b61b0aa6",
   "metadata": {},
   "source": [
    "Interpretation: The red dotted line represents the ROC curve of a purely random classifier; a good classifier stays as far away from that line as possible (toward the top-left corner).\n",
    "From the above plot, we can see that the stacking model is away from the dotted line; with the AUC score 0.6621."
   ]
  },
  {
   "cell_type": "code",
   "execution_count": null,
   "id": "a0ed6414",
   "metadata": {},
   "outputs": [],
   "source": []
  },
  {
   "cell_type": "code",
   "execution_count": null,
   "id": "ff45ff5b",
   "metadata": {},
   "outputs": [],
   "source": []
  }
 ],
 "metadata": {
  "kernelspec": {
   "display_name": "Python 3 (ipykernel)",
   "language": "python",
   "name": "python3"
  },
  "language_info": {
   "codemirror_mode": {
    "name": "ipython",
    "version": 3
   },
   "file_extension": ".py",
   "mimetype": "text/x-python",
   "name": "python",
   "nbconvert_exporter": "python",
   "pygments_lexer": "ipython3",
   "version": "3.9.12"
  }
 },
 "nbformat": 4,
 "nbformat_minor": 5
}
